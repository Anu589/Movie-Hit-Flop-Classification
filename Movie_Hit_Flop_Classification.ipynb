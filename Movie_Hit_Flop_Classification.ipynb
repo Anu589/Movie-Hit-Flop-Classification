{
  "nbformat": 4,
  "nbformat_minor": 0,
  "metadata": {
    "colab": {
      "provenance": [],
      "authorship_tag": "ABX9TyPx2lYMzU0Xw8wdzt8UJ1WN",
      "include_colab_link": true
    },
    "kernelspec": {
      "name": "python3",
      "display_name": "Python 3"
    },
    "language_info": {
      "name": "python"
    }
  },
  "cells": [
    {
      "cell_type": "markdown",
      "metadata": {
        "id": "view-in-github",
        "colab_type": "text"
      },
      "source": [
        "<a href=\"https://colab.research.google.com/github/Anu589/Movie-Hit-Flop-Classification/blob/main/Movie_Hit_Flop_Classification.ipynb\" target=\"_parent\"><img src=\"https://colab.research.google.com/assets/colab-badge.svg\" alt=\"Open In Colab\"/></a>"
      ]
    },
    {
      "cell_type": "markdown",
      "source": [
        "<h1 align=\"center\"><b>Movie Success Classifier Using Decision Tree Classifiers and Naive Bayes Classifiers</b></h1>\n",
        "<h6 align=\"center\">Movie success classifier predicts 'Hit' or 'Flop'<h6 align=\"center\">\n",
        "<h3 align=\"center\"><b>Name: Anushka Chakraborty</b></h2>\n",
        "<h3 align=\"center\"><b>Roll No: MDS202408</b></h2>\n"
      ],
      "metadata": {
        "id": "I12n2IlflxnK"
      }
    },
    {
      "cell_type": "markdown",
      "source": [
        "## 1. **Introduction**\n",
        "\n",
        "The goal of this project is to predict whether a movie will be a \"Hit\" or \"Flop\" based on various features such as budget, genre, and other attributes. The dataset contains financial and categorical details of movies. We employ three machine learning models for classification:\n",
        "\n",
        "- Decision Tree (Gini Index)\n",
        "\n",
        "- Decision Tree (Entropy/Information Gain)\n",
        "\n",
        "- Naive Bayes Classifier\n",
        "\n",
        "We compare these models based on their accuracy, execution time, and memory usage."
      ],
      "metadata": {
        "id": "T4eMdrJwaqoV"
      }
    },
    {
      "cell_type": "markdown",
      "source": [
        "#### System and Utility Packages\n",
        "\n",
        "- `sys`: Used to check the Python version.\n",
        "- `pathlib`: Provides an object-oriented interface for filesystem paths.\n",
        "- `time`: Enables time-related functions.\n",
        "- `tracemalloc`: Tracks memory allocations.\n",
        "- `packaging.version`: Compares version strings.\n",
        "- `sklearn`: Used for machine learning (version check enforced).\n",
        "\n",
        "Raises:\n",
        "- `AssertionError`: If Python version < 3.7 or `scikit-learn` version < 1.0.1.\n"
      ],
      "metadata": {
        "id": "2waLRZBXbrQ-"
      }
    },
    {
      "cell_type": "code",
      "source": [
        "import sys\n",
        "assert sys.version_info >= (3, 7)\n",
        "from pathlib import Path\n",
        "import time\n",
        "import tracemalloc\n",
        "from packaging import version\n",
        "assert version.parse(sklearn.__version__) >= version.parse(\"1.0.1\")"
      ],
      "metadata": {
        "id": "jmqrCaGdIxGc"
      },
      "execution_count": 416,
      "outputs": []
    },
    {
      "cell_type": "markdown",
      "source": [
        "## 2. **Data Handling and Preprocessing**\n",
        "\n",
        "- `pandas`: Data manipulation and analysis.\n",
        "- `matplotlib.pyplot`: Visualization library.\n",
        "- `seaborn`: Statistical data visualization built on `matplotlib`.\n",
        "- `sklearn`: Machine learning library (version check enforced)."
      ],
      "metadata": {
        "id": "iVAi1RA1bbBv"
      }
    },
    {
      "cell_type": "code",
      "source": [
        "import pandas as pd\n",
        "import matplotlib.pyplot as plt\n",
        "import seaborn as sns\n",
        "import sklearn"
      ],
      "metadata": {
        "id": "cDIWi6oIPUXA"
      },
      "execution_count": 417,
      "outputs": []
    },
    {
      "cell_type": "markdown",
      "source": [
        "These settings ensure that all plots have a uniform and professional appearance.\n",
        "\n",
        "Functions Used:\n",
        "- `plt.rc('font', size=14)`: Sets the default font size.\n",
        "- `plt.rc('axes', labelsize=14, titlesize=14)`: Adjusts axes labels and title sizes.\n",
        "- `plt.rc('legend', fontsize=14)`: Configures legend font size.\n",
        "- `plt.rc('xtick', labelsize=10)`: Sets x-axis tick label size.\n",
        "- `plt.rc('ytick', labelsize=10)`: Sets y-axis tick label size.\n"
      ],
      "metadata": {
        "id": "itMqhqDCbuVW"
      }
    },
    {
      "cell_type": "code",
      "source": [
        "plt.rc('font', size=14)\n",
        "plt.rc('axes', labelsize=14, titlesize=14)\n",
        "plt.rc('legend', fontsize=14)\n",
        "plt.rc('xtick', labelsize=10)\n",
        "plt.rc('ytick', labelsize=10)"
      ],
      "metadata": {
        "id": "Sk1zHylnIuKb"
      },
      "execution_count": 418,
      "outputs": []
    },
    {
      "cell_type": "markdown",
      "source": [
        "Function:\n",
        "- `save_fig(fig_id, tight_layout=True, fig_extension=\"png\", resolution=300)`:  \n",
        "- Saves a Matplotlib figure with the given parameters.\n",
        "  - `fig_id` (str): Filename for the saved figure.\n",
        "  - `tight_layout` (bool): If `True`, applies `plt.tight_layout()` for better spacing.\n",
        "  - `fig_extension` (str): File format (default: `\"png\"`).\n",
        "  - `resolution` (int): DPI resolution for the saved figure (default: `300`).\n",
        "  - Saves the figure in `IMAGES_PATH` using `plt.savefig()`.\n"
      ],
      "metadata": {
        "id": "8BFZwzJrbz85"
      }
    },
    {
      "cell_type": "code",
      "source": [
        "IMAGES_PATH = Path() / \"images movie\" / \"movieset_images\"\n",
        "IMAGES_PATH.mkdir(parents=True, exist_ok=True)\n",
        "def save_fig(fig_id, tight_layout=True, fig_extension=\"png\", resolution=300):\n",
        " path = IMAGES_PATH / f\"{fig_id}.{fig_extension}\"\n",
        " if tight_layout:\n",
        "  plt.tight_layout()\n",
        " plt.savefig(path, format=fig_extension, dpi=resolution)"
      ],
      "metadata": {
        "id": "dz82lcKiI8vE"
      },
      "execution_count": 419,
      "outputs": []
    },
    {
      "cell_type": "markdown",
      "source": [
        "## 3. **Data Loading and Initial Exploration**\n",
        "- The dataset is loaded from a CSV file."
      ],
      "metadata": {
        "id": "SG7IqA87b92g"
      }
    },
    {
      "cell_type": "code",
      "source": [
        "url = \"/content/Data for repository.csv\""
      ],
      "metadata": {
        "id": "JiiSn9iWPWY3"
      },
      "execution_count": 420,
      "outputs": []
    },
    {
      "cell_type": "markdown",
      "source": [
        "- The separator is ; (used in European CSV formats).\n",
        "- This file also has ',' as an additional seperator."
      ],
      "metadata": {
        "id": "HiOmQdWBcBXL"
      }
    },
    {
      "cell_type": "code",
      "source": [
        "df = pd.read_csv(url, sep=\";\")\n",
        "df = pd.read_csv(url, sep=\",\")"
      ],
      "metadata": {
        "id": "CKHKz09TPw0w"
      },
      "execution_count": 421,
      "outputs": []
    },
    {
      "cell_type": "markdown",
      "source": [
        "- Displays the first five rows of the dataset."
      ],
      "metadata": {
        "id": "TnQZoRp2cJ4s"
      }
    },
    {
      "cell_type": "code",
      "source": [
        "print(df.head())"
      ],
      "metadata": {
        "colab": {
          "base_uri": "https://localhost:8080/"
        },
        "id": "3I1RKXYtP8zG",
        "outputId": "c4398880-24c3-41bf-d5da-8d52c0e444dd"
      },
      "execution_count": 422,
      "outputs": [
        {
          "output_type": "stream",
          "name": "stdout",
          "text": [
            "         Movie Name Release Period Whether Remake Whether Franchise     Genre  \\\n",
            "0       Golden Boys         Normal             No                No  suspense   \n",
            "1     Kaccha Limboo        Holiday             No                No     drama   \n",
            "2  Not A Love Story        Holiday             No                No  thriller   \n",
            "3        Qaidi Band        Holiday             No                No     drama   \n",
            "4         Chaatwali        Holiday             No                No     adult   \n",
            "\n",
            "  New Actor New Director New Music Director         Lead Star  \\\n",
            "0       Yes           No                 No      Jeet Goswami   \n",
            "1       Yes           No                Yes  Karan Bhanushali   \n",
            "2        No           No                 No        Mahie Gill   \n",
            "3       Yes           No                 No        Aadar Jain   \n",
            "4       Yes          Yes                Yes        Aadil Khan   \n",
            "\n",
            "          Director   Music Director  Number of Screens  Revenue(INR)  \\\n",
            "0       Ravi Varma    Baba Jagirdar                  5       5000000   \n",
            "1    Sagar Ballary  Amardeep Nijjer                 75      15000000   \n",
            "2  Ram Gopal Verma   Sandeep Chowta                525      75000000   \n",
            "3     Habib Faisal     Amit Trivedi                800     210000000   \n",
            "4       Aadil Khan     Babloo Ustad                  1       1000000   \n",
            "\n",
            "   Budget(INR)  \n",
            "0        85000  \n",
            "1       825000  \n",
            "2     56700000  \n",
            "3      4500000  \n",
            "4      1075000  \n"
          ]
        }
      ]
    },
    {
      "cell_type": "markdown",
      "source": [
        "- Shows column names, data types, and missing values."
      ],
      "metadata": {
        "id": "Rmci3bxDcNCu"
      }
    },
    {
      "cell_type": "code",
      "source": [
        "print(df.info())"
      ],
      "metadata": {
        "colab": {
          "base_uri": "https://localhost:8080/"
        },
        "id": "D_cTYCFAMPgL",
        "outputId": "8d439c45-314f-43fc-8f5a-7598d386e3a0"
      },
      "execution_count": 423,
      "outputs": [
        {
          "output_type": "stream",
          "name": "stdout",
          "text": [
            "<class 'pandas.core.frame.DataFrame'>\n",
            "RangeIndex: 1698 entries, 0 to 1697\n",
            "Data columns (total 14 columns):\n",
            " #   Column              Non-Null Count  Dtype \n",
            "---  ------              --------------  ----- \n",
            " 0   Movie Name          1698 non-null   object\n",
            " 1   Release Period      1698 non-null   object\n",
            " 2   Whether Remake      1698 non-null   object\n",
            " 3   Whether Franchise   1698 non-null   object\n",
            " 4   Genre               1698 non-null   object\n",
            " 5   New Actor           1698 non-null   object\n",
            " 6   New Director        1698 non-null   object\n",
            " 7   New Music Director  1698 non-null   object\n",
            " 8   Lead Star           1698 non-null   object\n",
            " 9   Director            1698 non-null   object\n",
            " 10  Music Director      1698 non-null   object\n",
            " 11  Number of Screens   1698 non-null   int64 \n",
            " 12  Revenue(INR)        1698 non-null   int64 \n",
            " 13  Budget(INR)         1698 non-null   int64 \n",
            "dtypes: int64(3), object(11)\n",
            "memory usage: 185.8+ KB\n",
            "None\n"
          ]
        }
      ]
    },
    {
      "cell_type": "markdown",
      "source": [
        "- Define target variable (Hit or Flop)"
      ],
      "metadata": {
        "id": "ndyfQwPI_KX6"
      }
    },
    {
      "cell_type": "code",
      "source": [
        "df['Hit/Flop'] = (df['Revenue(INR)'] > df['Budget(INR)']).astype(int)"
      ],
      "metadata": {
        "id": "cAOWbPcGsteT"
      },
      "execution_count": 424,
      "outputs": []
    },
    {
      "cell_type": "markdown",
      "source": [
        "- Shows column names, data types, and missing values."
      ],
      "metadata": {
        "id": "wMZTpXKy_j2g"
      }
    },
    {
      "cell_type": "code",
      "source": [
        "df.info()"
      ],
      "metadata": {
        "colab": {
          "base_uri": "https://localhost:8080/"
        },
        "id": "HSAa8yIxsuSI",
        "outputId": "f70c6142-eec2-4b73-c866-c86bc751a609"
      },
      "execution_count": 425,
      "outputs": [
        {
          "output_type": "stream",
          "name": "stdout",
          "text": [
            "<class 'pandas.core.frame.DataFrame'>\n",
            "RangeIndex: 1698 entries, 0 to 1697\n",
            "Data columns (total 15 columns):\n",
            " #   Column              Non-Null Count  Dtype \n",
            "---  ------              --------------  ----- \n",
            " 0   Movie Name          1698 non-null   object\n",
            " 1   Release Period      1698 non-null   object\n",
            " 2   Whether Remake      1698 non-null   object\n",
            " 3   Whether Franchise   1698 non-null   object\n",
            " 4   Genre               1698 non-null   object\n",
            " 5   New Actor           1698 non-null   object\n",
            " 6   New Director        1698 non-null   object\n",
            " 7   New Music Director  1698 non-null   object\n",
            " 8   Lead Star           1698 non-null   object\n",
            " 9   Director            1698 non-null   object\n",
            " 10  Music Director      1698 non-null   object\n",
            " 11  Number of Screens   1698 non-null   int64 \n",
            " 12  Revenue(INR)        1698 non-null   int64 \n",
            " 13  Budget(INR)         1698 non-null   int64 \n",
            " 14  Hit/Flop            1698 non-null   int64 \n",
            "dtypes: int64(4), object(11)\n",
            "memory usage: 199.1+ KB\n"
          ]
        }
      ]
    },
    {
      "cell_type": "code",
      "source": [
        "unique_values = df[\"Movie Name\"].unique()\n",
        "print(unique_values)"
      ],
      "metadata": {
        "colab": {
          "base_uri": "https://localhost:8080/"
        },
        "id": "I1XrNUsiMYnD",
        "outputId": "b4d734e1-e56d-429c-8d3a-e7f1b6d28a48"
      },
      "execution_count": 426,
      "outputs": [
        {
          "output_type": "stream",
          "name": "stdout",
          "text": [
            "['Golden Boys' 'Kaccha Limboo' 'Not A Love Story' ...\n",
            " 'Dunno Y Na Jaane Kyun' 'Taj Mahal - An Eternal Love Story'\n",
            " 'Mr. Hot Mr. Kool']\n"
          ]
        }
      ]
    },
    {
      "cell_type": "code",
      "source": [
        "unique_values = df[\"Release Period\"].unique()\n",
        "print(unique_values)"
      ],
      "metadata": {
        "colab": {
          "base_uri": "https://localhost:8080/"
        },
        "id": "yi2qguMJMdZ3",
        "outputId": "5304be13-4f74-4c49-a9a0-940c1ed62606"
      },
      "execution_count": 427,
      "outputs": [
        {
          "output_type": "stream",
          "name": "stdout",
          "text": [
            "['Normal' 'Holiday']\n"
          ]
        }
      ]
    },
    {
      "cell_type": "code",
      "source": [
        "unique_values = df[\"Whether Remake\"].unique()\n",
        "print(unique_values)"
      ],
      "metadata": {
        "colab": {
          "base_uri": "https://localhost:8080/"
        },
        "id": "we_6_mi0Md4m",
        "outputId": "72b887d5-de09-481d-a3f5-7f7d859d0884"
      },
      "execution_count": 428,
      "outputs": [
        {
          "output_type": "stream",
          "name": "stdout",
          "text": [
            "['No' 'Yes']\n"
          ]
        }
      ]
    },
    {
      "cell_type": "code",
      "source": [
        "unique_values = df[\"Genre\"].unique()\n",
        "print(unique_values)"
      ],
      "metadata": {
        "colab": {
          "base_uri": "https://localhost:8080/"
        },
        "id": "5dgK56u3Mesg",
        "outputId": "71eda920-8fba-431f-c3d5-658963ac5bfa"
      },
      "execution_count": 429,
      "outputs": [
        {
          "output_type": "stream",
          "name": "stdout",
          "text": [
            "['suspense' 'drama' 'thriller' 'adult' 'comedy' 'action' 'love_story'\n",
            " 'rom__com' 'horror' 'fantasy' 'masala' 'mythological' 'animation'\n",
            " 'documentary']\n"
          ]
        }
      ]
    },
    {
      "cell_type": "code",
      "source": [
        "unique_values = df[\"Whether Franchise\"].unique()\n",
        "print(unique_values)"
      ],
      "metadata": {
        "colab": {
          "base_uri": "https://localhost:8080/"
        },
        "id": "nGZEEIPtMtiF",
        "outputId": "cb9f28c3-87b8-447e-fbce-5f09ec273acc"
      },
      "execution_count": 430,
      "outputs": [
        {
          "output_type": "stream",
          "name": "stdout",
          "text": [
            "['No' 'Yes']\n"
          ]
        }
      ]
    },
    {
      "cell_type": "code",
      "source": [
        "unique_values = df[\"New Actor\"].unique()\n",
        "print(unique_values)"
      ],
      "metadata": {
        "colab": {
          "base_uri": "https://localhost:8080/"
        },
        "id": "_50VTZpZMvXC",
        "outputId": "b2962a6d-4bf6-4865-8ed0-7d12b45d318c"
      },
      "execution_count": 431,
      "outputs": [
        {
          "output_type": "stream",
          "name": "stdout",
          "text": [
            "['Yes' 'No']\n"
          ]
        }
      ]
    },
    {
      "cell_type": "code",
      "source": [
        "unique_values = df[\"New Director\"].unique()\n",
        "print(unique_values)"
      ],
      "metadata": {
        "colab": {
          "base_uri": "https://localhost:8080/"
        },
        "id": "-OLRnZrfMv2V",
        "outputId": "2c056b74-4c99-456c-9077-febbbe2fdca8"
      },
      "execution_count": 432,
      "outputs": [
        {
          "output_type": "stream",
          "name": "stdout",
          "text": [
            "['No' 'Yes']\n"
          ]
        }
      ]
    },
    {
      "cell_type": "markdown",
      "source": [
        "## 4. **Feature Selection, Encoding and Scaling**"
      ],
      "metadata": {
        "id": "oN9apIv6cTjo"
      }
    },
    {
      "cell_type": "markdown",
      "source": [
        "- `scikit-learn.preprocessing.LabelEncoder` - Encodes categorical labels as numeric values (0, 1, 2, ...).\n"
      ],
      "metadata": {
        "id": "wv_EX3n2Q_w5"
      }
    },
    {
      "cell_type": "code",
      "source": [
        "from sklearn.preprocessing import LabelEncoder"
      ],
      "metadata": {
        "id": "qaWUWXyChWKv"
      },
      "execution_count": 433,
      "outputs": []
    },
    {
      "cell_type": "markdown",
      "source": [
        "- Convert binary categorical columns (Yes/No) to 0/1"
      ],
      "metadata": {
        "id": "w96DuB6HRFi8"
      }
    },
    {
      "cell_type": "code",
      "source": [
        "\n",
        "label_cols = [\"Whether Remake\", \"Whether Franchise\", \"New Actor\", \"New Director\", \"New Music Director\"]\n",
        "for col in label_cols:\n",
        "    df[col] = df[col].map({'Yes': 1, 'No': 0})"
      ],
      "metadata": {
        "id": "4Bu63Q_qhA-4"
      },
      "execution_count": 434,
      "outputs": []
    },
    {
      "cell_type": "code",
      "source": [
        "df[\"Release Period\"] = df[\"Release Period\"].map({\"Normal\": 0, \"Holiday\": 1})\n"
      ],
      "metadata": {
        "id": "2us65YNCpp1s"
      },
      "execution_count": 435,
      "outputs": []
    },
    {
      "cell_type": "code",
      "source": [
        "le = LabelEncoder()\n",
        "df[\"Genre\"] = le.fit_transform(df[\"Genre\"])"
      ],
      "metadata": {
        "id": "Q-KQLPr9qCnl"
      },
      "execution_count": 436,
      "outputs": []
    },
    {
      "cell_type": "markdown",
      "source": [
        "-  Target Encoding: Replace category with the mean \"Hit/Flop\" value for that category"
      ],
      "metadata": {
        "id": "RCRnawKaRIYc"
      }
    },
    {
      "cell_type": "code",
      "source": [
        "target_cols = [\"Lead Star\", \"Director\", \"Music Director\"]\n",
        "\n",
        "for col in target_cols:\n",
        "    df[col] = df.groupby(col)[\"Hit/Flop\"].transform(\"mean\")\n"
      ],
      "metadata": {
        "id": "Bv0AkoHhqfDQ"
      },
      "execution_count": 437,
      "outputs": []
    },
    {
      "cell_type": "markdown",
      "source": [
        "-  Apply Frequency Encoding to categorical columns"
      ],
      "metadata": {
        "id": "xnBgpJ09RNxz"
      }
    },
    {
      "cell_type": "code",
      "source": [
        "freq_cols = [\"Movie Name\", \"Genre\", \"Lead Star\", \"Director\", \"Music Director\"]\n",
        "for col in freq_cols:\n",
        "    df[col] = df[col].map(df[col].value_counts())\n"
      ],
      "metadata": {
        "id": "NHr4opFOnQpg"
      },
      "execution_count": 438,
      "outputs": []
    },
    {
      "cell_type": "code",
      "source": [
        "df[\"Movie Name\"] = df[\"Movie Name\"].map(df[\"Movie Name\"].value_counts())"
      ],
      "metadata": {
        "id": "z-7jqiigq2Ui"
      },
      "execution_count": 439,
      "outputs": []
    },
    {
      "cell_type": "markdown",
      "source": [
        "- Summary of the df"
      ],
      "metadata": {
        "id": "l8iHwoaKRQ-Y"
      }
    },
    {
      "cell_type": "code",
      "source": [
        "df.describe()"
      ],
      "metadata": {
        "colab": {
          "base_uri": "https://localhost:8080/",
          "height": 337
        },
        "id": "Qdrect0Uoi8R",
        "outputId": "2947a3cd-20bf-4d78-9b4c-5d0f713defe1"
      },
      "execution_count": 440,
      "outputs": [
        {
          "output_type": "execute_result",
          "data": {
            "text/plain": [
              "        Movie Name  Release Period  Whether Remake  Whether Franchise  \\\n",
              "count  1698.000000     1698.000000     1698.000000        1698.000000   \n",
              "mean   1686.042403        0.373380        0.041814           0.048292   \n",
              "std     100.074542        0.483844        0.200223           0.214446   \n",
              "min       6.000000        0.000000        0.000000           0.000000   \n",
              "25%    1692.000000        0.000000        0.000000           0.000000   \n",
              "50%    1692.000000        0.000000        0.000000           0.000000   \n",
              "75%    1692.000000        1.000000        0.000000           0.000000   \n",
              "max    1692.000000        1.000000        1.000000           1.000000   \n",
              "\n",
              "             Genre    New Actor  New Director  New Music Director  \\\n",
              "count  1698.000000  1698.000000   1698.000000         1698.000000   \n",
              "mean    345.811543     0.267962      0.480565            0.326266   \n",
              "std     238.109144     0.443028      0.499769            0.468984   \n",
              "min       1.000000     0.000000      0.000000            0.000000   \n",
              "25%     127.000000     0.000000      0.000000            0.000000   \n",
              "50%     284.000000     0.000000      0.000000            0.000000   \n",
              "75%     639.000000     1.000000      1.000000            1.000000   \n",
              "max     639.000000     1.000000      1.000000            1.000000   \n",
              "\n",
              "         Lead Star     Director  Music Director  Number of Screens  \\\n",
              "count  1698.000000  1698.000000     1698.000000        1698.000000   \n",
              "mean    416.500589   627.448763      298.360424         553.831567   \n",
              "std     391.947981   445.624784      311.556188         782.951839   \n",
              "min       5.000000     5.000000        5.000000           1.000000   \n",
              "25%      27.000000   132.000000       30.000000          30.000000   \n",
              "50%      88.000000   998.000000       84.000000         200.000000   \n",
              "75%     821.000000   998.000000      679.000000         800.000000   \n",
              "max     821.000000   998.000000      679.000000        4600.000000   \n",
              "\n",
              "       Revenue(INR)   Budget(INR)     Hit/Flop  \n",
              "count  1.698000e+03  1.698000e+03  1698.000000  \n",
              "mean   1.501674e+08  2.377287e+08     0.722026  \n",
              "std    2.434838e+08  6.134398e+08     0.448133  \n",
              "min    3.250000e+05  7.250000e+03     0.000000  \n",
              "25%    1.500000e+07  1.150000e+06     0.000000  \n",
              "50%    5.500000e+07  1.240000e+07     1.000000  \n",
              "75%    1.900000e+08  1.778325e+08     1.000000  \n",
              "max    2.100000e+09  8.016120e+09     1.000000  "
            ],
            "text/html": [
              "\n",
              "  <div id=\"df-25fc9cb0-5a82-4327-b355-141206cec475\" class=\"colab-df-container\">\n",
              "    <div>\n",
              "<style scoped>\n",
              "    .dataframe tbody tr th:only-of-type {\n",
              "        vertical-align: middle;\n",
              "    }\n",
              "\n",
              "    .dataframe tbody tr th {\n",
              "        vertical-align: top;\n",
              "    }\n",
              "\n",
              "    .dataframe thead th {\n",
              "        text-align: right;\n",
              "    }\n",
              "</style>\n",
              "<table border=\"1\" class=\"dataframe\">\n",
              "  <thead>\n",
              "    <tr style=\"text-align: right;\">\n",
              "      <th></th>\n",
              "      <th>Movie Name</th>\n",
              "      <th>Release Period</th>\n",
              "      <th>Whether Remake</th>\n",
              "      <th>Whether Franchise</th>\n",
              "      <th>Genre</th>\n",
              "      <th>New Actor</th>\n",
              "      <th>New Director</th>\n",
              "      <th>New Music Director</th>\n",
              "      <th>Lead Star</th>\n",
              "      <th>Director</th>\n",
              "      <th>Music Director</th>\n",
              "      <th>Number of Screens</th>\n",
              "      <th>Revenue(INR)</th>\n",
              "      <th>Budget(INR)</th>\n",
              "      <th>Hit/Flop</th>\n",
              "    </tr>\n",
              "  </thead>\n",
              "  <tbody>\n",
              "    <tr>\n",
              "      <th>count</th>\n",
              "      <td>1698.000000</td>\n",
              "      <td>1698.000000</td>\n",
              "      <td>1698.000000</td>\n",
              "      <td>1698.000000</td>\n",
              "      <td>1698.000000</td>\n",
              "      <td>1698.000000</td>\n",
              "      <td>1698.000000</td>\n",
              "      <td>1698.000000</td>\n",
              "      <td>1698.000000</td>\n",
              "      <td>1698.000000</td>\n",
              "      <td>1698.000000</td>\n",
              "      <td>1698.000000</td>\n",
              "      <td>1.698000e+03</td>\n",
              "      <td>1.698000e+03</td>\n",
              "      <td>1698.000000</td>\n",
              "    </tr>\n",
              "    <tr>\n",
              "      <th>mean</th>\n",
              "      <td>1686.042403</td>\n",
              "      <td>0.373380</td>\n",
              "      <td>0.041814</td>\n",
              "      <td>0.048292</td>\n",
              "      <td>345.811543</td>\n",
              "      <td>0.267962</td>\n",
              "      <td>0.480565</td>\n",
              "      <td>0.326266</td>\n",
              "      <td>416.500589</td>\n",
              "      <td>627.448763</td>\n",
              "      <td>298.360424</td>\n",
              "      <td>553.831567</td>\n",
              "      <td>1.501674e+08</td>\n",
              "      <td>2.377287e+08</td>\n",
              "      <td>0.722026</td>\n",
              "    </tr>\n",
              "    <tr>\n",
              "      <th>std</th>\n",
              "      <td>100.074542</td>\n",
              "      <td>0.483844</td>\n",
              "      <td>0.200223</td>\n",
              "      <td>0.214446</td>\n",
              "      <td>238.109144</td>\n",
              "      <td>0.443028</td>\n",
              "      <td>0.499769</td>\n",
              "      <td>0.468984</td>\n",
              "      <td>391.947981</td>\n",
              "      <td>445.624784</td>\n",
              "      <td>311.556188</td>\n",
              "      <td>782.951839</td>\n",
              "      <td>2.434838e+08</td>\n",
              "      <td>6.134398e+08</td>\n",
              "      <td>0.448133</td>\n",
              "    </tr>\n",
              "    <tr>\n",
              "      <th>min</th>\n",
              "      <td>6.000000</td>\n",
              "      <td>0.000000</td>\n",
              "      <td>0.000000</td>\n",
              "      <td>0.000000</td>\n",
              "      <td>1.000000</td>\n",
              "      <td>0.000000</td>\n",
              "      <td>0.000000</td>\n",
              "      <td>0.000000</td>\n",
              "      <td>5.000000</td>\n",
              "      <td>5.000000</td>\n",
              "      <td>5.000000</td>\n",
              "      <td>1.000000</td>\n",
              "      <td>3.250000e+05</td>\n",
              "      <td>7.250000e+03</td>\n",
              "      <td>0.000000</td>\n",
              "    </tr>\n",
              "    <tr>\n",
              "      <th>25%</th>\n",
              "      <td>1692.000000</td>\n",
              "      <td>0.000000</td>\n",
              "      <td>0.000000</td>\n",
              "      <td>0.000000</td>\n",
              "      <td>127.000000</td>\n",
              "      <td>0.000000</td>\n",
              "      <td>0.000000</td>\n",
              "      <td>0.000000</td>\n",
              "      <td>27.000000</td>\n",
              "      <td>132.000000</td>\n",
              "      <td>30.000000</td>\n",
              "      <td>30.000000</td>\n",
              "      <td>1.500000e+07</td>\n",
              "      <td>1.150000e+06</td>\n",
              "      <td>0.000000</td>\n",
              "    </tr>\n",
              "    <tr>\n",
              "      <th>50%</th>\n",
              "      <td>1692.000000</td>\n",
              "      <td>0.000000</td>\n",
              "      <td>0.000000</td>\n",
              "      <td>0.000000</td>\n",
              "      <td>284.000000</td>\n",
              "      <td>0.000000</td>\n",
              "      <td>0.000000</td>\n",
              "      <td>0.000000</td>\n",
              "      <td>88.000000</td>\n",
              "      <td>998.000000</td>\n",
              "      <td>84.000000</td>\n",
              "      <td>200.000000</td>\n",
              "      <td>5.500000e+07</td>\n",
              "      <td>1.240000e+07</td>\n",
              "      <td>1.000000</td>\n",
              "    </tr>\n",
              "    <tr>\n",
              "      <th>75%</th>\n",
              "      <td>1692.000000</td>\n",
              "      <td>1.000000</td>\n",
              "      <td>0.000000</td>\n",
              "      <td>0.000000</td>\n",
              "      <td>639.000000</td>\n",
              "      <td>1.000000</td>\n",
              "      <td>1.000000</td>\n",
              "      <td>1.000000</td>\n",
              "      <td>821.000000</td>\n",
              "      <td>998.000000</td>\n",
              "      <td>679.000000</td>\n",
              "      <td>800.000000</td>\n",
              "      <td>1.900000e+08</td>\n",
              "      <td>1.778325e+08</td>\n",
              "      <td>1.000000</td>\n",
              "    </tr>\n",
              "    <tr>\n",
              "      <th>max</th>\n",
              "      <td>1692.000000</td>\n",
              "      <td>1.000000</td>\n",
              "      <td>1.000000</td>\n",
              "      <td>1.000000</td>\n",
              "      <td>639.000000</td>\n",
              "      <td>1.000000</td>\n",
              "      <td>1.000000</td>\n",
              "      <td>1.000000</td>\n",
              "      <td>821.000000</td>\n",
              "      <td>998.000000</td>\n",
              "      <td>679.000000</td>\n",
              "      <td>4600.000000</td>\n",
              "      <td>2.100000e+09</td>\n",
              "      <td>8.016120e+09</td>\n",
              "      <td>1.000000</td>\n",
              "    </tr>\n",
              "  </tbody>\n",
              "</table>\n",
              "</div>\n",
              "    <div class=\"colab-df-buttons\">\n",
              "\n",
              "  <div class=\"colab-df-container\">\n",
              "    <button class=\"colab-df-convert\" onclick=\"convertToInteractive('df-25fc9cb0-5a82-4327-b355-141206cec475')\"\n",
              "            title=\"Convert this dataframe to an interactive table.\"\n",
              "            style=\"display:none;\">\n",
              "\n",
              "  <svg xmlns=\"http://www.w3.org/2000/svg\" height=\"24px\" viewBox=\"0 -960 960 960\">\n",
              "    <path d=\"M120-120v-720h720v720H120Zm60-500h600v-160H180v160Zm220 220h160v-160H400v160Zm0 220h160v-160H400v160ZM180-400h160v-160H180v160Zm440 0h160v-160H620v160ZM180-180h160v-160H180v160Zm440 0h160v-160H620v160Z\"/>\n",
              "  </svg>\n",
              "    </button>\n",
              "\n",
              "  <style>\n",
              "    .colab-df-container {\n",
              "      display:flex;\n",
              "      gap: 12px;\n",
              "    }\n",
              "\n",
              "    .colab-df-convert {\n",
              "      background-color: #E8F0FE;\n",
              "      border: none;\n",
              "      border-radius: 50%;\n",
              "      cursor: pointer;\n",
              "      display: none;\n",
              "      fill: #1967D2;\n",
              "      height: 32px;\n",
              "      padding: 0 0 0 0;\n",
              "      width: 32px;\n",
              "    }\n",
              "\n",
              "    .colab-df-convert:hover {\n",
              "      background-color: #E2EBFA;\n",
              "      box-shadow: 0px 1px 2px rgba(60, 64, 67, 0.3), 0px 1px 3px 1px rgba(60, 64, 67, 0.15);\n",
              "      fill: #174EA6;\n",
              "    }\n",
              "\n",
              "    .colab-df-buttons div {\n",
              "      margin-bottom: 4px;\n",
              "    }\n",
              "\n",
              "    [theme=dark] .colab-df-convert {\n",
              "      background-color: #3B4455;\n",
              "      fill: #D2E3FC;\n",
              "    }\n",
              "\n",
              "    [theme=dark] .colab-df-convert:hover {\n",
              "      background-color: #434B5C;\n",
              "      box-shadow: 0px 1px 3px 1px rgba(0, 0, 0, 0.15);\n",
              "      filter: drop-shadow(0px 1px 2px rgba(0, 0, 0, 0.3));\n",
              "      fill: #FFFFFF;\n",
              "    }\n",
              "  </style>\n",
              "\n",
              "    <script>\n",
              "      const buttonEl =\n",
              "        document.querySelector('#df-25fc9cb0-5a82-4327-b355-141206cec475 button.colab-df-convert');\n",
              "      buttonEl.style.display =\n",
              "        google.colab.kernel.accessAllowed ? 'block' : 'none';\n",
              "\n",
              "      async function convertToInteractive(key) {\n",
              "        const element = document.querySelector('#df-25fc9cb0-5a82-4327-b355-141206cec475');\n",
              "        const dataTable =\n",
              "          await google.colab.kernel.invokeFunction('convertToInteractive',\n",
              "                                                    [key], {});\n",
              "        if (!dataTable) return;\n",
              "\n",
              "        const docLinkHtml = 'Like what you see? Visit the ' +\n",
              "          '<a target=\"_blank\" href=https://colab.research.google.com/notebooks/data_table.ipynb>data table notebook</a>'\n",
              "          + ' to learn more about interactive tables.';\n",
              "        element.innerHTML = '';\n",
              "        dataTable['output_type'] = 'display_data';\n",
              "        await google.colab.output.renderOutput(dataTable, element);\n",
              "        const docLink = document.createElement('div');\n",
              "        docLink.innerHTML = docLinkHtml;\n",
              "        element.appendChild(docLink);\n",
              "      }\n",
              "    </script>\n",
              "  </div>\n",
              "\n",
              "\n",
              "<div id=\"df-71f9ad7a-6c57-4dff-9fd3-cc559d4f5980\">\n",
              "  <button class=\"colab-df-quickchart\" onclick=\"quickchart('df-71f9ad7a-6c57-4dff-9fd3-cc559d4f5980')\"\n",
              "            title=\"Suggest charts\"\n",
              "            style=\"display:none;\">\n",
              "\n",
              "<svg xmlns=\"http://www.w3.org/2000/svg\" height=\"24px\"viewBox=\"0 0 24 24\"\n",
              "     width=\"24px\">\n",
              "    <g>\n",
              "        <path d=\"M19 3H5c-1.1 0-2 .9-2 2v14c0 1.1.9 2 2 2h14c1.1 0 2-.9 2-2V5c0-1.1-.9-2-2-2zM9 17H7v-7h2v7zm4 0h-2V7h2v10zm4 0h-2v-4h2v4z\"/>\n",
              "    </g>\n",
              "</svg>\n",
              "  </button>\n",
              "\n",
              "<style>\n",
              "  .colab-df-quickchart {\n",
              "      --bg-color: #E8F0FE;\n",
              "      --fill-color: #1967D2;\n",
              "      --hover-bg-color: #E2EBFA;\n",
              "      --hover-fill-color: #174EA6;\n",
              "      --disabled-fill-color: #AAA;\n",
              "      --disabled-bg-color: #DDD;\n",
              "  }\n",
              "\n",
              "  [theme=dark] .colab-df-quickchart {\n",
              "      --bg-color: #3B4455;\n",
              "      --fill-color: #D2E3FC;\n",
              "      --hover-bg-color: #434B5C;\n",
              "      --hover-fill-color: #FFFFFF;\n",
              "      --disabled-bg-color: #3B4455;\n",
              "      --disabled-fill-color: #666;\n",
              "  }\n",
              "\n",
              "  .colab-df-quickchart {\n",
              "    background-color: var(--bg-color);\n",
              "    border: none;\n",
              "    border-radius: 50%;\n",
              "    cursor: pointer;\n",
              "    display: none;\n",
              "    fill: var(--fill-color);\n",
              "    height: 32px;\n",
              "    padding: 0;\n",
              "    width: 32px;\n",
              "  }\n",
              "\n",
              "  .colab-df-quickchart:hover {\n",
              "    background-color: var(--hover-bg-color);\n",
              "    box-shadow: 0 1px 2px rgba(60, 64, 67, 0.3), 0 1px 3px 1px rgba(60, 64, 67, 0.15);\n",
              "    fill: var(--button-hover-fill-color);\n",
              "  }\n",
              "\n",
              "  .colab-df-quickchart-complete:disabled,\n",
              "  .colab-df-quickchart-complete:disabled:hover {\n",
              "    background-color: var(--disabled-bg-color);\n",
              "    fill: var(--disabled-fill-color);\n",
              "    box-shadow: none;\n",
              "  }\n",
              "\n",
              "  .colab-df-spinner {\n",
              "    border: 2px solid var(--fill-color);\n",
              "    border-color: transparent;\n",
              "    border-bottom-color: var(--fill-color);\n",
              "    animation:\n",
              "      spin 1s steps(1) infinite;\n",
              "  }\n",
              "\n",
              "  @keyframes spin {\n",
              "    0% {\n",
              "      border-color: transparent;\n",
              "      border-bottom-color: var(--fill-color);\n",
              "      border-left-color: var(--fill-color);\n",
              "    }\n",
              "    20% {\n",
              "      border-color: transparent;\n",
              "      border-left-color: var(--fill-color);\n",
              "      border-top-color: var(--fill-color);\n",
              "    }\n",
              "    30% {\n",
              "      border-color: transparent;\n",
              "      border-left-color: var(--fill-color);\n",
              "      border-top-color: var(--fill-color);\n",
              "      border-right-color: var(--fill-color);\n",
              "    }\n",
              "    40% {\n",
              "      border-color: transparent;\n",
              "      border-right-color: var(--fill-color);\n",
              "      border-top-color: var(--fill-color);\n",
              "    }\n",
              "    60% {\n",
              "      border-color: transparent;\n",
              "      border-right-color: var(--fill-color);\n",
              "    }\n",
              "    80% {\n",
              "      border-color: transparent;\n",
              "      border-right-color: var(--fill-color);\n",
              "      border-bottom-color: var(--fill-color);\n",
              "    }\n",
              "    90% {\n",
              "      border-color: transparent;\n",
              "      border-bottom-color: var(--fill-color);\n",
              "    }\n",
              "  }\n",
              "</style>\n",
              "\n",
              "  <script>\n",
              "    async function quickchart(key) {\n",
              "      const quickchartButtonEl =\n",
              "        document.querySelector('#' + key + ' button');\n",
              "      quickchartButtonEl.disabled = true;  // To prevent multiple clicks.\n",
              "      quickchartButtonEl.classList.add('colab-df-spinner');\n",
              "      try {\n",
              "        const charts = await google.colab.kernel.invokeFunction(\n",
              "            'suggestCharts', [key], {});\n",
              "      } catch (error) {\n",
              "        console.error('Error during call to suggestCharts:', error);\n",
              "      }\n",
              "      quickchartButtonEl.classList.remove('colab-df-spinner');\n",
              "      quickchartButtonEl.classList.add('colab-df-quickchart-complete');\n",
              "    }\n",
              "    (() => {\n",
              "      let quickchartButtonEl =\n",
              "        document.querySelector('#df-71f9ad7a-6c57-4dff-9fd3-cc559d4f5980 button');\n",
              "      quickchartButtonEl.style.display =\n",
              "        google.colab.kernel.accessAllowed ? 'block' : 'none';\n",
              "    })();\n",
              "  </script>\n",
              "</div>\n",
              "\n",
              "    </div>\n",
              "  </div>\n"
            ],
            "application/vnd.google.colaboratory.intrinsic+json": {
              "type": "dataframe",
              "summary": "{\n  \"name\": \"df\",\n  \"rows\": 8,\n  \"fields\": [\n    {\n      \"column\": \"Movie Name\",\n      \"properties\": {\n        \"dtype\": \"number\",\n        \"std\": 759.1188022614155,\n        \"min\": 6.0,\n        \"max\": 1698.0,\n        \"num_unique_values\": 5,\n        \"samples\": [\n          1686.042402826855,\n          1692.0,\n          100.07454189047559\n        ],\n        \"semantic_type\": \"\",\n        \"description\": \"\"\n      }\n    },\n    {\n      \"column\": \"Release Period\",\n      \"properties\": {\n        \"dtype\": \"number\",\n        \"std\": 600.1894892594676,\n        \"min\": 0.0,\n        \"max\": 1698.0,\n        \"num_unique_values\": 5,\n        \"samples\": [\n          0.37338044758539457,\n          1.0,\n          0.48384435532843073\n        ],\n        \"semantic_type\": \"\",\n        \"description\": \"\"\n      }\n    },\n    {\n      \"column\": \"Whether Remake\",\n      \"properties\": {\n        \"dtype\": \"number\",\n        \"std\": 600.2710226573055,\n        \"min\": 0.0,\n        \"max\": 1698.0,\n        \"num_unique_values\": 5,\n        \"samples\": [\n          0.04181389870435807,\n          1.0,\n          0.2002226415335469\n        ],\n        \"semantic_type\": \"\",\n        \"description\": \"\"\n      }\n    },\n    {\n      \"column\": \"Whether Franchise\",\n      \"properties\": {\n        \"dtype\": \"number\",\n        \"std\": 600.2699769629538,\n        \"min\": 0.0,\n        \"max\": 1698.0,\n        \"num_unique_values\": 5,\n        \"samples\": [\n          0.048292108362779744,\n          1.0,\n          0.21444594589090726\n        ],\n        \"semantic_type\": \"\",\n        \"description\": \"\"\n      }\n    },\n    {\n      \"column\": \"Genre\",\n      \"properties\": {\n        \"dtype\": \"number\",\n        \"std\": 534.6419823110522,\n        \"min\": 1.0,\n        \"max\": 1698.0,\n        \"num_unique_values\": 7,\n        \"samples\": [\n          1698.0,\n          345.811542991755,\n          284.0\n        ],\n        \"semantic_type\": \"\",\n        \"description\": \"\"\n      }\n    },\n    {\n      \"column\": \"New Actor\",\n      \"properties\": {\n        \"dtype\": \"number\",\n        \"std\": 600.1968764935228,\n        \"min\": 0.0,\n        \"max\": 1698.0,\n        \"num_unique_values\": 5,\n        \"samples\": [\n          0.267962308598351,\n          1.0,\n          0.4430283299207933\n        ],\n        \"semantic_type\": \"\",\n        \"description\": \"\"\n      }\n    },\n    {\n      \"column\": \"New Director\",\n      \"properties\": {\n        \"dtype\": \"number\",\n        \"std\": 600.1832718106102,\n        \"min\": 0.0,\n        \"max\": 1698.0,\n        \"num_unique_values\": 5,\n        \"samples\": [\n          0.48056537102473496,\n          1.0,\n          0.49976933821753716\n        ],\n        \"semantic_type\": \"\",\n        \"description\": \"\"\n      }\n    },\n    {\n      \"column\": \"New Music Director\",\n      \"properties\": {\n        \"dtype\": \"number\",\n        \"std\": 600.1926197911091,\n        \"min\": 0.0,\n        \"max\": 1698.0,\n        \"num_unique_values\": 5,\n        \"samples\": [\n          0.32626619552414604,\n          1.0,\n          0.46898411234378723\n        ],\n        \"semantic_type\": \"\",\n        \"description\": \"\"\n      }\n    },\n    {\n      \"column\": \"Lead Star\",\n      \"properties\": {\n        \"dtype\": \"number\",\n        \"std\": 571.8920116620006,\n        \"min\": 5.0,\n        \"max\": 1698.0,\n        \"num_unique_values\": 7,\n        \"samples\": [\n          1698.0,\n          416.50058892815076,\n          88.0\n        ],\n        \"semantic_type\": \"\",\n        \"description\": \"\"\n      }\n    },\n    {\n      \"column\": \"Director\",\n      \"properties\": {\n        \"dtype\": \"number\",\n        \"std\": 551.1843584172576,\n        \"min\": 5.0,\n        \"max\": 1698.0,\n        \"num_unique_values\": 6,\n        \"samples\": [\n          1698.0,\n          627.4487632508834,\n          998.0\n        ],\n        \"semantic_type\": \"\",\n        \"description\": \"\"\n      }\n    },\n    {\n      \"column\": \"Music Director\",\n      \"properties\": {\n        \"dtype\": \"number\",\n        \"std\": 561.7134476467741,\n        \"min\": 5.0,\n        \"max\": 1698.0,\n        \"num_unique_values\": 7,\n        \"samples\": [\n          1698.0,\n          298.36042402826854,\n          84.0\n        ],\n        \"semantic_type\": \"\",\n        \"description\": \"\"\n      }\n    },\n    {\n      \"column\": \"Number of Screens\",\n      \"properties\": {\n        \"dtype\": \"number\",\n        \"std\": 1523.9456651625712,\n        \"min\": 1.0,\n        \"max\": 4600.0,\n        \"num_unique_values\": 8,\n        \"samples\": [\n          553.831566548881,\n          200.0,\n          1698.0\n        ],\n        \"semantic_type\": \"\",\n        \"description\": \"\"\n      }\n    },\n    {\n      \"column\": \"Revenue(INR)\",\n      \"properties\": {\n        \"dtype\": \"number\",\n        \"std\": 715455442.4311211,\n        \"min\": 1698.0,\n        \"max\": 2100000000.0,\n        \"num_unique_values\": 8,\n        \"samples\": [\n          150167388.10365134,\n          55000000.0,\n          1698.0\n        ],\n        \"semantic_type\": \"\",\n        \"description\": \"\"\n      }\n    },\n    {\n      \"column\": \"Budget(INR)\",\n      \"properties\": {\n        \"dtype\": \"number\",\n        \"std\": 2789401428.2996664,\n        \"min\": 1698.0,\n        \"max\": 8016120000.0,\n        \"num_unique_values\": 8,\n        \"samples\": [\n          237728726.75971732,\n          12400000.0,\n          1698.0\n        ],\n        \"semantic_type\": \"\",\n        \"description\": \"\"\n      }\n    },\n    {\n      \"column\": \"Hit/Flop\",\n      \"properties\": {\n        \"dtype\": \"number\",\n        \"std\": 600.12317974939,\n        \"min\": 0.0,\n        \"max\": 1698.0,\n        \"num_unique_values\": 5,\n        \"samples\": [\n          0.7220259128386337,\n          1.0,\n          0.44813252973570694\n        ],\n        \"semantic_type\": \"\",\n        \"description\": \"\"\n      }\n    }\n  ]\n}"
            }
          },
          "metadata": {},
          "execution_count": 440
        }
      ]
    },
    {
      "cell_type": "markdown",
      "source": [
        "-  Define features and target variable"
      ],
      "metadata": {
        "id": "ndqpqNwrRUrq"
      }
    },
    {
      "cell_type": "code",
      "source": [
        "X_encoded = df.drop(columns=[\"Hit/Flop\",\"Revenue(INR)\",\"Movie Name\"])\n",
        "X_encoded"
      ],
      "metadata": {
        "colab": {
          "base_uri": "https://localhost:8080/",
          "height": 478
        },
        "id": "4qlzp4HXcwdG",
        "outputId": "d8562c9e-b896-4271-bb9f-ce60afeed38d"
      },
      "execution_count": 441,
      "outputs": [
        {
          "output_type": "execute_result",
          "data": {
            "text/plain": [
              "      Release Period  Whether Remake  Whether Franchise  Genre  New Actor  \\\n",
              "0                  0               0                  0     30          1   \n",
              "1                  1               0                  0    639          1   \n",
              "2                  1               0                  0    212          0   \n",
              "3                  1               0                  0    639          1   \n",
              "4                  1               0                  0     78          1   \n",
              "...              ...             ...                ...    ...        ...   \n",
              "1693               1               0                  0    127          0   \n",
              "1694               0               0                  0    639          0   \n",
              "1695               0               0                  0    639          0   \n",
              "1696               0               0                  0    639          0   \n",
              "1697               0               0                  0    284          0   \n",
              "\n",
              "      New Director  New Music Director  Lead Star  Director  Music Director  \\\n",
              "0                0                   0        821       998             679   \n",
              "1                0                   1        821       132             679   \n",
              "2                0                   0         21        18              20   \n",
              "3                0                   0        821       132              24   \n",
              "4                1                   1         88       207              66   \n",
              "...            ...                 ...        ...       ...             ...   \n",
              "1693             1                   0         20       207              92   \n",
              "1694             1                   1        821       998             679   \n",
              "1695             0                   0        821       998             679   \n",
              "1696             1                   0        821       998             679   \n",
              "1697             0                   1        821       998             679   \n",
              "\n",
              "      Number of Screens  Budget(INR)  \n",
              "0                     5        85000  \n",
              "1                    75       825000  \n",
              "2                   525     56700000  \n",
              "3                   800      4500000  \n",
              "4                     1      1075000  \n",
              "...                 ...          ...  \n",
              "1693                375     88862500  \n",
              "1694                 10        70000  \n",
              "1695                 20       850000  \n",
              "1696                135     31065000  \n",
              "1697                 30      1300000  \n",
              "\n",
              "[1698 rows x 12 columns]"
            ],
            "text/html": [
              "\n",
              "  <div id=\"df-2a87d897-906d-4375-b3c2-77680f377088\" class=\"colab-df-container\">\n",
              "    <div>\n",
              "<style scoped>\n",
              "    .dataframe tbody tr th:only-of-type {\n",
              "        vertical-align: middle;\n",
              "    }\n",
              "\n",
              "    .dataframe tbody tr th {\n",
              "        vertical-align: top;\n",
              "    }\n",
              "\n",
              "    .dataframe thead th {\n",
              "        text-align: right;\n",
              "    }\n",
              "</style>\n",
              "<table border=\"1\" class=\"dataframe\">\n",
              "  <thead>\n",
              "    <tr style=\"text-align: right;\">\n",
              "      <th></th>\n",
              "      <th>Release Period</th>\n",
              "      <th>Whether Remake</th>\n",
              "      <th>Whether Franchise</th>\n",
              "      <th>Genre</th>\n",
              "      <th>New Actor</th>\n",
              "      <th>New Director</th>\n",
              "      <th>New Music Director</th>\n",
              "      <th>Lead Star</th>\n",
              "      <th>Director</th>\n",
              "      <th>Music Director</th>\n",
              "      <th>Number of Screens</th>\n",
              "      <th>Budget(INR)</th>\n",
              "    </tr>\n",
              "  </thead>\n",
              "  <tbody>\n",
              "    <tr>\n",
              "      <th>0</th>\n",
              "      <td>0</td>\n",
              "      <td>0</td>\n",
              "      <td>0</td>\n",
              "      <td>30</td>\n",
              "      <td>1</td>\n",
              "      <td>0</td>\n",
              "      <td>0</td>\n",
              "      <td>821</td>\n",
              "      <td>998</td>\n",
              "      <td>679</td>\n",
              "      <td>5</td>\n",
              "      <td>85000</td>\n",
              "    </tr>\n",
              "    <tr>\n",
              "      <th>1</th>\n",
              "      <td>1</td>\n",
              "      <td>0</td>\n",
              "      <td>0</td>\n",
              "      <td>639</td>\n",
              "      <td>1</td>\n",
              "      <td>0</td>\n",
              "      <td>1</td>\n",
              "      <td>821</td>\n",
              "      <td>132</td>\n",
              "      <td>679</td>\n",
              "      <td>75</td>\n",
              "      <td>825000</td>\n",
              "    </tr>\n",
              "    <tr>\n",
              "      <th>2</th>\n",
              "      <td>1</td>\n",
              "      <td>0</td>\n",
              "      <td>0</td>\n",
              "      <td>212</td>\n",
              "      <td>0</td>\n",
              "      <td>0</td>\n",
              "      <td>0</td>\n",
              "      <td>21</td>\n",
              "      <td>18</td>\n",
              "      <td>20</td>\n",
              "      <td>525</td>\n",
              "      <td>56700000</td>\n",
              "    </tr>\n",
              "    <tr>\n",
              "      <th>3</th>\n",
              "      <td>1</td>\n",
              "      <td>0</td>\n",
              "      <td>0</td>\n",
              "      <td>639</td>\n",
              "      <td>1</td>\n",
              "      <td>0</td>\n",
              "      <td>0</td>\n",
              "      <td>821</td>\n",
              "      <td>132</td>\n",
              "      <td>24</td>\n",
              "      <td>800</td>\n",
              "      <td>4500000</td>\n",
              "    </tr>\n",
              "    <tr>\n",
              "      <th>4</th>\n",
              "      <td>1</td>\n",
              "      <td>0</td>\n",
              "      <td>0</td>\n",
              "      <td>78</td>\n",
              "      <td>1</td>\n",
              "      <td>1</td>\n",
              "      <td>1</td>\n",
              "      <td>88</td>\n",
              "      <td>207</td>\n",
              "      <td>66</td>\n",
              "      <td>1</td>\n",
              "      <td>1075000</td>\n",
              "    </tr>\n",
              "    <tr>\n",
              "      <th>...</th>\n",
              "      <td>...</td>\n",
              "      <td>...</td>\n",
              "      <td>...</td>\n",
              "      <td>...</td>\n",
              "      <td>...</td>\n",
              "      <td>...</td>\n",
              "      <td>...</td>\n",
              "      <td>...</td>\n",
              "      <td>...</td>\n",
              "      <td>...</td>\n",
              "      <td>...</td>\n",
              "      <td>...</td>\n",
              "    </tr>\n",
              "    <tr>\n",
              "      <th>1693</th>\n",
              "      <td>1</td>\n",
              "      <td>0</td>\n",
              "      <td>0</td>\n",
              "      <td>127</td>\n",
              "      <td>0</td>\n",
              "      <td>1</td>\n",
              "      <td>0</td>\n",
              "      <td>20</td>\n",
              "      <td>207</td>\n",
              "      <td>92</td>\n",
              "      <td>375</td>\n",
              "      <td>88862500</td>\n",
              "    </tr>\n",
              "    <tr>\n",
              "      <th>1694</th>\n",
              "      <td>0</td>\n",
              "      <td>0</td>\n",
              "      <td>0</td>\n",
              "      <td>639</td>\n",
              "      <td>0</td>\n",
              "      <td>1</td>\n",
              "      <td>1</td>\n",
              "      <td>821</td>\n",
              "      <td>998</td>\n",
              "      <td>679</td>\n",
              "      <td>10</td>\n",
              "      <td>70000</td>\n",
              "    </tr>\n",
              "    <tr>\n",
              "      <th>1695</th>\n",
              "      <td>0</td>\n",
              "      <td>0</td>\n",
              "      <td>0</td>\n",
              "      <td>639</td>\n",
              "      <td>0</td>\n",
              "      <td>0</td>\n",
              "      <td>0</td>\n",
              "      <td>821</td>\n",
              "      <td>998</td>\n",
              "      <td>679</td>\n",
              "      <td>20</td>\n",
              "      <td>850000</td>\n",
              "    </tr>\n",
              "    <tr>\n",
              "      <th>1696</th>\n",
              "      <td>0</td>\n",
              "      <td>0</td>\n",
              "      <td>0</td>\n",
              "      <td>639</td>\n",
              "      <td>0</td>\n",
              "      <td>1</td>\n",
              "      <td>0</td>\n",
              "      <td>821</td>\n",
              "      <td>998</td>\n",
              "      <td>679</td>\n",
              "      <td>135</td>\n",
              "      <td>31065000</td>\n",
              "    </tr>\n",
              "    <tr>\n",
              "      <th>1697</th>\n",
              "      <td>0</td>\n",
              "      <td>0</td>\n",
              "      <td>0</td>\n",
              "      <td>284</td>\n",
              "      <td>0</td>\n",
              "      <td>0</td>\n",
              "      <td>1</td>\n",
              "      <td>821</td>\n",
              "      <td>998</td>\n",
              "      <td>679</td>\n",
              "      <td>30</td>\n",
              "      <td>1300000</td>\n",
              "    </tr>\n",
              "  </tbody>\n",
              "</table>\n",
              "<p>1698 rows × 12 columns</p>\n",
              "</div>\n",
              "    <div class=\"colab-df-buttons\">\n",
              "\n",
              "  <div class=\"colab-df-container\">\n",
              "    <button class=\"colab-df-convert\" onclick=\"convertToInteractive('df-2a87d897-906d-4375-b3c2-77680f377088')\"\n",
              "            title=\"Convert this dataframe to an interactive table.\"\n",
              "            style=\"display:none;\">\n",
              "\n",
              "  <svg xmlns=\"http://www.w3.org/2000/svg\" height=\"24px\" viewBox=\"0 -960 960 960\">\n",
              "    <path d=\"M120-120v-720h720v720H120Zm60-500h600v-160H180v160Zm220 220h160v-160H400v160Zm0 220h160v-160H400v160ZM180-400h160v-160H180v160Zm440 0h160v-160H620v160ZM180-180h160v-160H180v160Zm440 0h160v-160H620v160Z\"/>\n",
              "  </svg>\n",
              "    </button>\n",
              "\n",
              "  <style>\n",
              "    .colab-df-container {\n",
              "      display:flex;\n",
              "      gap: 12px;\n",
              "    }\n",
              "\n",
              "    .colab-df-convert {\n",
              "      background-color: #E8F0FE;\n",
              "      border: none;\n",
              "      border-radius: 50%;\n",
              "      cursor: pointer;\n",
              "      display: none;\n",
              "      fill: #1967D2;\n",
              "      height: 32px;\n",
              "      padding: 0 0 0 0;\n",
              "      width: 32px;\n",
              "    }\n",
              "\n",
              "    .colab-df-convert:hover {\n",
              "      background-color: #E2EBFA;\n",
              "      box-shadow: 0px 1px 2px rgba(60, 64, 67, 0.3), 0px 1px 3px 1px rgba(60, 64, 67, 0.15);\n",
              "      fill: #174EA6;\n",
              "    }\n",
              "\n",
              "    .colab-df-buttons div {\n",
              "      margin-bottom: 4px;\n",
              "    }\n",
              "\n",
              "    [theme=dark] .colab-df-convert {\n",
              "      background-color: #3B4455;\n",
              "      fill: #D2E3FC;\n",
              "    }\n",
              "\n",
              "    [theme=dark] .colab-df-convert:hover {\n",
              "      background-color: #434B5C;\n",
              "      box-shadow: 0px 1px 3px 1px rgba(0, 0, 0, 0.15);\n",
              "      filter: drop-shadow(0px 1px 2px rgba(0, 0, 0, 0.3));\n",
              "      fill: #FFFFFF;\n",
              "    }\n",
              "  </style>\n",
              "\n",
              "    <script>\n",
              "      const buttonEl =\n",
              "        document.querySelector('#df-2a87d897-906d-4375-b3c2-77680f377088 button.colab-df-convert');\n",
              "      buttonEl.style.display =\n",
              "        google.colab.kernel.accessAllowed ? 'block' : 'none';\n",
              "\n",
              "      async function convertToInteractive(key) {\n",
              "        const element = document.querySelector('#df-2a87d897-906d-4375-b3c2-77680f377088');\n",
              "        const dataTable =\n",
              "          await google.colab.kernel.invokeFunction('convertToInteractive',\n",
              "                                                    [key], {});\n",
              "        if (!dataTable) return;\n",
              "\n",
              "        const docLinkHtml = 'Like what you see? Visit the ' +\n",
              "          '<a target=\"_blank\" href=https://colab.research.google.com/notebooks/data_table.ipynb>data table notebook</a>'\n",
              "          + ' to learn more about interactive tables.';\n",
              "        element.innerHTML = '';\n",
              "        dataTable['output_type'] = 'display_data';\n",
              "        await google.colab.output.renderOutput(dataTable, element);\n",
              "        const docLink = document.createElement('div');\n",
              "        docLink.innerHTML = docLinkHtml;\n",
              "        element.appendChild(docLink);\n",
              "      }\n",
              "    </script>\n",
              "  </div>\n",
              "\n",
              "\n",
              "<div id=\"df-2bbf0d61-20d6-4777-9c8c-eea3aeff4fcd\">\n",
              "  <button class=\"colab-df-quickchart\" onclick=\"quickchart('df-2bbf0d61-20d6-4777-9c8c-eea3aeff4fcd')\"\n",
              "            title=\"Suggest charts\"\n",
              "            style=\"display:none;\">\n",
              "\n",
              "<svg xmlns=\"http://www.w3.org/2000/svg\" height=\"24px\"viewBox=\"0 0 24 24\"\n",
              "     width=\"24px\">\n",
              "    <g>\n",
              "        <path d=\"M19 3H5c-1.1 0-2 .9-2 2v14c0 1.1.9 2 2 2h14c1.1 0 2-.9 2-2V5c0-1.1-.9-2-2-2zM9 17H7v-7h2v7zm4 0h-2V7h2v10zm4 0h-2v-4h2v4z\"/>\n",
              "    </g>\n",
              "</svg>\n",
              "  </button>\n",
              "\n",
              "<style>\n",
              "  .colab-df-quickchart {\n",
              "      --bg-color: #E8F0FE;\n",
              "      --fill-color: #1967D2;\n",
              "      --hover-bg-color: #E2EBFA;\n",
              "      --hover-fill-color: #174EA6;\n",
              "      --disabled-fill-color: #AAA;\n",
              "      --disabled-bg-color: #DDD;\n",
              "  }\n",
              "\n",
              "  [theme=dark] .colab-df-quickchart {\n",
              "      --bg-color: #3B4455;\n",
              "      --fill-color: #D2E3FC;\n",
              "      --hover-bg-color: #434B5C;\n",
              "      --hover-fill-color: #FFFFFF;\n",
              "      --disabled-bg-color: #3B4455;\n",
              "      --disabled-fill-color: #666;\n",
              "  }\n",
              "\n",
              "  .colab-df-quickchart {\n",
              "    background-color: var(--bg-color);\n",
              "    border: none;\n",
              "    border-radius: 50%;\n",
              "    cursor: pointer;\n",
              "    display: none;\n",
              "    fill: var(--fill-color);\n",
              "    height: 32px;\n",
              "    padding: 0;\n",
              "    width: 32px;\n",
              "  }\n",
              "\n",
              "  .colab-df-quickchart:hover {\n",
              "    background-color: var(--hover-bg-color);\n",
              "    box-shadow: 0 1px 2px rgba(60, 64, 67, 0.3), 0 1px 3px 1px rgba(60, 64, 67, 0.15);\n",
              "    fill: var(--button-hover-fill-color);\n",
              "  }\n",
              "\n",
              "  .colab-df-quickchart-complete:disabled,\n",
              "  .colab-df-quickchart-complete:disabled:hover {\n",
              "    background-color: var(--disabled-bg-color);\n",
              "    fill: var(--disabled-fill-color);\n",
              "    box-shadow: none;\n",
              "  }\n",
              "\n",
              "  .colab-df-spinner {\n",
              "    border: 2px solid var(--fill-color);\n",
              "    border-color: transparent;\n",
              "    border-bottom-color: var(--fill-color);\n",
              "    animation:\n",
              "      spin 1s steps(1) infinite;\n",
              "  }\n",
              "\n",
              "  @keyframes spin {\n",
              "    0% {\n",
              "      border-color: transparent;\n",
              "      border-bottom-color: var(--fill-color);\n",
              "      border-left-color: var(--fill-color);\n",
              "    }\n",
              "    20% {\n",
              "      border-color: transparent;\n",
              "      border-left-color: var(--fill-color);\n",
              "      border-top-color: var(--fill-color);\n",
              "    }\n",
              "    30% {\n",
              "      border-color: transparent;\n",
              "      border-left-color: var(--fill-color);\n",
              "      border-top-color: var(--fill-color);\n",
              "      border-right-color: var(--fill-color);\n",
              "    }\n",
              "    40% {\n",
              "      border-color: transparent;\n",
              "      border-right-color: var(--fill-color);\n",
              "      border-top-color: var(--fill-color);\n",
              "    }\n",
              "    60% {\n",
              "      border-color: transparent;\n",
              "      border-right-color: var(--fill-color);\n",
              "    }\n",
              "    80% {\n",
              "      border-color: transparent;\n",
              "      border-right-color: var(--fill-color);\n",
              "      border-bottom-color: var(--fill-color);\n",
              "    }\n",
              "    90% {\n",
              "      border-color: transparent;\n",
              "      border-bottom-color: var(--fill-color);\n",
              "    }\n",
              "  }\n",
              "</style>\n",
              "\n",
              "  <script>\n",
              "    async function quickchart(key) {\n",
              "      const quickchartButtonEl =\n",
              "        document.querySelector('#' + key + ' button');\n",
              "      quickchartButtonEl.disabled = true;  // To prevent multiple clicks.\n",
              "      quickchartButtonEl.classList.add('colab-df-spinner');\n",
              "      try {\n",
              "        const charts = await google.colab.kernel.invokeFunction(\n",
              "            'suggestCharts', [key], {});\n",
              "      } catch (error) {\n",
              "        console.error('Error during call to suggestCharts:', error);\n",
              "      }\n",
              "      quickchartButtonEl.classList.remove('colab-df-spinner');\n",
              "      quickchartButtonEl.classList.add('colab-df-quickchart-complete');\n",
              "    }\n",
              "    (() => {\n",
              "      let quickchartButtonEl =\n",
              "        document.querySelector('#df-2bbf0d61-20d6-4777-9c8c-eea3aeff4fcd button');\n",
              "      quickchartButtonEl.style.display =\n",
              "        google.colab.kernel.accessAllowed ? 'block' : 'none';\n",
              "    })();\n",
              "  </script>\n",
              "</div>\n",
              "\n",
              "  <div id=\"id_2d56e5de-9420-4939-8777-f3b9bc9583a3\">\n",
              "    <style>\n",
              "      .colab-df-generate {\n",
              "        background-color: #E8F0FE;\n",
              "        border: none;\n",
              "        border-radius: 50%;\n",
              "        cursor: pointer;\n",
              "        display: none;\n",
              "        fill: #1967D2;\n",
              "        height: 32px;\n",
              "        padding: 0 0 0 0;\n",
              "        width: 32px;\n",
              "      }\n",
              "\n",
              "      .colab-df-generate:hover {\n",
              "        background-color: #E2EBFA;\n",
              "        box-shadow: 0px 1px 2px rgba(60, 64, 67, 0.3), 0px 1px 3px 1px rgba(60, 64, 67, 0.15);\n",
              "        fill: #174EA6;\n",
              "      }\n",
              "\n",
              "      [theme=dark] .colab-df-generate {\n",
              "        background-color: #3B4455;\n",
              "        fill: #D2E3FC;\n",
              "      }\n",
              "\n",
              "      [theme=dark] .colab-df-generate:hover {\n",
              "        background-color: #434B5C;\n",
              "        box-shadow: 0px 1px 3px 1px rgba(0, 0, 0, 0.15);\n",
              "        filter: drop-shadow(0px 1px 2px rgba(0, 0, 0, 0.3));\n",
              "        fill: #FFFFFF;\n",
              "      }\n",
              "    </style>\n",
              "    <button class=\"colab-df-generate\" onclick=\"generateWithVariable('X_encoded')\"\n",
              "            title=\"Generate code using this dataframe.\"\n",
              "            style=\"display:none;\">\n",
              "\n",
              "  <svg xmlns=\"http://www.w3.org/2000/svg\" height=\"24px\"viewBox=\"0 0 24 24\"\n",
              "       width=\"24px\">\n",
              "    <path d=\"M7,19H8.4L18.45,9,17,7.55,7,17.6ZM5,21V16.75L18.45,3.32a2,2,0,0,1,2.83,0l1.4,1.43a1.91,1.91,0,0,1,.58,1.4,1.91,1.91,0,0,1-.58,1.4L9.25,21ZM18.45,9,17,7.55Zm-12,3A5.31,5.31,0,0,0,4.9,8.1,5.31,5.31,0,0,0,1,6.5,5.31,5.31,0,0,0,4.9,4.9,5.31,5.31,0,0,0,6.5,1,5.31,5.31,0,0,0,8.1,4.9,5.31,5.31,0,0,0,12,6.5,5.46,5.46,0,0,0,6.5,12Z\"/>\n",
              "  </svg>\n",
              "    </button>\n",
              "    <script>\n",
              "      (() => {\n",
              "      const buttonEl =\n",
              "        document.querySelector('#id_2d56e5de-9420-4939-8777-f3b9bc9583a3 button.colab-df-generate');\n",
              "      buttonEl.style.display =\n",
              "        google.colab.kernel.accessAllowed ? 'block' : 'none';\n",
              "\n",
              "      buttonEl.onclick = () => {\n",
              "        google.colab.notebook.generateWithVariable('X_encoded');\n",
              "      }\n",
              "      })();\n",
              "    </script>\n",
              "  </div>\n",
              "\n",
              "    </div>\n",
              "  </div>\n"
            ],
            "application/vnd.google.colaboratory.intrinsic+json": {
              "type": "dataframe",
              "variable_name": "X_encoded",
              "summary": "{\n  \"name\": \"X_encoded\",\n  \"rows\": 1698,\n  \"fields\": [\n    {\n      \"column\": \"Release Period\",\n      \"properties\": {\n        \"dtype\": \"number\",\n        \"std\": 0,\n        \"min\": 0,\n        \"max\": 1,\n        \"num_unique_values\": 2,\n        \"samples\": [\n          1,\n          0\n        ],\n        \"semantic_type\": \"\",\n        \"description\": \"\"\n      }\n    },\n    {\n      \"column\": \"Whether Remake\",\n      \"properties\": {\n        \"dtype\": \"number\",\n        \"std\": 0,\n        \"min\": 0,\n        \"max\": 1,\n        \"num_unique_values\": 2,\n        \"samples\": [\n          1,\n          0\n        ],\n        \"semantic_type\": \"\",\n        \"description\": \"\"\n      }\n    },\n    {\n      \"column\": \"Whether Franchise\",\n      \"properties\": {\n        \"dtype\": \"number\",\n        \"std\": 0,\n        \"min\": 0,\n        \"max\": 1,\n        \"num_unique_values\": 2,\n        \"samples\": [\n          1,\n          0\n        ],\n        \"semantic_type\": \"\",\n        \"description\": \"\"\n      }\n    },\n    {\n      \"column\": \"Genre\",\n      \"properties\": {\n        \"dtype\": \"number\",\n        \"std\": 238,\n        \"min\": 1,\n        \"max\": 639,\n        \"num_unique_values\": 14,\n        \"samples\": [\n          13,\n          14\n        ],\n        \"semantic_type\": \"\",\n        \"description\": \"\"\n      }\n    },\n    {\n      \"column\": \"New Actor\",\n      \"properties\": {\n        \"dtype\": \"number\",\n        \"std\": 0,\n        \"min\": 0,\n        \"max\": 1,\n        \"num_unique_values\": 2,\n        \"samples\": [\n          0,\n          1\n        ],\n        \"semantic_type\": \"\",\n        \"description\": \"\"\n      }\n    },\n    {\n      \"column\": \"New Director\",\n      \"properties\": {\n        \"dtype\": \"number\",\n        \"std\": 0,\n        \"min\": 0,\n        \"max\": 1,\n        \"num_unique_values\": 2,\n        \"samples\": [\n          1,\n          0\n        ],\n        \"semantic_type\": \"\",\n        \"description\": \"\"\n      }\n    },\n    {\n      \"column\": \"New Music Director\",\n      \"properties\": {\n        \"dtype\": \"number\",\n        \"std\": 0,\n        \"min\": 0,\n        \"max\": 1,\n        \"num_unique_values\": 2,\n        \"samples\": [\n          1,\n          0\n        ],\n        \"semantic_type\": \"\",\n        \"description\": \"\"\n      }\n    },\n    {\n      \"column\": \"Lead Star\",\n      \"properties\": {\n        \"dtype\": \"number\",\n        \"std\": 391,\n        \"min\": 5,\n        \"max\": 821,\n        \"num_unique_values\": 23,\n        \"samples\": [\n          5,\n          48\n        ],\n        \"semantic_type\": \"\",\n        \"description\": \"\"\n      }\n    },\n    {\n      \"column\": \"Director\",\n      \"properties\": {\n        \"dtype\": \"number\",\n        \"std\": 445,\n        \"min\": 5,\n        \"max\": 998,\n        \"num_unique_values\": 17,\n        \"samples\": [\n          998,\n          132\n        ],\n        \"semantic_type\": \"\",\n        \"description\": \"\"\n      }\n    },\n    {\n      \"column\": \"Music Director\",\n      \"properties\": {\n        \"dtype\": \"number\",\n        \"std\": 311,\n        \"min\": 5,\n        \"max\": 679,\n        \"num_unique_values\": 31,\n        \"samples\": [\n          21,\n          38\n        ],\n        \"semantic_type\": \"\",\n        \"description\": \"\"\n      }\n    },\n    {\n      \"column\": \"Number of Screens\",\n      \"properties\": {\n        \"dtype\": \"number\",\n        \"std\": 782,\n        \"min\": 1,\n        \"max\": 4600,\n        \"num_unique_values\": 147,\n        \"samples\": [\n          115,\n          275\n        ],\n        \"semantic_type\": \"\",\n        \"description\": \"\"\n      }\n    },\n    {\n      \"column\": \"Budget(INR)\",\n      \"properties\": {\n        \"dtype\": \"number\",\n        \"std\": 613439812,\n        \"min\": 7250,\n        \"max\": 8016120000,\n        \"num_unique_values\": 1104,\n        \"samples\": [\n          6325000,\n          515300000\n        ],\n        \"semantic_type\": \"\",\n        \"description\": \"\"\n      }\n    }\n  ]\n}"
            }
          },
          "metadata": {},
          "execution_count": 441
        }
      ]
    },
    {
      "cell_type": "code",
      "source": [
        "y = df[\"Hit/Flop\"]\n",
        "y"
      ],
      "metadata": {
        "colab": {
          "base_uri": "https://localhost:8080/",
          "height": 458
        },
        "id": "6v6tIIrbhMqo",
        "outputId": "7be7329e-a358-43a6-f93c-b9c8b77eed69"
      },
      "execution_count": 442,
      "outputs": [
        {
          "output_type": "execute_result",
          "data": {
            "text/plain": [
              "0       1\n",
              "1       1\n",
              "2       1\n",
              "3       1\n",
              "4       0\n",
              "       ..\n",
              "1693    0\n",
              "1694    1\n",
              "1695    1\n",
              "1696    1\n",
              "1697    1\n",
              "Name: Hit/Flop, Length: 1698, dtype: int64"
            ],
            "text/html": [
              "<div>\n",
              "<style scoped>\n",
              "    .dataframe tbody tr th:only-of-type {\n",
              "        vertical-align: middle;\n",
              "    }\n",
              "\n",
              "    .dataframe tbody tr th {\n",
              "        vertical-align: top;\n",
              "    }\n",
              "\n",
              "    .dataframe thead th {\n",
              "        text-align: right;\n",
              "    }\n",
              "</style>\n",
              "<table border=\"1\" class=\"dataframe\">\n",
              "  <thead>\n",
              "    <tr style=\"text-align: right;\">\n",
              "      <th></th>\n",
              "      <th>Hit/Flop</th>\n",
              "    </tr>\n",
              "  </thead>\n",
              "  <tbody>\n",
              "    <tr>\n",
              "      <th>0</th>\n",
              "      <td>1</td>\n",
              "    </tr>\n",
              "    <tr>\n",
              "      <th>1</th>\n",
              "      <td>1</td>\n",
              "    </tr>\n",
              "    <tr>\n",
              "      <th>2</th>\n",
              "      <td>1</td>\n",
              "    </tr>\n",
              "    <tr>\n",
              "      <th>3</th>\n",
              "      <td>1</td>\n",
              "    </tr>\n",
              "    <tr>\n",
              "      <th>4</th>\n",
              "      <td>0</td>\n",
              "    </tr>\n",
              "    <tr>\n",
              "      <th>...</th>\n",
              "      <td>...</td>\n",
              "    </tr>\n",
              "    <tr>\n",
              "      <th>1693</th>\n",
              "      <td>0</td>\n",
              "    </tr>\n",
              "    <tr>\n",
              "      <th>1694</th>\n",
              "      <td>1</td>\n",
              "    </tr>\n",
              "    <tr>\n",
              "      <th>1695</th>\n",
              "      <td>1</td>\n",
              "    </tr>\n",
              "    <tr>\n",
              "      <th>1696</th>\n",
              "      <td>1</td>\n",
              "    </tr>\n",
              "    <tr>\n",
              "      <th>1697</th>\n",
              "      <td>1</td>\n",
              "    </tr>\n",
              "  </tbody>\n",
              "</table>\n",
              "<p>1698 rows × 1 columns</p>\n",
              "</div><br><label><b>dtype:</b> int64</label>"
            ]
          },
          "metadata": {},
          "execution_count": 442
        }
      ]
    },
    {
      "cell_type": "markdown",
      "source": [
        "- Computing the correlation matrix"
      ],
      "metadata": {
        "id": "TQXAQan2RqUL"
      }
    },
    {
      "cell_type": "code",
      "source": [
        "corr_matrix = X_encoded.corr()"
      ],
      "metadata": {
        "id": "jO0YseVFRgan"
      },
      "execution_count": 443,
      "outputs": []
    },
    {
      "cell_type": "markdown",
      "source": [
        "- Plot Heatmap"
      ],
      "metadata": {
        "id": "dxUqtbZTRoq7"
      }
    },
    {
      "cell_type": "code",
      "source": [
        "plt.figure(figsize=(12, 8))\n",
        "sns.heatmap(corr_matrix, annot=False, fmt=\".2f\", cmap=\"coolwarm\", linewidths=0.5)"
      ],
      "metadata": {
        "colab": {
          "base_uri": "https://localhost:8080/",
          "height": 688
        },
        "id": "AgO4CJYdRlli",
        "outputId": "4ff8407b-2e61-4047-8bc4-915ecb7e0332"
      },
      "execution_count": 444,
      "outputs": [
        {
          "output_type": "execute_result",
          "data": {
            "text/plain": [
              "<Axes: >"
            ]
          },
          "metadata": {},
          "execution_count": 444
        },
        {
          "output_type": "display_data",
          "data": {
            "text/plain": [
              "<Figure size 1200x800 with 2 Axes>"
            ],
            "image/png": "[encoded data removed]"
          },
          "metadata": {}
        }
      ]
    },
    {
      "cell_type": "markdown",
      "source": [
        "## 5. **Splitting Data into Training and Testing Sets**"
      ],
      "metadata": {
        "id": "2mqFe0_ZRY5E"
      }
    },
    {
      "cell_type": "markdown",
      "source": [
        "- `train_test_split`: Splits data into training and testing sets."
      ],
      "metadata": {
        "id": "OzaTTBUSR6K8"
      }
    },
    {
      "cell_type": "code",
      "source": [
        "from sklearn.model_selection import train_test_split"
      ],
      "metadata": {
        "id": "XAcX_8BKUtqp"
      },
      "execution_count": 445,
      "outputs": []
    },
    {
      "cell_type": "markdown",
      "source": [
        "- Splits data into training (80%) and testing (20%) sets.\n",
        "\n",
        "- random_state=42 ensures reproducibility."
      ],
      "metadata": {
        "id": "ztoGa4AeSA3B"
      }
    },
    {
      "cell_type": "code",
      "source": [
        "X_train, X_test, y_train, y_test = train_test_split(X_encoded, y, test_size=0.2, random_state=42)"
      ],
      "metadata": {
        "id": "4568pillMpzy"
      },
      "execution_count": 446,
      "outputs": []
    },
    {
      "cell_type": "markdown",
      "source": [
        "## 6. **Decision Tree Model (Gini Criterion)**"
      ],
      "metadata": {
        "id": "Y3kOiJ_jSD-p"
      }
    },
    {
      "cell_type": "markdown",
      "source": [
        "#### - Import Packages"
      ],
      "metadata": {
        "id": "AT9prOCXSHH1"
      }
    },
    {
      "cell_type": "markdown",
      "source": [
        "- `DecisionTreeClassifier`: Implements Decision Tree classification.\n",
        "\n",
        "- `GridSearchCV`: Performs hyperparameter tuning."
      ],
      "metadata": {
        "id": "dNuTCwK8SJqG"
      }
    },
    {
      "cell_type": "code",
      "source": [
        "# Train Decision Tree Classifier using Gini Index\n",
        "from sklearn.tree import DecisionTreeClassifier\n",
        "from sklearn.model_selection import GridSearchCV"
      ],
      "metadata": {
        "id": "ld-H8MSuJEoR"
      },
      "execution_count": 447,
      "outputs": []
    },
    {
      "cell_type": "markdown",
      "source": [
        "#### - Perform Hyperparameter Tuning using Grid Search and Cross Validation"
      ],
      "metadata": {
        "id": "IeDvZYV3SPpS"
      }
    },
    {
      "cell_type": "markdown",
      "source": [
        "- Performs hyperparameter tuning to find the optimal depth of the tree.\n",
        "- max_depth controls how deep the decision tree can grow.\n",
        "- range(1, 20) tests all values from 1 to 19 (i.e., 19 different depths).\n",
        "- param_grid: Specifies that max_depth should be tuned between 1 and 19.\n",
        "- scoring='accuracy': Evaluates models based on accuracy (higher is better).\n",
        "- Uses cross-validation (cv=5)."
      ],
      "metadata": {
        "id": "GYj3WzgESNS8"
      }
    },
    {
      "cell_type": "code",
      "source": [
        "param_grid = {'max_depth': range(1, 20)}\n",
        "grid_search_gini = GridSearchCV(DecisionTreeClassifier(criterion=\"gini\", random_state=42), param_grid, cv=5, scoring='accuracy')\n",
        "grid_search_gini.fit(X_train, y_train)\n",
        "best_max_depth_gini = grid_search_gini.best_params_['max_depth']\n",
        "print(f\"Optimal Max Depth for Decision Tree (Gini): {best_max_depth_gini}\")"
      ],
      "metadata": {
        "colab": {
          "base_uri": "https://localhost:8080/"
        },
        "id": "NHu5FMDahd3K",
        "outputId": "c4561d27-feb8-49fa-8126-e8ebf556fdd3"
      },
      "execution_count": 448,
      "outputs": [
        {
          "output_type": "stream",
          "name": "stdout",
          "text": [
            "Optimal Max Depth for Decision Tree (Gini): 8\n"
          ]
        }
      ]
    },
    {
      "cell_type": "markdown",
      "source": [
        "#### - Train the model"
      ],
      "metadata": {
        "id": "O7KMzovMSXqh"
      }
    },
    {
      "cell_type": "markdown",
      "source": [
        "- Trains the Decision Tree classifier using the Gini index.\n",
        "\n",
        "- Measures execution time and memory usage."
      ],
      "metadata": {
        "id": "LgH1DPdzSaAd"
      }
    },
    {
      "cell_type": "markdown",
      "source": [
        "- `tracemalloc.get_traced_memory()`\n",
        "  - This function returns a tuple:(current_memory, peak_memory)\n",
        "    - current_memory → Memory currently allocated (in bytes).\n",
        "    - peak_memory → Peak memory usage during execution (in bytes).\n",
        "\n",
        "  we only need the current_memory and throw away the peak_memory\n",
        "\n",
        "  - `tree_clf_gini` - to predict class labels for X_test and stores the results in y_pred_gini"
      ],
      "metadata": {
        "id": "s_tuCe8fSdFk"
      }
    },
    {
      "cell_type": "code",
      "source": [
        "time_start = time.time()\n",
        "tracemalloc.start()\n",
        "tree_clf_gini = DecisionTreeClassifier(criterion=\"gini\", max_depth=best_max_depth_gini, random_state=42)\n",
        "tree_clf_gini.fit(X_train, y_train)\n",
        "gini_memory, _ = tracemalloc.get_traced_memory()\n",
        "gini_time = time.time() - time_start\n",
        "tracemalloc.stop()"
      ],
      "metadata": {
        "id": "V8B_H67bNt7B"
      },
      "execution_count": 449,
      "outputs": []
    },
    {
      "cell_type": "code",
      "source": [
        "tree_clf_gini"
      ],
      "metadata": {
        "colab": {
          "base_uri": "https://localhost:8080/",
          "height": 80
        },
        "id": "62-bI7pMdYbW",
        "outputId": "99602125-d18b-4972-803f-5d44a569d706"
      },
      "execution_count": 450,
      "outputs": [
        {
          "output_type": "execute_result",
          "data": {
            "text/plain": [
              "DecisionTreeClassifier(max_depth=8, random_state=42)"
            ],
            "text/html": [
              "<style>#sk-container-id-13 {\n",
              "  /* Definition of color scheme common for light and dark mode */\n",
              "  --sklearn-color-text: #000;\n",
              "  --sklearn-color-text-muted: #666;\n",
              "  --sklearn-color-line: gray;\n",
              "  /* Definition of color scheme for unfitted estimators */\n",
              "  --sklearn-color-unfitted-level-0: #fff5e6;\n",
              "  --sklearn-color-unfitted-level-1: #f6e4d2;\n",
              "  --sklearn-color-unfitted-level-2: #ffe0b3;\n",
              "  --sklearn-color-unfitted-level-3: chocolate;\n",
              "  /* Definition of color scheme for fitted estimators */\n",
              "  --sklearn-color-fitted-level-0: #f0f8ff;\n",
              "  --sklearn-color-fitted-level-1: #d4ebff;\n",
              "  --sklearn-color-fitted-level-2: #b3dbfd;\n",
              "  --sklearn-color-fitted-level-3: cornflowerblue;\n",
              "\n",
              "  /* Specific color for light theme */\n",
              "  --sklearn-color-text-on-default-background: var(--sg-text-color, var(--theme-code-foreground, var(--jp-content-font-color1, black)));\n",
              "  --sklearn-color-background: var(--sg-background-color, var(--theme-background, var(--jp-layout-color0, white)));\n",
              "  --sklearn-color-border-box: var(--sg-text-color, var(--theme-code-foreground, var(--jp-content-font-color1, black)));\n",
              "  --sklearn-color-icon: #696969;\n",
              "\n",
              "  @media (prefers-color-scheme: dark) {\n",
              "    /* Redefinition of color scheme for dark theme */\n",
              "    --sklearn-color-text-on-default-background: var(--sg-text-color, var(--theme-code-foreground, var(--jp-content-font-color1, white)));\n",
              "    --sklearn-color-background: var(--sg-background-color, var(--theme-background, var(--jp-layout-color0, #111)));\n",
              "    --sklearn-color-border-box: var(--sg-text-color, var(--theme-code-foreground, var(--jp-content-font-color1, white)));\n",
              "    --sklearn-color-icon: #878787;\n",
              "  }\n",
              "}\n",
              "\n",
              "#sk-container-id-13 {\n",
              "  color: var(--sklearn-color-text);\n",
              "}\n",
              "\n",
              "#sk-container-id-13 pre {\n",
              "  padding: 0;\n",
              "}\n",
              "\n",
              "#sk-container-id-13 input.sk-hidden--visually {\n",
              "  border: 0;\n",
              "  clip: rect(1px 1px 1px 1px);\n",
              "  clip: rect(1px, 1px, 1px, 1px);\n",
              "  height: 1px;\n",
              "  margin: -1px;\n",
              "  overflow: hidden;\n",
              "  padding: 0;\n",
              "  position: absolute;\n",
              "  width: 1px;\n",
              "}\n",
              "\n",
              "#sk-container-id-13 div.sk-dashed-wrapped {\n",
              "  border: 1px dashed var(--sklearn-color-line);\n",
              "  margin: 0 0.4em 0.5em 0.4em;\n",
              "  box-sizing: border-box;\n",
              "  padding-bottom: 0.4em;\n",
              "  background-color: var(--sklearn-color-background);\n",
              "}\n",
              "\n",
              "#sk-container-id-13 div.sk-container {\n",
              "  /* jupyter's `normalize.less` sets `[hidden] { display: none; }`\n",
              "     but bootstrap.min.css set `[hidden] { display: none !important; }`\n",
              "     so we also need the `!important` here to be able to override the\n",
              "     default hidden behavior on the sphinx rendered scikit-learn.org.\n",
              "     See: https://github.com/scikit-learn/scikit-learn/issues/21755 */\n",
              "  display: inline-block !important;\n",
              "  position: relative;\n",
              "}\n",
              "\n",
              "#sk-container-id-13 div.sk-text-repr-fallback {\n",
              "  display: none;\n",
              "}\n",
              "\n",
              "div.sk-parallel-item,\n",
              "div.sk-serial,\n",
              "div.sk-item {\n",
              "  /* draw centered vertical line to link estimators */\n",
              "  background-image: linear-gradient(var(--sklearn-color-text-on-default-background), var(--sklearn-color-text-on-default-background));\n",
              "  background-size: 2px 100%;\n",
              "  background-repeat: no-repeat;\n",
              "  background-position: center center;\n",
              "}\n",
              "\n",
              "/* Parallel-specific style estimator block */\n",
              "\n",
              "#sk-container-id-13 div.sk-parallel-item::after {\n",
              "  content: \"\";\n",
              "  width: 100%;\n",
              "  border-bottom: 2px solid var(--sklearn-color-text-on-default-background);\n",
              "  flex-grow: 1;\n",
              "}\n",
              "\n",
              "#sk-container-id-13 div.sk-parallel {\n",
              "  display: flex;\n",
              "  align-items: stretch;\n",
              "  justify-content: center;\n",
              "  background-color: var(--sklearn-color-background);\n",
              "  position: relative;\n",
              "}\n",
              "\n",
              "#sk-container-id-13 div.sk-parallel-item {\n",
              "  display: flex;\n",
              "  flex-direction: column;\n",
              "}\n",
              "\n",
              "#sk-container-id-13 div.sk-parallel-item:first-child::after {\n",
              "  align-self: flex-end;\n",
              "  width: 50%;\n",
              "}\n",
              "\n",
              "#sk-container-id-13 div.sk-parallel-item:last-child::after {\n",
              "  align-self: flex-start;\n",
              "  width: 50%;\n",
              "}\n",
              "\n",
              "#sk-container-id-13 div.sk-parallel-item:only-child::after {\n",
              "  width: 0;\n",
              "}\n",
              "\n",
              "/* Serial-specific style estimator block */\n",
              "\n",
              "#sk-container-id-13 div.sk-serial {\n",
              "  display: flex;\n",
              "  flex-direction: column;\n",
              "  align-items: center;\n",
              "  background-color: var(--sklearn-color-background);\n",
              "  padding-right: 1em;\n",
              "  padding-left: 1em;\n",
              "}\n",
              "\n",
              "\n",
              "/* Toggleable style: style used for estimator/Pipeline/ColumnTransformer box that is\n",
              "clickable and can be expanded/collapsed.\n",
              "- Pipeline and ColumnTransformer use this feature and define the default style\n",
              "- Estimators will overwrite some part of the style using the `sk-estimator` class\n",
              "*/\n",
              "\n",
              "/* Pipeline and ColumnTransformer style (default) */\n",
              "\n",
              "#sk-container-id-13 div.sk-toggleable {\n",
              "  /* Default theme specific background. It is overwritten whether we have a\n",
              "  specific estimator or a Pipeline/ColumnTransformer */\n",
              "  background-color: var(--sklearn-color-background);\n",
              "}\n",
              "\n",
              "/* Toggleable label */\n",
              "#sk-container-id-13 label.sk-toggleable__label {\n",
              "  cursor: pointer;\n",
              "  display: flex;\n",
              "  width: 100%;\n",
              "  margin-bottom: 0;\n",
              "  padding: 0.5em;\n",
              "  box-sizing: border-box;\n",
              "  text-align: center;\n",
              "  align-items: start;\n",
              "  justify-content: space-between;\n",
              "  gap: 0.5em;\n",
              "}\n",
              "\n",
              "#sk-container-id-13 label.sk-toggleable__label .caption {\n",
              "  font-size: 0.6rem;\n",
              "  font-weight: lighter;\n",
              "  color: var(--sklearn-color-text-muted);\n",
              "}\n",
              "\n",
              "#sk-container-id-13 label.sk-toggleable__label-arrow:before {\n",
              "  /* Arrow on the left of the label */\n",
              "  content: \"▸\";\n",
              "  float: left;\n",
              "  margin-right: 0.25em;\n",
              "  color: var(--sklearn-color-icon);\n",
              "}\n",
              "\n",
              "#sk-container-id-13 label.sk-toggleable__label-arrow:hover:before {\n",
              "  color: var(--sklearn-color-text);\n",
              "}\n",
              "\n",
              "/* Toggleable content - dropdown */\n",
              "\n",
              "#sk-container-id-13 div.sk-toggleable__content {\n",
              "  max-height: 0;\n",
              "  max-width: 0;\n",
              "  overflow: hidden;\n",
              "  text-align: left;\n",
              "  /* unfitted */\n",
              "  background-color: var(--sklearn-color-unfitted-level-0);\n",
              "}\n",
              "\n",
              "#sk-container-id-13 div.sk-toggleable__content.fitted {\n",
              "  /* fitted */\n",
              "  background-color: var(--sklearn-color-fitted-level-0);\n",
              "}\n",
              "\n",
              "#sk-container-id-13 div.sk-toggleable__content pre {\n",
              "  margin: 0.2em;\n",
              "  border-radius: 0.25em;\n",
              "  color: var(--sklearn-color-text);\n",
              "  /* unfitted */\n",
              "  background-color: var(--sklearn-color-unfitted-level-0);\n",
              "}\n",
              "\n",
              "#sk-container-id-13 div.sk-toggleable__content.fitted pre {\n",
              "  /* unfitted */\n",
              "  background-color: var(--sklearn-color-fitted-level-0);\n",
              "}\n",
              "\n",
              "#sk-container-id-13 input.sk-toggleable__control:checked~div.sk-toggleable__content {\n",
              "  /* Expand drop-down */\n",
              "  max-height: 200px;\n",
              "  max-width: 100%;\n",
              "  overflow: auto;\n",
              "}\n",
              "\n",
              "#sk-container-id-13 input.sk-toggleable__control:checked~label.sk-toggleable__label-arrow:before {\n",
              "  content: \"▾\";\n",
              "}\n",
              "\n",
              "/* Pipeline/ColumnTransformer-specific style */\n",
              "\n",
              "#sk-container-id-13 div.sk-label input.sk-toggleable__control:checked~label.sk-toggleable__label {\n",
              "  color: var(--sklearn-color-text);\n",
              "  background-color: var(--sklearn-color-unfitted-level-2);\n",
              "}\n",
              "\n",
              "#sk-container-id-13 div.sk-label.fitted input.sk-toggleable__control:checked~label.sk-toggleable__label {\n",
              "  background-color: var(--sklearn-color-fitted-level-2);\n",
              "}\n",
              "\n",
              "/* Estimator-specific style */\n",
              "\n",
              "/* Colorize estimator box */\n",
              "#sk-container-id-13 div.sk-estimator input.sk-toggleable__control:checked~label.sk-toggleable__label {\n",
              "  /* unfitted */\n",
              "  background-color: var(--sklearn-color-unfitted-level-2);\n",
              "}\n",
              "\n",
              "#sk-container-id-13 div.sk-estimator.fitted input.sk-toggleable__control:checked~label.sk-toggleable__label {\n",
              "  /* fitted */\n",
              "  background-color: var(--sklearn-color-fitted-level-2);\n",
              "}\n",
              "\n",
              "#sk-container-id-13 div.sk-label label.sk-toggleable__label,\n",
              "#sk-container-id-13 div.sk-label label {\n",
              "  /* The background is the default theme color */\n",
              "  color: var(--sklearn-color-text-on-default-background);\n",
              "}\n",
              "\n",
              "/* On hover, darken the color of the background */\n",
              "#sk-container-id-13 div.sk-label:hover label.sk-toggleable__label {\n",
              "  color: var(--sklearn-color-text);\n",
              "  background-color: var(--sklearn-color-unfitted-level-2);\n",
              "}\n",
              "\n",
              "/* Label box, darken color on hover, fitted */\n",
              "#sk-container-id-13 div.sk-label.fitted:hover label.sk-toggleable__label.fitted {\n",
              "  color: var(--sklearn-color-text);\n",
              "  background-color: var(--sklearn-color-fitted-level-2);\n",
              "}\n",
              "\n",
              "/* Estimator label */\n",
              "\n",
              "#sk-container-id-13 div.sk-label label {\n",
              "  font-family: monospace;\n",
              "  font-weight: bold;\n",
              "  display: inline-block;\n",
              "  line-height: 1.2em;\n",
              "}\n",
              "\n",
              "#sk-container-id-13 div.sk-label-container {\n",
              "  text-align: center;\n",
              "}\n",
              "\n",
              "/* Estimator-specific */\n",
              "#sk-container-id-13 div.sk-estimator {\n",
              "  font-family: monospace;\n",
              "  border: 1px dotted var(--sklearn-color-border-box);\n",
              "  border-radius: 0.25em;\n",
              "  box-sizing: border-box;\n",
              "  margin-bottom: 0.5em;\n",
              "  /* unfitted */\n",
              "  background-color: var(--sklearn-color-unfitted-level-0);\n",
              "}\n",
              "\n",
              "#sk-container-id-13 div.sk-estimator.fitted {\n",
              "  /* fitted */\n",
              "  background-color: var(--sklearn-color-fitted-level-0);\n",
              "}\n",
              "\n",
              "/* on hover */\n",
              "#sk-container-id-13 div.sk-estimator:hover {\n",
              "  /* unfitted */\n",
              "  background-color: var(--sklearn-color-unfitted-level-2);\n",
              "}\n",
              "\n",
              "#sk-container-id-13 div.sk-estimator.fitted:hover {\n",
              "  /* fitted */\n",
              "  background-color: var(--sklearn-color-fitted-level-2);\n",
              "}\n",
              "\n",
              "/* Specification for estimator info (e.g. \"i\" and \"?\") */\n",
              "\n",
              "/* Common style for \"i\" and \"?\" */\n",
              "\n",
              ".sk-estimator-doc-link,\n",
              "a:link.sk-estimator-doc-link,\n",
              "a:visited.sk-estimator-doc-link {\n",
              "  float: right;\n",
              "  font-size: smaller;\n",
              "  line-height: 1em;\n",
              "  font-family: monospace;\n",
              "  background-color: var(--sklearn-color-background);\n",
              "  border-radius: 1em;\n",
              "  height: 1em;\n",
              "  width: 1em;\n",
              "  text-decoration: none !important;\n",
              "  margin-left: 0.5em;\n",
              "  text-align: center;\n",
              "  /* unfitted */\n",
              "  border: var(--sklearn-color-unfitted-level-1) 1pt solid;\n",
              "  color: var(--sklearn-color-unfitted-level-1);\n",
              "}\n",
              "\n",
              ".sk-estimator-doc-link.fitted,\n",
              "a:link.sk-estimator-doc-link.fitted,\n",
              "a:visited.sk-estimator-doc-link.fitted {\n",
              "  /* fitted */\n",
              "  border: var(--sklearn-color-fitted-level-1) 1pt solid;\n",
              "  color: var(--sklearn-color-fitted-level-1);\n",
              "}\n",
              "\n",
              "/* On hover */\n",
              "div.sk-estimator:hover .sk-estimator-doc-link:hover,\n",
              ".sk-estimator-doc-link:hover,\n",
              "div.sk-label-container:hover .sk-estimator-doc-link:hover,\n",
              ".sk-estimator-doc-link:hover {\n",
              "  /* unfitted */\n",
              "  background-color: var(--sklearn-color-unfitted-level-3);\n",
              "  color: var(--sklearn-color-background);\n",
              "  text-decoration: none;\n",
              "}\n",
              "\n",
              "div.sk-estimator.fitted:hover .sk-estimator-doc-link.fitted:hover,\n",
              ".sk-estimator-doc-link.fitted:hover,\n",
              "div.sk-label-container:hover .sk-estimator-doc-link.fitted:hover,\n",
              ".sk-estimator-doc-link.fitted:hover {\n",
              "  /* fitted */\n",
              "  background-color: var(--sklearn-color-fitted-level-3);\n",
              "  color: var(--sklearn-color-background);\n",
              "  text-decoration: none;\n",
              "}\n",
              "\n",
              "/* Span, style for the box shown on hovering the info icon */\n",
              ".sk-estimator-doc-link span {\n",
              "  display: none;\n",
              "  z-index: 9999;\n",
              "  position: relative;\n",
              "  font-weight: normal;\n",
              "  right: .2ex;\n",
              "  padding: .5ex;\n",
              "  margin: .5ex;\n",
              "  width: min-content;\n",
              "  min-width: 20ex;\n",
              "  max-width: 50ex;\n",
              "  color: var(--sklearn-color-text);\n",
              "  box-shadow: 2pt 2pt 4pt #999;\n",
              "  /* unfitted */\n",
              "  background: var(--sklearn-color-unfitted-level-0);\n",
              "  border: .5pt solid var(--sklearn-color-unfitted-level-3);\n",
              "}\n",
              "\n",
              ".sk-estimator-doc-link.fitted span {\n",
              "  /* fitted */\n",
              "  background: var(--sklearn-color-fitted-level-0);\n",
              "  border: var(--sklearn-color-fitted-level-3);\n",
              "}\n",
              "\n",
              ".sk-estimator-doc-link:hover span {\n",
              "  display: block;\n",
              "}\n",
              "\n",
              "/* \"?\"-specific style due to the `<a>` HTML tag */\n",
              "\n",
              "#sk-container-id-13 a.estimator_doc_link {\n",
              "  float: right;\n",
              "  font-size: 1rem;\n",
              "  line-height: 1em;\n",
              "  font-family: monospace;\n",
              "  background-color: var(--sklearn-color-background);\n",
              "  border-radius: 1rem;\n",
              "  height: 1rem;\n",
              "  width: 1rem;\n",
              "  text-decoration: none;\n",
              "  /* unfitted */\n",
              "  color: var(--sklearn-color-unfitted-level-1);\n",
              "  border: var(--sklearn-color-unfitted-level-1) 1pt solid;\n",
              "}\n",
              "\n",
              "#sk-container-id-13 a.estimator_doc_link.fitted {\n",
              "  /* fitted */\n",
              "  border: var(--sklearn-color-fitted-level-1) 1pt solid;\n",
              "  color: var(--sklearn-color-fitted-level-1);\n",
              "}\n",
              "\n",
              "/* On hover */\n",
              "#sk-container-id-13 a.estimator_doc_link:hover {\n",
              "  /* unfitted */\n",
              "  background-color: var(--sklearn-color-unfitted-level-3);\n",
              "  color: var(--sklearn-color-background);\n",
              "  text-decoration: none;\n",
              "}\n",
              "\n",
              "#sk-container-id-13 a.estimator_doc_link.fitted:hover {\n",
              "  /* fitted */\n",
              "  background-color: var(--sklearn-color-fitted-level-3);\n",
              "}\n",
              "</style><div id=\"sk-container-id-13\" class=\"sk-top-container\"><div class=\"sk-text-repr-fallback\"><pre>DecisionTreeClassifier(max_depth=8, random_state=42)</pre><b>In a Jupyter environment, please rerun this cell to show the HTML representation or trust the notebook. <br />On GitHub, the HTML representation is unable to render, please try loading this page with nbviewer.org.</b></div><div class=\"sk-container\" hidden><div class=\"sk-item\"><div class=\"sk-estimator fitted sk-toggleable\"><input class=\"sk-toggleable__control sk-hidden--visually\" id=\"sk-estimator-id-13\" type=\"checkbox\" checked><label for=\"sk-estimator-id-13\" class=\"sk-toggleable__label fitted sk-toggleable__label-arrow\"><div><div>DecisionTreeClassifier</div></div><div><a class=\"sk-estimator-doc-link fitted\" rel=\"noreferrer\" target=\"_blank\" href=\"https://scikit-learn.org/1.6/modules/generated/sklearn.tree.DecisionTreeClassifier.html\">?<span>Documentation for DecisionTreeClassifier</span></a><span class=\"sk-estimator-doc-link fitted\">i<span>Fitted</span></span></div></label><div class=\"sk-toggleable__content fitted\"><pre>DecisionTreeClassifier(max_depth=8, random_state=42)</pre></div> </div></div></div></div>"
            ]
          },
          "metadata": {},
          "execution_count": 450
        }
      ]
    },
    {
      "cell_type": "markdown",
      "source": [
        "#### - Predict"
      ],
      "metadata": {
        "id": "FH2KX2eFTGlt"
      }
    },
    {
      "cell_type": "markdown",
      "source": [
        "- `tree_clf_gini.predict(X_test)`:\n",
        "  - Uses the trained Decision Tree (tree_clf_gini) to predict labels for the test data (X_test).\n",
        "  - Returns an array of predicted values for each sample in X_test.\n"
      ],
      "metadata": {
        "id": "WKTVG9XUTMtD"
      }
    },
    {
      "cell_type": "code",
      "source": [
        "y_pred_gini = tree_clf_gini.predict(X_test)"
      ],
      "metadata": {
        "id": "5RRGS0bgTHG8"
      },
      "execution_count": 451,
      "outputs": []
    },
    {
      "cell_type": "markdown",
      "source": [
        "#### - Evaluate accuracy on test data."
      ],
      "metadata": {
        "id": "Zz5TeFRHTQbi"
      }
    },
    {
      "cell_type": "code",
      "source": [
        "dt_gini_accuracy = tree_clf_gini.score(X_test, y_test)"
      ],
      "metadata": {
        "id": "UflAHR4FdTA-"
      },
      "execution_count": 452,
      "outputs": []
    },
    {
      "cell_type": "code",
      "source": [
        "dt_gini_accuracy = tree_clf_gini.score(X_test, y_test)\n",
        "print(f\"Decision Tree (Gini) Accuracy: {dt_gini_accuracy:.4f}\")\n",
        "print(f\"Decision Tree (Gini) Time Taken: {gini_time:.4f} seconds\")\n",
        "print(f\"Decision Tree (Gini) Memory Used: {gini_memory / 1e6:.2f} MB\")\n"
      ],
      "metadata": {
        "colab": {
          "base_uri": "https://localhost:8080/"
        },
        "id": "bbEx1-ddVPO2",
        "outputId": "ebf750b0-f3a4-47b8-e928-75b0c23fa9dd"
      },
      "execution_count": 453,
      "outputs": [
        {
          "output_type": "stream",
          "name": "stdout",
          "text": [
            "Decision Tree (Gini) Accuracy: 0.9441\n",
            "Decision Tree (Gini) Time Taken: 0.0200 seconds\n",
            "Decision Tree (Gini) Memory Used: 0.00 MB\n"
          ]
        }
      ]
    },
    {
      "cell_type": "markdown",
      "source": [
        "#### - Visualize the Decision Tree"
      ],
      "metadata": {
        "id": "WcpsgW49TU8O"
      }
    },
    {
      "cell_type": "markdown",
      "source": [
        "- `export_graphviz`, `graphviz.Source`: Visualizes decision trees."
      ],
      "metadata": {
        "id": "rM3T1R7fTY8h"
      }
    },
    {
      "cell_type": "code",
      "source": [
        "from sklearn.tree import export_graphviz\n",
        "from graphviz import Source"
      ],
      "metadata": {
        "id": "rplxbuGITcht"
      },
      "execution_count": 454,
      "outputs": []
    },
    {
      "cell_type": "markdown",
      "source": [
        "- `export_graphviz()` - Export Decision Tree\n",
        "- `export_graphviz()` - Converts the Decision Tree into a .dot file (Graphviz format) for visualization.\n",
        "- `out_file=str(IMAGES_PATH / \"decision_tree.dot\")` - Saves the tree structure as a .dot file.\n",
        "- `feature_names=X_encoded.columns` - Labels the tree nodes with feature names.\n",
        "- `rounded=True`  Makes the node edges rounded for better visualization.\n",
        "- `filled=True` - Colors the nodes based on class distribution."
      ],
      "metadata": {
        "id": "oe2rClEcTlNb"
      }
    },
    {
      "cell_type": "code",
      "source": [
        "export_graphviz(\n",
        "    tree_clf_gini,\n",
        "    out_file=str(IMAGES_PATH / \"decision_tree.dot\"),\n",
        "    feature_names=X_encoded.columns,\n",
        "    rounded=True,\n",
        "    filled=True\n",
        ")\n",
        "Source.from_file(IMAGES_PATH / \"decision_tree.dot\")"
      ],
      "metadata": {
        "colab": {
          "base_uri": "https://localhost:8080/",
          "height": 1000
        },
        "id": "-s-dhWSaPFms",
        "outputId": "a683ea4d-a2eb-494b-dd6b-10cc6b26b9c5"
      },
      "execution_count": 455,
      "outputs": [
        {
          "output_type": "execute_result",
          "data": {
            "image/svg+xml": "<?xml version=\"1.0\" encoding=\"UTF-8\" standalone=\"no\"?>\n<!DOCTYPE svg PUBLIC \"-//W3C//DTD SVG 1.1//EN\"\n \"http://www.w3.org/Graphics/SVG/1.1/DTD/svg11.dtd\">\n<!-- Generated by graphviz version 2.43.0 (0)\n -->\n<!-- Title: Tree Pages: 1 -->\n<svg width=\"2461pt\" height=\"893pt\"\n viewBox=\"0.00 0.00 2460.50 893.00\" xmlns=\"http://www.w3.org/2000/svg\" xmlns:xlink=\"http://www.w3.org/1999/xlink\">\n<g id=\"graph0\" class=\"graph\" transform=\"scale(1 1) rotate(0) translate(4 889)\">\n<title>Tree</title>\n<polygon fill=\"white\" stroke=\"transparent\" points=\"-4,4 -4,-889 2456.5,-889 2456.5,4 -4,4\"/>\n<!-- 0 -->\n<g id=\"node1\" class=\"node\">\n<title>0</title>\n<path fill=\"#87c4ef\" stroke=\"black\" d=\"M1334.5,-885C1334.5,-885 1164.5,-885 1164.5,-885 1158.5,-885 1152.5,-879 1152.5,-873 1152.5,-873 1152.5,-829 1152.5,-829 1152.5,-823 1158.5,-817 1164.5,-817 1164.5,-817 1334.5,-817 1334.5,-817 1340.5,-817 1346.5,-823 1346.5,-829 1346.5,-829 1346.5,-873 1346.5,-873 1346.5,-879 1340.5,-885 1334.5,-885\"/>\n<text text-anchor=\"middle\" x=\"1249.5\" y=\"-869.8\" font-family=\"Helvetica,sans-Serif\" font-size=\"14.00\">Budget(INR) &lt;= 106137500.0</text>\n<text text-anchor=\"middle\" x=\"1249.5\" y=\"-854.8\" font-family=\"Helvetica,sans-Serif\" font-size=\"14.00\">gini = 0.406</text>\n<text text-anchor=\"middle\" x=\"1249.5\" y=\"-839.8\" font-family=\"Helvetica,sans-Serif\" font-size=\"14.00\">samples = 1358</text>\n<text text-anchor=\"middle\" x=\"1249.5\" y=\"-824.8\" font-family=\"Helvetica,sans-Serif\" font-size=\"14.00\">value = [385, 973]</text>\n</g>\n<!-- 1 -->\n<g id=\"node2\" class=\"node\">\n<title>1</title>\n<path fill=\"#45a3e7\" stroke=\"black\" d=\"M1221.5,-781C1221.5,-781 1123.5,-781 1123.5,-781 1117.5,-781 1111.5,-775 1111.5,-769 1111.5,-769 1111.5,-725 1111.5,-725 1111.5,-719 1117.5,-713 1123.5,-713 1123.5,-713 1221.5,-713 1221.5,-713 1227.5,-713 1233.5,-719 1233.5,-725 1233.5,-725 1233.5,-769 1233.5,-769 1233.5,-775 1227.5,-781 1221.5,-781\"/>\n<text text-anchor=\"middle\" x=\"1172.5\" y=\"-765.8\" font-family=\"Helvetica,sans-Serif\" font-size=\"14.00\">Director &lt;= 602.5</text>\n<text text-anchor=\"middle\" x=\"1172.5\" y=\"-750.8\" font-family=\"Helvetica,sans-Serif\" font-size=\"14.00\">gini = 0.11</text>\n<text text-anchor=\"middle\" x=\"1172.5\" y=\"-735.8\" font-family=\"Helvetica,sans-Serif\" font-size=\"14.00\">samples = 943</text>\n<text text-anchor=\"middle\" x=\"1172.5\" y=\"-720.8\" font-family=\"Helvetica,sans-Serif\" font-size=\"14.00\">value = [55, 888]</text>\n</g>\n<!-- 0&#45;&gt;1 -->\n<g id=\"edge1\" class=\"edge\">\n<title>0&#45;&gt;1</title>\n<path fill=\"none\" stroke=\"black\" d=\"M1224.5,-816.88C1217.91,-808.15 1210.72,-798.62 1203.84,-789.51\"/>\n<polygon fill=\"black\" stroke=\"black\" points=\"1206.46,-787.17 1197.64,-781.3 1200.87,-791.39 1206.46,-787.17\"/>\n<text text-anchor=\"middle\" x=\"1194.18\" y=\"-802.36\" font-family=\"Helvetica,sans-Serif\" font-size=\"14.00\">True</text>\n</g>\n<!-- 28 -->\n<g id=\"node29\" class=\"node\">\n<title>28</title>\n<path fill=\"#eca16c\" stroke=\"black\" d=\"M1388.5,-781C1388.5,-781 1290.5,-781 1290.5,-781 1284.5,-781 1278.5,-775 1278.5,-769 1278.5,-769 1278.5,-725 1278.5,-725 1278.5,-719 1284.5,-713 1290.5,-713 1290.5,-713 1388.5,-713 1388.5,-713 1394.5,-713 1400.5,-719 1400.5,-725 1400.5,-725 1400.5,-769 1400.5,-769 1400.5,-775 1394.5,-781 1388.5,-781\"/>\n<text text-anchor=\"middle\" x=\"1339.5\" y=\"-765.8\" font-family=\"Helvetica,sans-Serif\" font-size=\"14.00\">Director &lt;= 602.5</text>\n<text text-anchor=\"middle\" x=\"1339.5\" y=\"-750.8\" font-family=\"Helvetica,sans-Serif\" font-size=\"14.00\">gini = 0.326</text>\n<text text-anchor=\"middle\" x=\"1339.5\" y=\"-735.8\" font-family=\"Helvetica,sans-Serif\" font-size=\"14.00\">samples = 415</text>\n<text text-anchor=\"middle\" x=\"1339.5\" y=\"-720.8\" font-family=\"Helvetica,sans-Serif\" font-size=\"14.00\">value = [330, 85]</text>\n</g>\n<!-- 0&#45;&gt;28 -->\n<g id=\"edge28\" class=\"edge\">\n<title>0&#45;&gt;28</title>\n<path fill=\"none\" stroke=\"black\" d=\"M1278.72,-816.88C1286.58,-807.98 1295.17,-798.24 1303.36,-788.96\"/>\n<polygon fill=\"black\" stroke=\"black\" points=\"1306.13,-791.11 1310.12,-781.3 1300.88,-786.48 1306.13,-791.11\"/>\n<text text-anchor=\"middle\" x=\"1311.68\" y=\"-802.55\" font-family=\"Helvetica,sans-Serif\" font-size=\"14.00\">False</text>\n</g>\n<!-- 2 -->\n<g id=\"node3\" class=\"node\">\n<title>2</title>\n<path fill=\"#91c8f1\" stroke=\"black\" d=\"M1061.5,-677C1061.5,-677 945.5,-677 945.5,-677 939.5,-677 933.5,-671 933.5,-665 933.5,-665 933.5,-621 933.5,-621 933.5,-615 939.5,-609 945.5,-609 945.5,-609 1061.5,-609 1061.5,-609 1067.5,-609 1073.5,-615 1073.5,-621 1073.5,-621 1073.5,-665 1073.5,-665 1073.5,-671 1067.5,-677 1061.5,-677\"/>\n<text text-anchor=\"middle\" x=\"1003.5\" y=\"-661.8\" font-family=\"Helvetica,sans-Serif\" font-size=\"14.00\">Director &lt;= 169.5</text>\n<text text-anchor=\"middle\" x=\"1003.5\" y=\"-646.8\" font-family=\"Helvetica,sans-Serif\" font-size=\"14.00\">gini = 0.426</text>\n<text text-anchor=\"middle\" x=\"1003.5\" y=\"-631.8\" font-family=\"Helvetica,sans-Serif\" font-size=\"14.00\">samples = 179</text>\n<text text-anchor=\"middle\" x=\"1003.5\" y=\"-616.8\" font-family=\"Helvetica,sans-Serif\" font-size=\"14.00\">value = [55.0, 124.0]</text>\n</g>\n<!-- 1&#45;&gt;2 -->\n<g id=\"edge2\" class=\"edge\">\n<title>1&#45;&gt;2</title>\n<path fill=\"none\" stroke=\"black\" d=\"M1117.63,-712.88C1101.46,-703.12 1083.64,-692.37 1066.97,-682.31\"/>\n<polygon fill=\"black\" stroke=\"black\" points=\"1068.75,-679.3 1058.38,-677.12 1065.14,-685.29 1068.75,-679.3\"/>\n</g>\n<!-- 27 -->\n<g id=\"node28\" class=\"node\">\n<title>27</title>\n<path fill=\"#399de5\" stroke=\"black\" d=\"M1215.5,-669.5C1215.5,-669.5 1129.5,-669.5 1129.5,-669.5 1123.5,-669.5 1117.5,-663.5 1117.5,-657.5 1117.5,-657.5 1117.5,-628.5 1117.5,-628.5 1117.5,-622.5 1123.5,-616.5 1129.5,-616.5 1129.5,-616.5 1215.5,-616.5 1215.5,-616.5 1221.5,-616.5 1227.5,-622.5 1227.5,-628.5 1227.5,-628.5 1227.5,-657.5 1227.5,-657.5 1227.5,-663.5 1221.5,-669.5 1215.5,-669.5\"/>\n<text text-anchor=\"middle\" x=\"1172.5\" y=\"-654.3\" font-family=\"Helvetica,sans-Serif\" font-size=\"14.00\">gini = 0.0</text>\n<text text-anchor=\"middle\" x=\"1172.5\" y=\"-639.3\" font-family=\"Helvetica,sans-Serif\" font-size=\"14.00\">samples = 764</text>\n<text text-anchor=\"middle\" x=\"1172.5\" y=\"-624.3\" font-family=\"Helvetica,sans-Serif\" font-size=\"14.00\">value = [0, 764]</text>\n</g>\n<!-- 1&#45;&gt;27 -->\n<g id=\"edge27\" class=\"edge\">\n<title>1&#45;&gt;27</title>\n<path fill=\"none\" stroke=\"black\" d=\"M1172.5,-712.88C1172.5,-702.33 1172.5,-690.6 1172.5,-679.85\"/>\n<polygon fill=\"black\" stroke=\"black\" points=\"1176,-679.52 1172.5,-669.52 1169,-679.52 1176,-679.52\"/>\n</g>\n<!-- 3 -->\n<g id=\"node4\" class=\"node\">\n<title>3</title>\n<path fill=\"#6ab6ec\" stroke=\"black\" d=\"M915,-573C915,-573 806,-573 806,-573 800,-573 794,-567 794,-561 794,-561 794,-517 794,-517 794,-511 800,-505 806,-505 806,-505 915,-505 915,-505 921,-505 927,-511 927,-517 927,-517 927,-561 927,-561 927,-567 921,-573 915,-573\"/>\n<text text-anchor=\"middle\" x=\"860.5\" y=\"-557.8\" font-family=\"Helvetica,sans-Serif\" font-size=\"14.00\">Lead Star &lt;= 454.5</text>\n<text text-anchor=\"middle\" x=\"860.5\" y=\"-542.8\" font-family=\"Helvetica,sans-Serif\" font-size=\"14.00\">gini = 0.32</text>\n<text text-anchor=\"middle\" x=\"860.5\" y=\"-527.8\" font-family=\"Helvetica,sans-Serif\" font-size=\"14.00\">samples = 155</text>\n<text text-anchor=\"middle\" x=\"860.5\" y=\"-512.8\" font-family=\"Helvetica,sans-Serif\" font-size=\"14.00\">value = [31, 124]</text>\n</g>\n<!-- 2&#45;&gt;3 -->\n<g id=\"edge3\" class=\"edge\">\n<title>2&#45;&gt;3</title>\n<path fill=\"none\" stroke=\"black\" d=\"M957.07,-608.88C943.83,-599.44 929.29,-589.06 915.59,-579.29\"/>\n<polygon fill=\"black\" stroke=\"black\" points=\"917.36,-576.26 907.18,-573.3 913.29,-581.96 917.36,-576.26\"/>\n</g>\n<!-- 26 -->\n<g id=\"node27\" class=\"node\">\n<title>26</title>\n<path fill=\"#e58139\" stroke=\"black\" d=\"M1042.5,-565.5C1042.5,-565.5 964.5,-565.5 964.5,-565.5 958.5,-565.5 952.5,-559.5 952.5,-553.5 952.5,-553.5 952.5,-524.5 952.5,-524.5 952.5,-518.5 958.5,-512.5 964.5,-512.5 964.5,-512.5 1042.5,-512.5 1042.5,-512.5 1048.5,-512.5 1054.5,-518.5 1054.5,-524.5 1054.5,-524.5 1054.5,-553.5 1054.5,-553.5 1054.5,-559.5 1048.5,-565.5 1042.5,-565.5\"/>\n<text text-anchor=\"middle\" x=\"1003.5\" y=\"-550.3\" font-family=\"Helvetica,sans-Serif\" font-size=\"14.00\">gini = 0.0</text>\n<text text-anchor=\"middle\" x=\"1003.5\" y=\"-535.3\" font-family=\"Helvetica,sans-Serif\" font-size=\"14.00\">samples = 24</text>\n<text text-anchor=\"middle\" x=\"1003.5\" y=\"-520.3\" font-family=\"Helvetica,sans-Serif\" font-size=\"14.00\">value = [24, 0]</text>\n</g>\n<!-- 2&#45;&gt;26 -->\n<g id=\"edge26\" class=\"edge\">\n<title>2&#45;&gt;26</title>\n<path fill=\"none\" stroke=\"black\" d=\"M1003.5,-608.88C1003.5,-598.33 1003.5,-586.6 1003.5,-575.85\"/>\n<polygon fill=\"black\" stroke=\"black\" points=\"1007,-575.52 1003.5,-565.52 1000,-575.52 1007,-575.52\"/>\n</g>\n<!-- 4 -->\n<g id=\"node5\" class=\"node\">\n<title>4</title>\n<path fill=\"#96cbf1\" stroke=\"black\" d=\"M777,-469C777,-469 610,-469 610,-469 604,-469 598,-463 598,-457 598,-457 598,-413 598,-413 598,-407 604,-401 610,-401 610,-401 777,-401 777,-401 783,-401 789,-407 789,-413 789,-413 789,-457 789,-457 789,-463 783,-469 777,-469\"/>\n<text text-anchor=\"middle\" x=\"693.5\" y=\"-453.8\" font-family=\"Helvetica,sans-Serif\" font-size=\"14.00\">Number of Screens &lt;= 312.5</text>\n<text text-anchor=\"middle\" x=\"693.5\" y=\"-438.8\" font-family=\"Helvetica,sans-Serif\" font-size=\"14.00\">gini = 0.435</text>\n<text text-anchor=\"middle\" x=\"693.5\" y=\"-423.8\" font-family=\"Helvetica,sans-Serif\" font-size=\"14.00\">samples = 97</text>\n<text text-anchor=\"middle\" x=\"693.5\" y=\"-408.8\" font-family=\"Helvetica,sans-Serif\" font-size=\"14.00\">value = [31.0, 66.0]</text>\n</g>\n<!-- 3&#45;&gt;4 -->\n<g id=\"edge4\" class=\"edge\">\n<title>3&#45;&gt;4</title>\n<path fill=\"none\" stroke=\"black\" d=\"M806.28,-504.88C790.45,-495.21 773.01,-484.56 756.68,-474.59\"/>\n<polygon fill=\"black\" stroke=\"black\" points=\"758.09,-471.35 747.73,-469.12 754.44,-477.32 758.09,-471.35\"/>\n</g>\n<!-- 25 -->\n<g id=\"node26\" class=\"node\">\n<title>25</title>\n<path fill=\"#399de5\" stroke=\"black\" d=\"M899.5,-461.5C899.5,-461.5 821.5,-461.5 821.5,-461.5 815.5,-461.5 809.5,-455.5 809.5,-449.5 809.5,-449.5 809.5,-420.5 809.5,-420.5 809.5,-414.5 815.5,-408.5 821.5,-408.5 821.5,-408.5 899.5,-408.5 899.5,-408.5 905.5,-408.5 911.5,-414.5 911.5,-420.5 911.5,-420.5 911.5,-449.5 911.5,-449.5 911.5,-455.5 905.5,-461.5 899.5,-461.5\"/>\n<text text-anchor=\"middle\" x=\"860.5\" y=\"-446.3\" font-family=\"Helvetica,sans-Serif\" font-size=\"14.00\">gini = 0.0</text>\n<text text-anchor=\"middle\" x=\"860.5\" y=\"-431.3\" font-family=\"Helvetica,sans-Serif\" font-size=\"14.00\">samples = 58</text>\n<text text-anchor=\"middle\" x=\"860.5\" y=\"-416.3\" font-family=\"Helvetica,sans-Serif\" font-size=\"14.00\">value = [0, 58]</text>\n</g>\n<!-- 3&#45;&gt;25 -->\n<g id=\"edge25\" class=\"edge\">\n<title>3&#45;&gt;25</title>\n<path fill=\"none\" stroke=\"black\" d=\"M860.5,-504.88C860.5,-494.33 860.5,-482.6 860.5,-471.85\"/>\n<polygon fill=\"black\" stroke=\"black\" points=\"864,-471.52 860.5,-461.52 857,-471.52 864,-471.52\"/>\n</g>\n<!-- 5 -->\n<g id=\"node6\" class=\"node\">\n<title>5</title>\n<path fill=\"#ddeefb\" stroke=\"black\" d=\"M600,-365C600,-365 437,-365 437,-365 431,-365 425,-359 425,-353 425,-353 425,-309 425,-309 425,-303 431,-297 437,-297 437,-297 600,-297 600,-297 606,-297 612,-303 612,-309 612,-309 612,-353 612,-353 612,-359 606,-365 600,-365\"/>\n<text text-anchor=\"middle\" x=\"518.5\" y=\"-349.8\" font-family=\"Helvetica,sans-Serif\" font-size=\"14.00\">Budget(INR) &lt;= 66910000.0</text>\n<text text-anchor=\"middle\" x=\"518.5\" y=\"-334.8\" font-family=\"Helvetica,sans-Serif\" font-size=\"14.00\">gini = 0.496</text>\n<text text-anchor=\"middle\" x=\"518.5\" y=\"-319.8\" font-family=\"Helvetica,sans-Serif\" font-size=\"14.00\">samples = 64</text>\n<text text-anchor=\"middle\" x=\"518.5\" y=\"-304.8\" font-family=\"Helvetica,sans-Serif\" font-size=\"14.00\">value = [29, 35]</text>\n</g>\n<!-- 4&#45;&gt;5 -->\n<g id=\"edge5\" class=\"edge\">\n<title>4&#45;&gt;5</title>\n<path fill=\"none\" stroke=\"black\" d=\"M636.68,-400.88C619.94,-391.12 601.48,-380.37 584.23,-370.31\"/>\n<polygon fill=\"black\" stroke=\"black\" points=\"585.73,-367.14 575.33,-365.12 582.21,-373.18 585.73,-367.14\"/>\n</g>\n<!-- 18 -->\n<g id=\"node19\" class=\"node\">\n<title>18</title>\n<path fill=\"#46a3e7\" stroke=\"black\" d=\"M744,-365C744,-365 643,-365 643,-365 637,-365 631,-359 631,-353 631,-353 631,-309 631,-309 631,-303 637,-297 643,-297 643,-297 744,-297 744,-297 750,-297 756,-303 756,-309 756,-309 756,-353 756,-353 756,-359 750,-365 744,-365\"/>\n<text text-anchor=\"middle\" x=\"693.5\" y=\"-349.8\" font-family=\"Helvetica,sans-Serif\" font-size=\"14.00\">Lead Star &lt;= 43.5</text>\n<text text-anchor=\"middle\" x=\"693.5\" y=\"-334.8\" font-family=\"Helvetica,sans-Serif\" font-size=\"14.00\">gini = 0.114</text>\n<text text-anchor=\"middle\" x=\"693.5\" y=\"-319.8\" font-family=\"Helvetica,sans-Serif\" font-size=\"14.00\">samples = 33</text>\n<text text-anchor=\"middle\" x=\"693.5\" y=\"-304.8\" font-family=\"Helvetica,sans-Serif\" font-size=\"14.00\">value = [2, 31]</text>\n</g>\n<!-- 4&#45;&gt;18 -->\n<g id=\"edge18\" class=\"edge\">\n<title>4&#45;&gt;18</title>\n<path fill=\"none\" stroke=\"black\" d=\"M693.5,-400.88C693.5,-392.78 693.5,-383.98 693.5,-375.47\"/>\n<polygon fill=\"black\" stroke=\"black\" points=\"697,-375.3 693.5,-365.3 690,-375.3 697,-375.3\"/>\n</g>\n<!-- 6 -->\n<g id=\"node7\" class=\"node\">\n<title>6</title>\n<path fill=\"#add7f4\" stroke=\"black\" d=\"M382.5,-261C382.5,-261 296.5,-261 296.5,-261 290.5,-261 284.5,-255 284.5,-249 284.5,-249 284.5,-205 284.5,-205 284.5,-199 290.5,-193 296.5,-193 296.5,-193 382.5,-193 382.5,-193 388.5,-193 394.5,-199 394.5,-205 394.5,-205 394.5,-249 394.5,-249 394.5,-255 388.5,-261 382.5,-261\"/>\n<text text-anchor=\"middle\" x=\"339.5\" y=\"-245.8\" font-family=\"Helvetica,sans-Serif\" font-size=\"14.00\">Genre &lt;= 86.5</text>\n<text text-anchor=\"middle\" x=\"339.5\" y=\"-230.8\" font-family=\"Helvetica,sans-Serif\" font-size=\"14.00\">gini = 0.466</text>\n<text text-anchor=\"middle\" x=\"339.5\" y=\"-215.8\" font-family=\"Helvetica,sans-Serif\" font-size=\"14.00\">samples = 54</text>\n<text text-anchor=\"middle\" x=\"339.5\" y=\"-200.8\" font-family=\"Helvetica,sans-Serif\" font-size=\"14.00\">value = [20, 34]</text>\n</g>\n<!-- 5&#45;&gt;6 -->\n<g id=\"edge6\" class=\"edge\">\n<title>5&#45;&gt;6</title>\n<path fill=\"none\" stroke=\"black\" d=\"M460.38,-296.88C442.14,-286.49 421.91,-274.96 403.29,-264.35\"/>\n<polygon fill=\"black\" stroke=\"black\" points=\"405.01,-261.3 394.59,-259.39 401.54,-267.38 405.01,-261.3\"/>\n</g>\n<!-- 13 -->\n<g id=\"node14\" class=\"node\">\n<title>13</title>\n<path fill=\"#e88f4f\" stroke=\"black\" d=\"M583.5,-261C583.5,-261 453.5,-261 453.5,-261 447.5,-261 441.5,-255 441.5,-249 441.5,-249 441.5,-205 441.5,-205 441.5,-199 447.5,-193 453.5,-193 453.5,-193 583.5,-193 583.5,-193 589.5,-193 595.5,-199 595.5,-205 595.5,-205 595.5,-249 595.5,-249 595.5,-255 589.5,-261 583.5,-261\"/>\n<text text-anchor=\"middle\" x=\"518.5\" y=\"-245.8\" font-family=\"Helvetica,sans-Serif\" font-size=\"14.00\">Music Director &lt;= 18.0</text>\n<text text-anchor=\"middle\" x=\"518.5\" y=\"-230.8\" font-family=\"Helvetica,sans-Serif\" font-size=\"14.00\">gini = 0.18</text>\n<text text-anchor=\"middle\" x=\"518.5\" y=\"-215.8\" font-family=\"Helvetica,sans-Serif\" font-size=\"14.00\">samples = 10</text>\n<text text-anchor=\"middle\" x=\"518.5\" y=\"-200.8\" font-family=\"Helvetica,sans-Serif\" font-size=\"14.00\">value = [9, 1]</text>\n</g>\n<!-- 5&#45;&gt;13 -->\n<g id=\"edge13\" class=\"edge\">\n<title>5&#45;&gt;13</title>\n<path fill=\"none\" stroke=\"black\" d=\"M518.5,-296.88C518.5,-288.78 518.5,-279.98 518.5,-271.47\"/>\n<polygon fill=\"black\" stroke=\"black\" points=\"522,-271.3 518.5,-261.3 515,-271.3 522,-271.3\"/>\n</g>\n<!-- 7 -->\n<g id=\"node8\" class=\"node\">\n<title>7</title>\n<path fill=\"#eca36f\" stroke=\"black\" d=\"M205,-157C205,-157 124,-157 124,-157 118,-157 112,-151 112,-145 112,-145 112,-101 112,-101 112,-95 118,-89 124,-89 124,-89 205,-89 205,-89 211,-89 217,-95 217,-101 217,-101 217,-145 217,-145 217,-151 211,-157 205,-157\"/>\n<text text-anchor=\"middle\" x=\"164.5\" y=\"-141.8\" font-family=\"Helvetica,sans-Serif\" font-size=\"14.00\">Genre &lt;= 65.5</text>\n<text text-anchor=\"middle\" x=\"164.5\" y=\"-126.8\" font-family=\"Helvetica,sans-Serif\" font-size=\"14.00\">gini = 0.337</text>\n<text text-anchor=\"middle\" x=\"164.5\" y=\"-111.8\" font-family=\"Helvetica,sans-Serif\" font-size=\"14.00\">samples = 14</text>\n<text text-anchor=\"middle\" x=\"164.5\" y=\"-96.8\" font-family=\"Helvetica,sans-Serif\" font-size=\"14.00\">value = [11, 3]</text>\n</g>\n<!-- 6&#45;&gt;7 -->\n<g id=\"edge7\" class=\"edge\">\n<title>6&#45;&gt;7</title>\n<path fill=\"none\" stroke=\"black\" d=\"M284.13,-193.73C265.63,-182.94 244.91,-170.86 225.97,-159.83\"/>\n<polygon fill=\"black\" stroke=\"black\" points=\"227.53,-156.68 217.12,-154.67 224,-162.73 227.53,-156.68\"/>\n</g>\n<!-- 10 -->\n<g id=\"node11\" class=\"node\">\n<title>10</title>\n<path fill=\"#72b9ed\" stroke=\"black\" d=\"M421,-157C421,-157 258,-157 258,-157 252,-157 246,-151 246,-145 246,-145 246,-101 246,-101 246,-95 252,-89 258,-89 258,-89 421,-89 421,-89 427,-89 433,-95 433,-101 433,-101 433,-145 433,-145 433,-151 427,-157 421,-157\"/>\n<text text-anchor=\"middle\" x=\"339.5\" y=\"-141.8\" font-family=\"Helvetica,sans-Serif\" font-size=\"14.00\">Budget(INR) &lt;= 37200000.0</text>\n<text text-anchor=\"middle\" x=\"339.5\" y=\"-126.8\" font-family=\"Helvetica,sans-Serif\" font-size=\"14.00\">gini = 0.349</text>\n<text text-anchor=\"middle\" x=\"339.5\" y=\"-111.8\" font-family=\"Helvetica,sans-Serif\" font-size=\"14.00\">samples = 40</text>\n<text text-anchor=\"middle\" x=\"339.5\" y=\"-96.8\" font-family=\"Helvetica,sans-Serif\" font-size=\"14.00\">value = [9, 31]</text>\n</g>\n<!-- 6&#45;&gt;10 -->\n<g id=\"edge10\" class=\"edge\">\n<title>6&#45;&gt;10</title>\n<path fill=\"none\" stroke=\"black\" d=\"M339.5,-192.88C339.5,-184.78 339.5,-175.98 339.5,-167.47\"/>\n<polygon fill=\"black\" stroke=\"black\" points=\"343,-167.3 339.5,-157.3 336,-167.3 343,-167.3\"/>\n</g>\n<!-- 8 -->\n<g id=\"node9\" class=\"node\">\n<title>8</title>\n<path fill=\"#399de5\" stroke=\"black\" d=\"M83,-53C83,-53 12,-53 12,-53 6,-53 0,-47 0,-41 0,-41 0,-12 0,-12 0,-6 6,0 12,0 12,0 83,0 83,0 89,0 95,-6 95,-12 95,-12 95,-41 95,-41 95,-47 89,-53 83,-53\"/>\n<text text-anchor=\"middle\" x=\"47.5\" y=\"-37.8\" font-family=\"Helvetica,sans-Serif\" font-size=\"14.00\">gini = 0.0</text>\n<text text-anchor=\"middle\" x=\"47.5\" y=\"-22.8\" font-family=\"Helvetica,sans-Serif\" font-size=\"14.00\">samples = 1</text>\n<text text-anchor=\"middle\" x=\"47.5\" y=\"-7.8\" font-family=\"Helvetica,sans-Serif\" font-size=\"14.00\">value = [0, 1]</text>\n</g>\n<!-- 7&#45;&gt;8 -->\n<g id=\"edge8\" class=\"edge\">\n<title>7&#45;&gt;8</title>\n<path fill=\"none\" stroke=\"black\" d=\"M123.58,-88.95C111.8,-79.43 98.97,-69.07 87.26,-59.62\"/>\n<polygon fill=\"black\" stroke=\"black\" points=\"89.34,-56.8 79.36,-53.24 84.94,-62.24 89.34,-56.8\"/>\n</g>\n<!-- 9 -->\n<g id=\"node10\" class=\"node\">\n<title>9</title>\n<path fill=\"#ea985d\" stroke=\"black\" d=\"M203.5,-53C203.5,-53 125.5,-53 125.5,-53 119.5,-53 113.5,-47 113.5,-41 113.5,-41 113.5,-12 113.5,-12 113.5,-6 119.5,0 125.5,0 125.5,0 203.5,0 203.5,0 209.5,0 215.5,-6 215.5,-12 215.5,-12 215.5,-41 215.5,-41 215.5,-47 209.5,-53 203.5,-53\"/>\n<text text-anchor=\"middle\" x=\"164.5\" y=\"-37.8\" font-family=\"Helvetica,sans-Serif\" font-size=\"14.00\">gini = 0.26</text>\n<text text-anchor=\"middle\" x=\"164.5\" y=\"-22.8\" font-family=\"Helvetica,sans-Serif\" font-size=\"14.00\">samples = 13</text>\n<text text-anchor=\"middle\" x=\"164.5\" y=\"-7.8\" font-family=\"Helvetica,sans-Serif\" font-size=\"14.00\">value = [11, 2]</text>\n</g>\n<!-- 7&#45;&gt;9 -->\n<g id=\"edge9\" class=\"edge\">\n<title>7&#45;&gt;9</title>\n<path fill=\"none\" stroke=\"black\" d=\"M164.5,-88.95C164.5,-80.72 164.5,-71.85 164.5,-63.48\"/>\n<polygon fill=\"black\" stroke=\"black\" points=\"168,-63.24 164.5,-53.24 161,-63.24 168,-63.24\"/>\n</g>\n<!-- 11 -->\n<g id=\"node12\" class=\"node\">\n<title>11</title>\n<path fill=\"#50a8e8\" stroke=\"black\" d=\"M323.5,-53C323.5,-53 245.5,-53 245.5,-53 239.5,-53 233.5,-47 233.5,-41 233.5,-41 233.5,-12 233.5,-12 233.5,-6 239.5,0 245.5,0 245.5,0 323.5,0 323.5,0 329.5,0 335.5,-6 335.5,-12 335.5,-12 335.5,-41 335.5,-41 335.5,-47 329.5,-53 323.5,-53\"/>\n<text text-anchor=\"middle\" x=\"284.5\" y=\"-37.8\" font-family=\"Helvetica,sans-Serif\" font-size=\"14.00\">gini = 0.185</text>\n<text text-anchor=\"middle\" x=\"284.5\" y=\"-22.8\" font-family=\"Helvetica,sans-Serif\" font-size=\"14.00\">samples = 29</text>\n<text text-anchor=\"middle\" x=\"284.5\" y=\"-7.8\" font-family=\"Helvetica,sans-Serif\" font-size=\"14.00\">value = [3, 26]</text>\n</g>\n<!-- 10&#45;&gt;11 -->\n<g id=\"edge11\" class=\"edge\">\n<title>10&#45;&gt;11</title>\n<path fill=\"none\" stroke=\"black\" d=\"M320.26,-88.95C315.21,-80.26 309.74,-70.86 304.63,-62.09\"/>\n<polygon fill=\"black\" stroke=\"black\" points=\"307.53,-60.12 299.48,-53.24 301.48,-63.64 307.53,-60.12\"/>\n</g>\n<!-- 12 -->\n<g id=\"node13\" class=\"node\">\n<title>12</title>\n<path fill=\"#fbeade\" stroke=\"black\" d=\"M439.5,-53C439.5,-53 365.5,-53 365.5,-53 359.5,-53 353.5,-47 353.5,-41 353.5,-41 353.5,-12 353.5,-12 353.5,-6 359.5,0 365.5,0 365.5,0 439.5,0 439.5,0 445.5,0 451.5,-6 451.5,-12 451.5,-12 451.5,-41 451.5,-41 451.5,-47 445.5,-53 439.5,-53\"/>\n<text text-anchor=\"middle\" x=\"402.5\" y=\"-37.8\" font-family=\"Helvetica,sans-Serif\" font-size=\"14.00\">gini = 0.496</text>\n<text text-anchor=\"middle\" x=\"402.5\" y=\"-22.8\" font-family=\"Helvetica,sans-Serif\" font-size=\"14.00\">samples = 11</text>\n<text text-anchor=\"middle\" x=\"402.5\" y=\"-7.8\" font-family=\"Helvetica,sans-Serif\" font-size=\"14.00\">value = [6, 5]</text>\n</g>\n<!-- 10&#45;&gt;12 -->\n<g id=\"edge12\" class=\"edge\">\n<title>10&#45;&gt;12</title>\n<path fill=\"none\" stroke=\"black\" d=\"M361.53,-88.95C367.39,-80.17 373.72,-70.66 379.62,-61.82\"/>\n<polygon fill=\"black\" stroke=\"black\" points=\"382.71,-63.5 385.34,-53.24 376.88,-59.62 382.71,-63.5\"/>\n</g>\n<!-- 14 -->\n<g id=\"node15\" class=\"node\">\n<title>14</title>\n<path fill=\"#ffffff\" stroke=\"black\" d=\"M562,-157C562,-157 473,-157 473,-157 467,-157 461,-151 461,-145 461,-145 461,-101 461,-101 461,-95 467,-89 473,-89 473,-89 562,-89 562,-89 568,-89 574,-95 574,-101 574,-101 574,-145 574,-145 574,-151 568,-157 562,-157\"/>\n<text text-anchor=\"middle\" x=\"517.5\" y=\"-141.8\" font-family=\"Helvetica,sans-Serif\" font-size=\"14.00\">Genre &lt;= 386.0</text>\n<text text-anchor=\"middle\" x=\"517.5\" y=\"-126.8\" font-family=\"Helvetica,sans-Serif\" font-size=\"14.00\">gini = 0.5</text>\n<text text-anchor=\"middle\" x=\"517.5\" y=\"-111.8\" font-family=\"Helvetica,sans-Serif\" font-size=\"14.00\">samples = 2</text>\n<text text-anchor=\"middle\" x=\"517.5\" y=\"-96.8\" font-family=\"Helvetica,sans-Serif\" font-size=\"14.00\">value = [1, 1]</text>\n</g>\n<!-- 13&#45;&gt;14 -->\n<g id=\"edge14\" class=\"edge\">\n<title>13&#45;&gt;14</title>\n<path fill=\"none\" stroke=\"black\" d=\"M518.18,-192.88C518.1,-184.78 518.01,-175.98 517.93,-167.47\"/>\n<polygon fill=\"black\" stroke=\"black\" points=\"521.42,-167.26 517.83,-157.3 514.42,-167.33 521.42,-167.26\"/>\n</g>\n<!-- 17 -->\n<g id=\"node18\" class=\"node\">\n<title>17</title>\n<path fill=\"#e58139\" stroke=\"black\" d=\"M675,-149.5C675,-149.5 604,-149.5 604,-149.5 598,-149.5 592,-143.5 592,-137.5 592,-137.5 592,-108.5 592,-108.5 592,-102.5 598,-96.5 604,-96.5 604,-96.5 675,-96.5 675,-96.5 681,-96.5 687,-102.5 687,-108.5 687,-108.5 687,-137.5 687,-137.5 687,-143.5 681,-149.5 675,-149.5\"/>\n<text text-anchor=\"middle\" x=\"639.5\" y=\"-134.3\" font-family=\"Helvetica,sans-Serif\" font-size=\"14.00\">gini = 0.0</text>\n<text text-anchor=\"middle\" x=\"639.5\" y=\"-119.3\" font-family=\"Helvetica,sans-Serif\" font-size=\"14.00\">samples = 8</text>\n<text text-anchor=\"middle\" x=\"639.5\" y=\"-104.3\" font-family=\"Helvetica,sans-Serif\" font-size=\"14.00\">value = [8, 0]</text>\n</g>\n<!-- 13&#45;&gt;17 -->\n<g id=\"edge17\" class=\"edge\">\n<title>13&#45;&gt;17</title>\n<path fill=\"none\" stroke=\"black\" d=\"M557.79,-192.88C571.74,-181.12 587.43,-167.89 601.3,-156.2\"/>\n<polygon fill=\"black\" stroke=\"black\" points=\"603.84,-158.64 609.23,-149.52 599.32,-153.29 603.84,-158.64\"/>\n</g>\n<!-- 15 -->\n<g id=\"node16\" class=\"node\">\n<title>15</title>\n<path fill=\"#399de5\" stroke=\"black\" d=\"M553,-53C553,-53 482,-53 482,-53 476,-53 470,-47 470,-41 470,-41 470,-12 470,-12 470,-6 476,0 482,0 482,0 553,0 553,0 559,0 565,-6 565,-12 565,-12 565,-41 565,-41 565,-47 559,-53 553,-53\"/>\n<text text-anchor=\"middle\" x=\"517.5\" y=\"-37.8\" font-family=\"Helvetica,sans-Serif\" font-size=\"14.00\">gini = 0.0</text>\n<text text-anchor=\"middle\" x=\"517.5\" y=\"-22.8\" font-family=\"Helvetica,sans-Serif\" font-size=\"14.00\">samples = 1</text>\n<text text-anchor=\"middle\" x=\"517.5\" y=\"-7.8\" font-family=\"Helvetica,sans-Serif\" font-size=\"14.00\">value = [0, 1]</text>\n</g>\n<!-- 14&#45;&gt;15 -->\n<g id=\"edge15\" class=\"edge\">\n<title>14&#45;&gt;15</title>\n<path fill=\"none\" stroke=\"black\" d=\"M517.5,-88.95C517.5,-80.72 517.5,-71.85 517.5,-63.48\"/>\n<polygon fill=\"black\" stroke=\"black\" points=\"521,-63.24 517.5,-53.24 514,-63.24 521,-63.24\"/>\n</g>\n<!-- 16 -->\n<g id=\"node17\" class=\"node\">\n<title>16</title>\n<path fill=\"#e58139\" stroke=\"black\" d=\"M666,-53C666,-53 595,-53 595,-53 589,-53 583,-47 583,-41 583,-41 583,-12 583,-12 583,-6 589,0 595,0 595,0 666,0 666,0 672,0 678,-6 678,-12 678,-12 678,-41 678,-41 678,-47 672,-53 666,-53\"/>\n<text text-anchor=\"middle\" x=\"630.5\" y=\"-37.8\" font-family=\"Helvetica,sans-Serif\" font-size=\"14.00\">gini = 0.0</text>\n<text text-anchor=\"middle\" x=\"630.5\" y=\"-22.8\" font-family=\"Helvetica,sans-Serif\" font-size=\"14.00\">samples = 1</text>\n<text text-anchor=\"middle\" x=\"630.5\" y=\"-7.8\" font-family=\"Helvetica,sans-Serif\" font-size=\"14.00\">value = [1, 0]</text>\n</g>\n<!-- 14&#45;&gt;16 -->\n<g id=\"edge16\" class=\"edge\">\n<title>14&#45;&gt;16</title>\n<path fill=\"none\" stroke=\"black\" d=\"M557.02,-88.95C568.29,-79.53 580.55,-69.27 591.77,-59.89\"/>\n<polygon fill=\"black\" stroke=\"black\" points=\"594.3,-62.34 599.72,-53.24 589.81,-56.97 594.3,-62.34\"/>\n</g>\n<!-- 19 -->\n<g id=\"node20\" class=\"node\">\n<title>19</title>\n<path fill=\"#399de5\" stroke=\"black\" d=\"M717.5,-253.5C717.5,-253.5 639.5,-253.5 639.5,-253.5 633.5,-253.5 627.5,-247.5 627.5,-241.5 627.5,-241.5 627.5,-212.5 627.5,-212.5 627.5,-206.5 633.5,-200.5 639.5,-200.5 639.5,-200.5 717.5,-200.5 717.5,-200.5 723.5,-200.5 729.5,-206.5 729.5,-212.5 729.5,-212.5 729.5,-241.5 729.5,-241.5 729.5,-247.5 723.5,-253.5 717.5,-253.5\"/>\n<text text-anchor=\"middle\" x=\"678.5\" y=\"-238.3\" font-family=\"Helvetica,sans-Serif\" font-size=\"14.00\">gini = 0.0</text>\n<text text-anchor=\"middle\" x=\"678.5\" y=\"-223.3\" font-family=\"Helvetica,sans-Serif\" font-size=\"14.00\">samples = 27</text>\n<text text-anchor=\"middle\" x=\"678.5\" y=\"-208.3\" font-family=\"Helvetica,sans-Serif\" font-size=\"14.00\">value = [0, 27]</text>\n</g>\n<!-- 18&#45;&gt;19 -->\n<g id=\"edge19\" class=\"edge\">\n<title>18&#45;&gt;19</title>\n<path fill=\"none\" stroke=\"black\" d=\"M688.63,-296.88C687.06,-286.22 685.32,-274.35 683.72,-263.52\"/>\n<polygon fill=\"black\" stroke=\"black\" points=\"687.17,-262.9 682.25,-253.52 680.25,-263.92 687.17,-262.9\"/>\n</g>\n<!-- 20 -->\n<g id=\"node21\" class=\"node\">\n<title>20</title>\n<path fill=\"#9ccef2\" stroke=\"black\" d=\"M889.5,-261C889.5,-261 759.5,-261 759.5,-261 753.5,-261 747.5,-255 747.5,-249 747.5,-249 747.5,-205 747.5,-205 747.5,-199 753.5,-193 759.5,-193 759.5,-193 889.5,-193 889.5,-193 895.5,-193 901.5,-199 901.5,-205 901.5,-205 901.5,-249 901.5,-249 901.5,-255 895.5,-261 889.5,-261\"/>\n<text text-anchor=\"middle\" x=\"824.5\" y=\"-245.8\" font-family=\"Helvetica,sans-Serif\" font-size=\"14.00\">Music Director &lt;= 45.0</text>\n<text text-anchor=\"middle\" x=\"824.5\" y=\"-230.8\" font-family=\"Helvetica,sans-Serif\" font-size=\"14.00\">gini = 0.444</text>\n<text text-anchor=\"middle\" x=\"824.5\" y=\"-215.8\" font-family=\"Helvetica,sans-Serif\" font-size=\"14.00\">samples = 6</text>\n<text text-anchor=\"middle\" x=\"824.5\" y=\"-200.8\" font-family=\"Helvetica,sans-Serif\" font-size=\"14.00\">value = [2, 4]</text>\n</g>\n<!-- 18&#45;&gt;20 -->\n<g id=\"edge20\" class=\"edge\">\n<title>18&#45;&gt;20</title>\n<path fill=\"none\" stroke=\"black\" d=\"M736.03,-296.88C748.04,-287.53 761.24,-277.26 773.68,-267.57\"/>\n<polygon fill=\"black\" stroke=\"black\" points=\"775.99,-270.2 781.73,-261.3 771.69,-264.68 775.99,-270.2\"/>\n</g>\n<!-- 21 -->\n<g id=\"node22\" class=\"node\">\n<title>21</title>\n<path fill=\"#399de5\" stroke=\"black\" d=\"M788,-149.5C788,-149.5 717,-149.5 717,-149.5 711,-149.5 705,-143.5 705,-137.5 705,-137.5 705,-108.5 705,-108.5 705,-102.5 711,-96.5 717,-96.5 717,-96.5 788,-96.5 788,-96.5 794,-96.5 800,-102.5 800,-108.5 800,-108.5 800,-137.5 800,-137.5 800,-143.5 794,-149.5 788,-149.5\"/>\n<text text-anchor=\"middle\" x=\"752.5\" y=\"-134.3\" font-family=\"Helvetica,sans-Serif\" font-size=\"14.00\">gini = 0.0</text>\n<text text-anchor=\"middle\" x=\"752.5\" y=\"-119.3\" font-family=\"Helvetica,sans-Serif\" font-size=\"14.00\">samples = 3</text>\n<text text-anchor=\"middle\" x=\"752.5\" y=\"-104.3\" font-family=\"Helvetica,sans-Serif\" font-size=\"14.00\">value = [0, 3]</text>\n</g>\n<!-- 20&#45;&gt;21 -->\n<g id=\"edge21\" class=\"edge\">\n<title>20&#45;&gt;21</title>\n<path fill=\"none\" stroke=\"black\" d=\"M801.12,-192.88C793.21,-181.67 784.35,-169.13 776.4,-157.85\"/>\n<polygon fill=\"black\" stroke=\"black\" points=\"779.14,-155.67 770.51,-149.52 773.42,-159.71 779.14,-155.67\"/>\n</g>\n<!-- 22 -->\n<g id=\"node23\" class=\"node\">\n<title>22</title>\n<path fill=\"#f2c09c\" stroke=\"black\" d=\"M960.5,-157C960.5,-157 830.5,-157 830.5,-157 824.5,-157 818.5,-151 818.5,-145 818.5,-145 818.5,-101 818.5,-101 818.5,-95 824.5,-89 830.5,-89 830.5,-89 960.5,-89 960.5,-89 966.5,-89 972.5,-95 972.5,-101 972.5,-101 972.5,-145 972.5,-145 972.5,-151 966.5,-157 960.5,-157\"/>\n<text text-anchor=\"middle\" x=\"895.5\" y=\"-141.8\" font-family=\"Helvetica,sans-Serif\" font-size=\"14.00\">Music Director &lt;= 86.0</text>\n<text text-anchor=\"middle\" x=\"895.5\" y=\"-126.8\" font-family=\"Helvetica,sans-Serif\" font-size=\"14.00\">gini = 0.444</text>\n<text text-anchor=\"middle\" x=\"895.5\" y=\"-111.8\" font-family=\"Helvetica,sans-Serif\" font-size=\"14.00\">samples = 3</text>\n<text text-anchor=\"middle\" x=\"895.5\" y=\"-96.8\" font-family=\"Helvetica,sans-Serif\" font-size=\"14.00\">value = [2, 1]</text>\n</g>\n<!-- 20&#45;&gt;22 -->\n<g id=\"edge22\" class=\"edge\">\n<title>20&#45;&gt;22</title>\n<path fill=\"none\" stroke=\"black\" d=\"M847.55,-192.88C853.63,-184.15 860.26,-174.62 866.6,-165.51\"/>\n<polygon fill=\"black\" stroke=\"black\" points=\"869.48,-167.51 872.32,-157.3 863.74,-163.51 869.48,-167.51\"/>\n</g>\n<!-- 23 -->\n<g id=\"node24\" class=\"node\">\n<title>23</title>\n<path fill=\"#e58139\" stroke=\"black\" d=\"M827,-53C827,-53 756,-53 756,-53 750,-53 744,-47 744,-41 744,-41 744,-12 744,-12 744,-6 750,0 756,0 756,0 827,0 827,0 833,0 839,-6 839,-12 839,-12 839,-41 839,-41 839,-47 833,-53 827,-53\"/>\n<text text-anchor=\"middle\" x=\"791.5\" y=\"-37.8\" font-family=\"Helvetica,sans-Serif\" font-size=\"14.00\">gini = 0.0</text>\n<text text-anchor=\"middle\" x=\"791.5\" y=\"-22.8\" font-family=\"Helvetica,sans-Serif\" font-size=\"14.00\">samples = 2</text>\n<text text-anchor=\"middle\" x=\"791.5\" y=\"-7.8\" font-family=\"Helvetica,sans-Serif\" font-size=\"14.00\">value = [2, 0]</text>\n</g>\n<!-- 22&#45;&gt;23 -->\n<g id=\"edge23\" class=\"edge\">\n<title>22&#45;&gt;23</title>\n<path fill=\"none\" stroke=\"black\" d=\"M859.13,-88.95C848.86,-79.62 837.69,-69.47 827.45,-60.16\"/>\n<polygon fill=\"black\" stroke=\"black\" points=\"829.58,-57.37 819.82,-53.24 824.87,-62.55 829.58,-57.37\"/>\n</g>\n<!-- 24 -->\n<g id=\"node25\" class=\"node\">\n<title>24</title>\n<path fill=\"#399de5\" stroke=\"black\" d=\"M940,-53C940,-53 869,-53 869,-53 863,-53 857,-47 857,-41 857,-41 857,-12 857,-12 857,-6 863,0 869,0 869,0 940,0 940,0 946,0 952,-6 952,-12 952,-12 952,-41 952,-41 952,-47 946,-53 940,-53\"/>\n<text text-anchor=\"middle\" x=\"904.5\" y=\"-37.8\" font-family=\"Helvetica,sans-Serif\" font-size=\"14.00\">gini = 0.0</text>\n<text text-anchor=\"middle\" x=\"904.5\" y=\"-22.8\" font-family=\"Helvetica,sans-Serif\" font-size=\"14.00\">samples = 1</text>\n<text text-anchor=\"middle\" x=\"904.5\" y=\"-7.8\" font-family=\"Helvetica,sans-Serif\" font-size=\"14.00\">value = [0, 1]</text>\n</g>\n<!-- 22&#45;&gt;24 -->\n<g id=\"edge24\" class=\"edge\">\n<title>22&#45;&gt;24</title>\n<path fill=\"none\" stroke=\"black\" d=\"M898.65,-88.95C899.44,-80.62 900.3,-71.65 901.1,-63.2\"/>\n<polygon fill=\"black\" stroke=\"black\" points=\"904.58,-63.52 902.05,-53.24 897.62,-62.86 904.58,-63.52\"/>\n</g>\n<!-- 29 -->\n<g id=\"node30\" class=\"node\">\n<title>29</title>\n<path fill=\"#e9965a\" stroke=\"black\" d=\"M1408,-677C1408,-677 1271,-677 1271,-677 1265,-677 1259,-671 1259,-665 1259,-665 1259,-621 1259,-621 1259,-615 1265,-609 1271,-609 1271,-609 1408,-609 1408,-609 1414,-609 1420,-615 1420,-621 1420,-621 1420,-665 1420,-665 1420,-671 1414,-677 1408,-677\"/>\n<text text-anchor=\"middle\" x=\"1339.5\" y=\"-661.8\" font-family=\"Helvetica,sans-Serif\" font-size=\"14.00\">Music Director &lt;= 385.5</text>\n<text text-anchor=\"middle\" x=\"1339.5\" y=\"-646.8\" font-family=\"Helvetica,sans-Serif\" font-size=\"14.00\">gini = 0.245</text>\n<text text-anchor=\"middle\" x=\"1339.5\" y=\"-631.8\" font-family=\"Helvetica,sans-Serif\" font-size=\"14.00\">samples = 385</text>\n<text text-anchor=\"middle\" x=\"1339.5\" y=\"-616.8\" font-family=\"Helvetica,sans-Serif\" font-size=\"14.00\">value = [330, 55]</text>\n</g>\n<!-- 28&#45;&gt;29 -->\n<g id=\"edge29\" class=\"edge\">\n<title>28&#45;&gt;29</title>\n<path fill=\"none\" stroke=\"black\" d=\"M1339.5,-712.88C1339.5,-704.78 1339.5,-695.98 1339.5,-687.47\"/>\n<polygon fill=\"black\" stroke=\"black\" points=\"1343,-687.3 1339.5,-677.3 1336,-687.3 1343,-687.3\"/>\n</g>\n<!-- 64 -->\n<g id=\"node65\" class=\"node\">\n<title>64</title>\n<path fill=\"#399de5\" stroke=\"black\" d=\"M1528.5,-669.5C1528.5,-669.5 1450.5,-669.5 1450.5,-669.5 1444.5,-669.5 1438.5,-663.5 1438.5,-657.5 1438.5,-657.5 1438.5,-628.5 1438.5,-628.5 1438.5,-622.5 1444.5,-616.5 1450.5,-616.5 1450.5,-616.5 1528.5,-616.5 1528.5,-616.5 1534.5,-616.5 1540.5,-622.5 1540.5,-628.5 1540.5,-628.5 1540.5,-657.5 1540.5,-657.5 1540.5,-663.5 1534.5,-669.5 1528.5,-669.5\"/>\n<text text-anchor=\"middle\" x=\"1489.5\" y=\"-654.3\" font-family=\"Helvetica,sans-Serif\" font-size=\"14.00\">gini = 0.0</text>\n<text text-anchor=\"middle\" x=\"1489.5\" y=\"-639.3\" font-family=\"Helvetica,sans-Serif\" font-size=\"14.00\">samples = 30</text>\n<text text-anchor=\"middle\" x=\"1489.5\" y=\"-624.3\" font-family=\"Helvetica,sans-Serif\" font-size=\"14.00\">value = [0, 30]</text>\n</g>\n<!-- 28&#45;&gt;64 -->\n<g id=\"edge64\" class=\"edge\">\n<title>28&#45;&gt;64</title>\n<path fill=\"none\" stroke=\"black\" d=\"M1388.2,-712.88C1405.99,-700.79 1426.04,-687.15 1443.58,-675.22\"/>\n<polygon fill=\"black\" stroke=\"black\" points=\"1445.67,-678.04 1451.97,-669.52 1441.73,-672.25 1445.67,-678.04\"/>\n</g>\n<!-- 30 -->\n<g id=\"node31\" class=\"node\">\n<title>30</title>\n<path fill=\"#e99355\" stroke=\"black\" d=\"M1424.5,-573C1424.5,-573 1254.5,-573 1254.5,-573 1248.5,-573 1242.5,-567 1242.5,-561 1242.5,-561 1242.5,-517 1242.5,-517 1242.5,-511 1248.5,-505 1254.5,-505 1254.5,-505 1424.5,-505 1424.5,-505 1430.5,-505 1436.5,-511 1436.5,-517 1436.5,-517 1436.5,-561 1436.5,-561 1436.5,-567 1430.5,-573 1424.5,-573\"/>\n<text text-anchor=\"middle\" x=\"1339.5\" y=\"-557.8\" font-family=\"Helvetica,sans-Serif\" font-size=\"14.00\">Budget(INR) &lt;= 163550000.0</text>\n<text text-anchor=\"middle\" x=\"1339.5\" y=\"-542.8\" font-family=\"Helvetica,sans-Serif\" font-size=\"14.00\">gini = 0.215</text>\n<text text-anchor=\"middle\" x=\"1339.5\" y=\"-527.8\" font-family=\"Helvetica,sans-Serif\" font-size=\"14.00\">samples = 376</text>\n<text text-anchor=\"middle\" x=\"1339.5\" y=\"-512.8\" font-family=\"Helvetica,sans-Serif\" font-size=\"14.00\">value = [330, 46]</text>\n</g>\n<!-- 29&#45;&gt;30 -->\n<g id=\"edge30\" class=\"edge\">\n<title>29&#45;&gt;30</title>\n<path fill=\"none\" stroke=\"black\" d=\"M1339.5,-608.88C1339.5,-600.78 1339.5,-591.98 1339.5,-583.47\"/>\n<polygon fill=\"black\" stroke=\"black\" points=\"1343,-583.3 1339.5,-573.3 1336,-583.3 1343,-583.3\"/>\n</g>\n<!-- 63 -->\n<g id=\"node64\" class=\"node\">\n<title>63</title>\n<path fill=\"#399de5\" stroke=\"black\" d=\"M1538,-565.5C1538,-565.5 1467,-565.5 1467,-565.5 1461,-565.5 1455,-559.5 1455,-553.5 1455,-553.5 1455,-524.5 1455,-524.5 1455,-518.5 1461,-512.5 1467,-512.5 1467,-512.5 1538,-512.5 1538,-512.5 1544,-512.5 1550,-518.5 1550,-524.5 1550,-524.5 1550,-553.5 1550,-553.5 1550,-559.5 1544,-565.5 1538,-565.5\"/>\n<text text-anchor=\"middle\" x=\"1502.5\" y=\"-550.3\" font-family=\"Helvetica,sans-Serif\" font-size=\"14.00\">gini = 0.0</text>\n<text text-anchor=\"middle\" x=\"1502.5\" y=\"-535.3\" font-family=\"Helvetica,sans-Serif\" font-size=\"14.00\">samples = 9</text>\n<text text-anchor=\"middle\" x=\"1502.5\" y=\"-520.3\" font-family=\"Helvetica,sans-Serif\" font-size=\"14.00\">value = [0, 9]</text>\n</g>\n<!-- 29&#45;&gt;63 -->\n<g id=\"edge63\" class=\"edge\">\n<title>29&#45;&gt;63</title>\n<path fill=\"none\" stroke=\"black\" d=\"M1392.42,-608.88C1411.93,-596.68 1433.94,-582.9 1453.12,-570.9\"/>\n<polygon fill=\"black\" stroke=\"black\" points=\"1455.1,-573.79 1461.72,-565.52 1451.38,-567.86 1455.1,-573.79\"/>\n</g>\n<!-- 31 -->\n<g id=\"node32\" class=\"node\">\n<title>31</title>\n<path fill=\"#f6d4bb\" stroke=\"black\" d=\"M1423,-469C1423,-469 1256,-469 1256,-469 1250,-469 1244,-463 1244,-457 1244,-457 1244,-413 1244,-413 1244,-407 1250,-401 1256,-401 1256,-401 1423,-401 1423,-401 1429,-401 1435,-407 1435,-413 1435,-413 1435,-457 1435,-457 1435,-463 1429,-469 1423,-469\"/>\n<text text-anchor=\"middle\" x=\"1339.5\" y=\"-453.8\" font-family=\"Helvetica,sans-Serif\" font-size=\"14.00\">Number of Screens &lt;= 825.0</text>\n<text text-anchor=\"middle\" x=\"1339.5\" y=\"-438.8\" font-family=\"Helvetica,sans-Serif\" font-size=\"14.00\">gini = 0.478</text>\n<text text-anchor=\"middle\" x=\"1339.5\" y=\"-423.8\" font-family=\"Helvetica,sans-Serif\" font-size=\"14.00\">samples = 53</text>\n<text text-anchor=\"middle\" x=\"1339.5\" y=\"-408.8\" font-family=\"Helvetica,sans-Serif\" font-size=\"14.00\">value = [32, 21]</text>\n</g>\n<!-- 30&#45;&gt;31 -->\n<g id=\"edge31\" class=\"edge\">\n<title>30&#45;&gt;31</title>\n<path fill=\"none\" stroke=\"black\" d=\"M1339.5,-504.88C1339.5,-496.78 1339.5,-487.98 1339.5,-479.47\"/>\n<polygon fill=\"black\" stroke=\"black\" points=\"1343,-479.3 1339.5,-469.3 1336,-479.3 1343,-479.3\"/>\n</g>\n<!-- 46 -->\n<g id=\"node47\" class=\"node\">\n<title>46</title>\n<path fill=\"#e78c4a\" stroke=\"black\" d=\"M1809.5,-469C1809.5,-469 1711.5,-469 1711.5,-469 1705.5,-469 1699.5,-463 1699.5,-457 1699.5,-457 1699.5,-413 1699.5,-413 1699.5,-407 1705.5,-401 1711.5,-401 1711.5,-401 1809.5,-401 1809.5,-401 1815.5,-401 1821.5,-407 1821.5,-413 1821.5,-413 1821.5,-457 1821.5,-457 1821.5,-463 1815.5,-469 1809.5,-469\"/>\n<text text-anchor=\"middle\" x=\"1760.5\" y=\"-453.8\" font-family=\"Helvetica,sans-Serif\" font-size=\"14.00\">Director &lt;= 169.5</text>\n<text text-anchor=\"middle\" x=\"1760.5\" y=\"-438.8\" font-family=\"Helvetica,sans-Serif\" font-size=\"14.00\">gini = 0.143</text>\n<text text-anchor=\"middle\" x=\"1760.5\" y=\"-423.8\" font-family=\"Helvetica,sans-Serif\" font-size=\"14.00\">samples = 323</text>\n<text text-anchor=\"middle\" x=\"1760.5\" y=\"-408.8\" font-family=\"Helvetica,sans-Serif\" font-size=\"14.00\">value = [298, 25]</text>\n</g>\n<!-- 30&#45;&gt;46 -->\n<g id=\"edge46\" class=\"edge\">\n<title>30&#45;&gt;46</title>\n<path fill=\"none\" stroke=\"black\" d=\"M1436.73,-507.37C1439.69,-506.56 1442.61,-505.76 1445.5,-505 1528.59,-483.01 1625.32,-462.58 1689.44,-449.74\"/>\n<polygon fill=\"black\" stroke=\"black\" points=\"1690.32,-453.14 1699.45,-447.75 1688.95,-446.27 1690.32,-453.14\"/>\n</g>\n<!-- 32 -->\n<g id=\"node33\" class=\"node\">\n<title>32</title>\n<path fill=\"#eeab7b\" stroke=\"black\" d=\"M1250,-365C1250,-365 1137,-365 1137,-365 1131,-365 1125,-359 1125,-353 1125,-353 1125,-309 1125,-309 1125,-303 1131,-297 1137,-297 1137,-297 1250,-297 1250,-297 1256,-297 1262,-303 1262,-309 1262,-309 1262,-353 1262,-353 1262,-359 1256,-365 1250,-365\"/>\n<text text-anchor=\"middle\" x=\"1193.5\" y=\"-349.8\" font-family=\"Helvetica,sans-Serif\" font-size=\"14.00\">New Director &lt;= 0.5</text>\n<text text-anchor=\"middle\" x=\"1193.5\" y=\"-334.8\" font-family=\"Helvetica,sans-Serif\" font-size=\"14.00\">gini = 0.375</text>\n<text text-anchor=\"middle\" x=\"1193.5\" y=\"-319.8\" font-family=\"Helvetica,sans-Serif\" font-size=\"14.00\">samples = 40</text>\n<text text-anchor=\"middle\" x=\"1193.5\" y=\"-304.8\" font-family=\"Helvetica,sans-Serif\" font-size=\"14.00\">value = [30, 10]</text>\n</g>\n<!-- 31&#45;&gt;32 -->\n<g id=\"edge32\" class=\"edge\">\n<title>31&#45;&gt;32</title>\n<path fill=\"none\" stroke=\"black\" d=\"M1292.1,-400.88C1278.58,-391.44 1263.73,-381.06 1249.74,-371.29\"/>\n<polygon fill=\"black\" stroke=\"black\" points=\"1251.37,-368.16 1241.16,-365.3 1247.36,-373.9 1251.37,-368.16\"/>\n</g>\n<!-- 39 -->\n<g id=\"node40\" class=\"node\">\n<title>39</title>\n<path fill=\"#5dafea\" stroke=\"black\" d=\"M1393,-365C1393,-365 1292,-365 1292,-365 1286,-365 1280,-359 1280,-353 1280,-353 1280,-309 1280,-309 1280,-303 1286,-297 1292,-297 1292,-297 1393,-297 1393,-297 1399,-297 1405,-303 1405,-309 1405,-309 1405,-353 1405,-353 1405,-359 1399,-365 1393,-365\"/>\n<text text-anchor=\"middle\" x=\"1342.5\" y=\"-349.8\" font-family=\"Helvetica,sans-Serif\" font-size=\"14.00\">Lead Star &lt;= 10.5</text>\n<text text-anchor=\"middle\" x=\"1342.5\" y=\"-334.8\" font-family=\"Helvetica,sans-Serif\" font-size=\"14.00\">gini = 0.26</text>\n<text text-anchor=\"middle\" x=\"1342.5\" y=\"-319.8\" font-family=\"Helvetica,sans-Serif\" font-size=\"14.00\">samples = 13</text>\n<text text-anchor=\"middle\" x=\"1342.5\" y=\"-304.8\" font-family=\"Helvetica,sans-Serif\" font-size=\"14.00\">value = [2, 11]</text>\n</g>\n<!-- 31&#45;&gt;39 -->\n<g id=\"edge39\" class=\"edge\">\n<title>31&#45;&gt;39</title>\n<path fill=\"none\" stroke=\"black\" d=\"M1340.47,-400.88C1340.71,-392.78 1340.97,-383.98 1341.22,-375.47\"/>\n<polygon fill=\"black\" stroke=\"black\" points=\"1344.73,-375.4 1341.52,-365.3 1337.73,-375.19 1344.73,-375.4\"/>\n</g>\n<!-- 33 -->\n<g id=\"node34\" class=\"node\">\n<title>33</title>\n<path fill=\"#f2c09c\" stroke=\"black\" d=\"M1112.5,-261C1112.5,-261 982.5,-261 982.5,-261 976.5,-261 970.5,-255 970.5,-249 970.5,-249 970.5,-205 970.5,-205 970.5,-199 976.5,-193 982.5,-193 982.5,-193 1112.5,-193 1112.5,-193 1118.5,-193 1124.5,-199 1124.5,-205 1124.5,-205 1124.5,-249 1124.5,-249 1124.5,-255 1118.5,-261 1112.5,-261\"/>\n<text text-anchor=\"middle\" x=\"1047.5\" y=\"-245.8\" font-family=\"Helvetica,sans-Serif\" font-size=\"14.00\">Music Director &lt;= 75.0</text>\n<text text-anchor=\"middle\" x=\"1047.5\" y=\"-230.8\" font-family=\"Helvetica,sans-Serif\" font-size=\"14.00\">gini = 0.444</text>\n<text text-anchor=\"middle\" x=\"1047.5\" y=\"-215.8\" font-family=\"Helvetica,sans-Serif\" font-size=\"14.00\">samples = 30</text>\n<text text-anchor=\"middle\" x=\"1047.5\" y=\"-200.8\" font-family=\"Helvetica,sans-Serif\" font-size=\"14.00\">value = [20, 10]</text>\n</g>\n<!-- 32&#45;&gt;33 -->\n<g id=\"edge33\" class=\"edge\">\n<title>32&#45;&gt;33</title>\n<path fill=\"none\" stroke=\"black\" d=\"M1146.1,-296.88C1132.58,-287.44 1117.73,-277.06 1103.74,-267.29\"/>\n<polygon fill=\"black\" stroke=\"black\" points=\"1105.37,-264.16 1095.16,-261.3 1101.36,-269.9 1105.37,-264.16\"/>\n</g>\n<!-- 38 -->\n<g id=\"node39\" class=\"node\">\n<title>38</title>\n<path fill=\"#e58139\" stroke=\"black\" d=\"M1232.5,-253.5C1232.5,-253.5 1154.5,-253.5 1154.5,-253.5 1148.5,-253.5 1142.5,-247.5 1142.5,-241.5 1142.5,-241.5 1142.5,-212.5 1142.5,-212.5 1142.5,-206.5 1148.5,-200.5 1154.5,-200.5 1154.5,-200.5 1232.5,-200.5 1232.5,-200.5 1238.5,-200.5 1244.5,-206.5 1244.5,-212.5 1244.5,-212.5 1244.5,-241.5 1244.5,-241.5 1244.5,-247.5 1238.5,-253.5 1232.5,-253.5\"/>\n<text text-anchor=\"middle\" x=\"1193.5\" y=\"-238.3\" font-family=\"Helvetica,sans-Serif\" font-size=\"14.00\">gini = 0.0</text>\n<text text-anchor=\"middle\" x=\"1193.5\" y=\"-223.3\" font-family=\"Helvetica,sans-Serif\" font-size=\"14.00\">samples = 10</text>\n<text text-anchor=\"middle\" x=\"1193.5\" y=\"-208.3\" font-family=\"Helvetica,sans-Serif\" font-size=\"14.00\">value = [10, 0]</text>\n</g>\n<!-- 32&#45;&gt;38 -->\n<g id=\"edge38\" class=\"edge\">\n<title>32&#45;&gt;38</title>\n<path fill=\"none\" stroke=\"black\" d=\"M1193.5,-296.88C1193.5,-286.33 1193.5,-274.6 1193.5,-263.85\"/>\n<polygon fill=\"black\" stroke=\"black\" points=\"1197,-263.52 1193.5,-253.52 1190,-263.52 1197,-263.52\"/>\n</g>\n<!-- 34 -->\n<g id=\"node35\" class=\"node\">\n<title>34</title>\n<path fill=\"#eead7e\" stroke=\"black\" d=\"M1092.5,-157C1092.5,-157 1002.5,-157 1002.5,-157 996.5,-157 990.5,-151 990.5,-145 990.5,-145 990.5,-101 990.5,-101 990.5,-95 996.5,-89 1002.5,-89 1002.5,-89 1092.5,-89 1092.5,-89 1098.5,-89 1104.5,-95 1104.5,-101 1104.5,-101 1104.5,-145 1104.5,-145 1104.5,-151 1098.5,-157 1092.5,-157\"/>\n<text text-anchor=\"middle\" x=\"1047.5\" y=\"-141.8\" font-family=\"Helvetica,sans-Serif\" font-size=\"14.00\">Director &lt;= 90.0</text>\n<text text-anchor=\"middle\" x=\"1047.5\" y=\"-126.8\" font-family=\"Helvetica,sans-Serif\" font-size=\"14.00\">gini = 0.384</text>\n<text text-anchor=\"middle\" x=\"1047.5\" y=\"-111.8\" font-family=\"Helvetica,sans-Serif\" font-size=\"14.00\">samples = 27</text>\n<text text-anchor=\"middle\" x=\"1047.5\" y=\"-96.8\" font-family=\"Helvetica,sans-Serif\" font-size=\"14.00\">value = [20, 7]</text>\n</g>\n<!-- 33&#45;&gt;34 -->\n<g id=\"edge34\" class=\"edge\">\n<title>33&#45;&gt;34</title>\n<path fill=\"none\" stroke=\"black\" d=\"M1047.5,-192.88C1047.5,-184.78 1047.5,-175.98 1047.5,-167.47\"/>\n<polygon fill=\"black\" stroke=\"black\" points=\"1051,-167.3 1047.5,-157.3 1044,-167.3 1051,-167.3\"/>\n</g>\n<!-- 37 -->\n<g id=\"node38\" class=\"node\">\n<title>37</title>\n<path fill=\"#399de5\" stroke=\"black\" d=\"M1206,-149.5C1206,-149.5 1135,-149.5 1135,-149.5 1129,-149.5 1123,-143.5 1123,-137.5 1123,-137.5 1123,-108.5 1123,-108.5 1123,-102.5 1129,-96.5 1135,-96.5 1135,-96.5 1206,-96.5 1206,-96.5 1212,-96.5 1218,-102.5 1218,-108.5 1218,-108.5 1218,-137.5 1218,-137.5 1218,-143.5 1212,-149.5 1206,-149.5\"/>\n<text text-anchor=\"middle\" x=\"1170.5\" y=\"-134.3\" font-family=\"Helvetica,sans-Serif\" font-size=\"14.00\">gini = 0.0</text>\n<text text-anchor=\"middle\" x=\"1170.5\" y=\"-119.3\" font-family=\"Helvetica,sans-Serif\" font-size=\"14.00\">samples = 3</text>\n<text text-anchor=\"middle\" x=\"1170.5\" y=\"-104.3\" font-family=\"Helvetica,sans-Serif\" font-size=\"14.00\">value = [0, 3]</text>\n</g>\n<!-- 33&#45;&gt;37 -->\n<g id=\"edge37\" class=\"edge\">\n<title>33&#45;&gt;37</title>\n<path fill=\"none\" stroke=\"black\" d=\"M1087.43,-192.88C1101.63,-181.12 1117.57,-167.89 1131.67,-156.2\"/>\n<polygon fill=\"black\" stroke=\"black\" points=\"1134.26,-158.6 1139.73,-149.52 1129.79,-153.21 1134.26,-158.6\"/>\n</g>\n<!-- 35 -->\n<g id=\"node36\" class=\"node\">\n<title>35</title>\n<path fill=\"#e78a47\" stroke=\"black\" d=\"M1077.5,-53C1077.5,-53 999.5,-53 999.5,-53 993.5,-53 987.5,-47 987.5,-41 987.5,-41 987.5,-12 987.5,-12 987.5,-6 993.5,0 999.5,0 999.5,0 1077.5,0 1077.5,0 1083.5,0 1089.5,-6 1089.5,-12 1089.5,-12 1089.5,-41 1089.5,-41 1089.5,-47 1083.5,-53 1077.5,-53\"/>\n<text text-anchor=\"middle\" x=\"1038.5\" y=\"-37.8\" font-family=\"Helvetica,sans-Serif\" font-size=\"14.00\">gini = 0.124</text>\n<text text-anchor=\"middle\" x=\"1038.5\" y=\"-22.8\" font-family=\"Helvetica,sans-Serif\" font-size=\"14.00\">samples = 15</text>\n<text text-anchor=\"middle\" x=\"1038.5\" y=\"-7.8\" font-family=\"Helvetica,sans-Serif\" font-size=\"14.00\">value = [14, 1]</text>\n</g>\n<!-- 34&#45;&gt;35 -->\n<g id=\"edge35\" class=\"edge\">\n<title>34&#45;&gt;35</title>\n<path fill=\"none\" stroke=\"black\" d=\"M1044.35,-88.95C1043.56,-80.62 1042.7,-71.65 1041.9,-63.2\"/>\n<polygon fill=\"black\" stroke=\"black\" points=\"1045.38,-62.86 1040.95,-53.24 1038.42,-63.52 1045.38,-62.86\"/>\n</g>\n<!-- 36 -->\n<g id=\"node37\" class=\"node\">\n<title>36</title>\n<path fill=\"#ffffff\" stroke=\"black\" d=\"M1193.5,-53C1193.5,-53 1119.5,-53 1119.5,-53 1113.5,-53 1107.5,-47 1107.5,-41 1107.5,-41 1107.5,-12 1107.5,-12 1107.5,-6 1113.5,0 1119.5,0 1119.5,0 1193.5,0 1193.5,0 1199.5,0 1205.5,-6 1205.5,-12 1205.5,-12 1205.5,-41 1205.5,-41 1205.5,-47 1199.5,-53 1193.5,-53\"/>\n<text text-anchor=\"middle\" x=\"1156.5\" y=\"-37.8\" font-family=\"Helvetica,sans-Serif\" font-size=\"14.00\">gini = 0.5</text>\n<text text-anchor=\"middle\" x=\"1156.5\" y=\"-22.8\" font-family=\"Helvetica,sans-Serif\" font-size=\"14.00\">samples = 12</text>\n<text text-anchor=\"middle\" x=\"1156.5\" y=\"-7.8\" font-family=\"Helvetica,sans-Serif\" font-size=\"14.00\">value = [6, 6]</text>\n</g>\n<!-- 34&#45;&gt;36 -->\n<g id=\"edge36\" class=\"edge\">\n<title>34&#45;&gt;36</title>\n<path fill=\"none\" stroke=\"black\" d=\"M1085.62,-88.95C1096.49,-79.53 1108.32,-69.27 1119.14,-59.89\"/>\n<polygon fill=\"black\" stroke=\"black\" points=\"1121.55,-62.43 1126.81,-53.24 1116.97,-57.14 1121.55,-62.43\"/>\n</g>\n<!-- 40 -->\n<g id=\"node41\" class=\"node\">\n<title>40</title>\n<path fill=\"#e58139\" stroke=\"black\" d=\"M1346,-253.5C1346,-253.5 1275,-253.5 1275,-253.5 1269,-253.5 1263,-247.5 1263,-241.5 1263,-241.5 1263,-212.5 1263,-212.5 1263,-206.5 1269,-200.5 1275,-200.5 1275,-200.5 1346,-200.5 1346,-200.5 1352,-200.5 1358,-206.5 1358,-212.5 1358,-212.5 1358,-241.5 1358,-241.5 1358,-247.5 1352,-253.5 1346,-253.5\"/>\n<text text-anchor=\"middle\" x=\"1310.5\" y=\"-238.3\" font-family=\"Helvetica,sans-Serif\" font-size=\"14.00\">gini = 0.0</text>\n<text text-anchor=\"middle\" x=\"1310.5\" y=\"-223.3\" font-family=\"Helvetica,sans-Serif\" font-size=\"14.00\">samples = 1</text>\n<text text-anchor=\"middle\" x=\"1310.5\" y=\"-208.3\" font-family=\"Helvetica,sans-Serif\" font-size=\"14.00\">value = [1, 0]</text>\n</g>\n<!-- 39&#45;&gt;40 -->\n<g id=\"edge40\" class=\"edge\">\n<title>39&#45;&gt;40</title>\n<path fill=\"none\" stroke=\"black\" d=\"M1332.11,-296.88C1328.73,-286.11 1324.97,-274.11 1321.54,-263.18\"/>\n<polygon fill=\"black\" stroke=\"black\" points=\"1324.84,-262.01 1318.51,-253.52 1318.16,-264.11 1324.84,-262.01\"/>\n</g>\n<!-- 41 -->\n<g id=\"node42\" class=\"node\">\n<title>41</title>\n<path fill=\"#4ba6e7\" stroke=\"black\" d=\"M1541,-261C1541,-261 1388,-261 1388,-261 1382,-261 1376,-255 1376,-249 1376,-249 1376,-205 1376,-205 1376,-199 1382,-193 1388,-193 1388,-193 1541,-193 1541,-193 1547,-193 1553,-199 1553,-205 1553,-205 1553,-249 1553,-249 1553,-255 1547,-261 1541,-261\"/>\n<text text-anchor=\"middle\" x=\"1464.5\" y=\"-245.8\" font-family=\"Helvetica,sans-Serif\" font-size=\"14.00\">New Music Director &lt;= 0.5</text>\n<text text-anchor=\"middle\" x=\"1464.5\" y=\"-230.8\" font-family=\"Helvetica,sans-Serif\" font-size=\"14.00\">gini = 0.153</text>\n<text text-anchor=\"middle\" x=\"1464.5\" y=\"-215.8\" font-family=\"Helvetica,sans-Serif\" font-size=\"14.00\">samples = 12</text>\n<text text-anchor=\"middle\" x=\"1464.5\" y=\"-200.8\" font-family=\"Helvetica,sans-Serif\" font-size=\"14.00\">value = [1, 11]</text>\n</g>\n<!-- 39&#45;&gt;41 -->\n<g id=\"edge41\" class=\"edge\">\n<title>39&#45;&gt;41</title>\n<path fill=\"none\" stroke=\"black\" d=\"M1382.11,-296.88C1393.19,-287.62 1405.35,-277.45 1416.84,-267.85\"/>\n<polygon fill=\"black\" stroke=\"black\" points=\"1419.24,-270.4 1424.67,-261.3 1414.75,-265.03 1419.24,-270.4\"/>\n</g>\n<!-- 42 -->\n<g id=\"node43\" class=\"node\">\n<title>42</title>\n<path fill=\"#399de5\" stroke=\"black\" d=\"M1358.5,-149.5C1358.5,-149.5 1280.5,-149.5 1280.5,-149.5 1274.5,-149.5 1268.5,-143.5 1268.5,-137.5 1268.5,-137.5 1268.5,-108.5 1268.5,-108.5 1268.5,-102.5 1274.5,-96.5 1280.5,-96.5 1280.5,-96.5 1358.5,-96.5 1358.5,-96.5 1364.5,-96.5 1370.5,-102.5 1370.5,-108.5 1370.5,-108.5 1370.5,-137.5 1370.5,-137.5 1370.5,-143.5 1364.5,-149.5 1358.5,-149.5\"/>\n<text text-anchor=\"middle\" x=\"1319.5\" y=\"-134.3\" font-family=\"Helvetica,sans-Serif\" font-size=\"14.00\">gini = 0.0</text>\n<text text-anchor=\"middle\" x=\"1319.5\" y=\"-119.3\" font-family=\"Helvetica,sans-Serif\" font-size=\"14.00\">samples = 10</text>\n<text text-anchor=\"middle\" x=\"1319.5\" y=\"-104.3\" font-family=\"Helvetica,sans-Serif\" font-size=\"14.00\">value = [0, 10]</text>\n</g>\n<!-- 41&#45;&gt;42 -->\n<g id=\"edge42\" class=\"edge\">\n<title>41&#45;&gt;42</title>\n<path fill=\"none\" stroke=\"black\" d=\"M1417.42,-192.88C1400.38,-180.9 1381.19,-167.4 1364.35,-155.55\"/>\n<polygon fill=\"black\" stroke=\"black\" points=\"1365.97,-152.41 1355.78,-149.52 1361.94,-158.14 1365.97,-152.41\"/>\n</g>\n<!-- 43 -->\n<g id=\"node44\" class=\"node\">\n<title>43</title>\n<path fill=\"#ffffff\" stroke=\"black\" d=\"M1528.5,-157C1528.5,-157 1400.5,-157 1400.5,-157 1394.5,-157 1388.5,-151 1388.5,-145 1388.5,-145 1388.5,-101 1388.5,-101 1388.5,-95 1394.5,-89 1400.5,-89 1400.5,-89 1528.5,-89 1528.5,-89 1534.5,-89 1540.5,-95 1540.5,-101 1540.5,-101 1540.5,-145 1540.5,-145 1540.5,-151 1534.5,-157 1528.5,-157\"/>\n<text text-anchor=\"middle\" x=\"1464.5\" y=\"-141.8\" font-family=\"Helvetica,sans-Serif\" font-size=\"14.00\">Release Period &lt;= 0.5</text>\n<text text-anchor=\"middle\" x=\"1464.5\" y=\"-126.8\" font-family=\"Helvetica,sans-Serif\" font-size=\"14.00\">gini = 0.5</text>\n<text text-anchor=\"middle\" x=\"1464.5\" y=\"-111.8\" font-family=\"Helvetica,sans-Serif\" font-size=\"14.00\">samples = 2</text>\n<text text-anchor=\"middle\" x=\"1464.5\" y=\"-96.8\" font-family=\"Helvetica,sans-Serif\" font-size=\"14.00\">value = [1, 1]</text>\n</g>\n<!-- 41&#45;&gt;43 -->\n<g id=\"edge43\" class=\"edge\">\n<title>41&#45;&gt;43</title>\n<path fill=\"none\" stroke=\"black\" d=\"M1464.5,-192.88C1464.5,-184.78 1464.5,-175.98 1464.5,-167.47\"/>\n<polygon fill=\"black\" stroke=\"black\" points=\"1468,-167.3 1464.5,-157.3 1461,-167.3 1468,-167.3\"/>\n</g>\n<!-- 44 -->\n<g id=\"node45\" class=\"node\">\n<title>44</title>\n<path fill=\"#399de5\" stroke=\"black\" d=\"M1387,-53C1387,-53 1316,-53 1316,-53 1310,-53 1304,-47 1304,-41 1304,-41 1304,-12 1304,-12 1304,-6 1310,0 1316,0 1316,0 1387,0 1387,0 1393,0 1399,-6 1399,-12 1399,-12 1399,-41 1399,-41 1399,-47 1393,-53 1387,-53\"/>\n<text text-anchor=\"middle\" x=\"1351.5\" y=\"-37.8\" font-family=\"Helvetica,sans-Serif\" font-size=\"14.00\">gini = 0.0</text>\n<text text-anchor=\"middle\" x=\"1351.5\" y=\"-22.8\" font-family=\"Helvetica,sans-Serif\" font-size=\"14.00\">samples = 1</text>\n<text text-anchor=\"middle\" x=\"1351.5\" y=\"-7.8\" font-family=\"Helvetica,sans-Serif\" font-size=\"14.00\">value = [0, 1]</text>\n</g>\n<!-- 43&#45;&gt;44 -->\n<g id=\"edge44\" class=\"edge\">\n<title>43&#45;&gt;44</title>\n<path fill=\"none\" stroke=\"black\" d=\"M1424.98,-88.95C1413.71,-79.53 1401.45,-69.27 1390.23,-59.89\"/>\n<polygon fill=\"black\" stroke=\"black\" points=\"1392.19,-56.97 1382.28,-53.24 1387.7,-62.34 1392.19,-56.97\"/>\n</g>\n<!-- 45 -->\n<g id=\"node46\" class=\"node\">\n<title>45</title>\n<path fill=\"#e58139\" stroke=\"black\" d=\"M1500,-53C1500,-53 1429,-53 1429,-53 1423,-53 1417,-47 1417,-41 1417,-41 1417,-12 1417,-12 1417,-6 1423,0 1429,0 1429,0 1500,0 1500,0 1506,0 1512,-6 1512,-12 1512,-12 1512,-41 1512,-41 1512,-47 1506,-53 1500,-53\"/>\n<text text-anchor=\"middle\" x=\"1464.5\" y=\"-37.8\" font-family=\"Helvetica,sans-Serif\" font-size=\"14.00\">gini = 0.0</text>\n<text text-anchor=\"middle\" x=\"1464.5\" y=\"-22.8\" font-family=\"Helvetica,sans-Serif\" font-size=\"14.00\">samples = 1</text>\n<text text-anchor=\"middle\" x=\"1464.5\" y=\"-7.8\" font-family=\"Helvetica,sans-Serif\" font-size=\"14.00\">value = [1, 0]</text>\n</g>\n<!-- 43&#45;&gt;45 -->\n<g id=\"edge45\" class=\"edge\">\n<title>43&#45;&gt;45</title>\n<path fill=\"none\" stroke=\"black\" d=\"M1464.5,-88.95C1464.5,-80.72 1464.5,-71.85 1464.5,-63.48\"/>\n<polygon fill=\"black\" stroke=\"black\" points=\"1468,-63.24 1464.5,-53.24 1461,-63.24 1468,-63.24\"/>\n</g>\n<!-- 47 -->\n<g id=\"node48\" class=\"node\">\n<title>47</title>\n<path fill=\"#e99559\" stroke=\"black\" d=\"M1845.5,-365C1845.5,-365 1675.5,-365 1675.5,-365 1669.5,-365 1663.5,-359 1663.5,-353 1663.5,-353 1663.5,-309 1663.5,-309 1663.5,-303 1669.5,-297 1675.5,-297 1675.5,-297 1845.5,-297 1845.5,-297 1851.5,-297 1857.5,-303 1857.5,-309 1857.5,-309 1857.5,-353 1857.5,-353 1857.5,-359 1851.5,-365 1845.5,-365\"/>\n<text text-anchor=\"middle\" x=\"1760.5\" y=\"-349.8\" font-family=\"Helvetica,sans-Serif\" font-size=\"14.00\">Budget(INR) &lt;= 432132496.0</text>\n<text text-anchor=\"middle\" x=\"1760.5\" y=\"-334.8\" font-family=\"Helvetica,sans-Serif\" font-size=\"14.00\">gini = 0.24</text>\n<text text-anchor=\"middle\" x=\"1760.5\" y=\"-319.8\" font-family=\"Helvetica,sans-Serif\" font-size=\"14.00\">samples = 179</text>\n<text text-anchor=\"middle\" x=\"1760.5\" y=\"-304.8\" font-family=\"Helvetica,sans-Serif\" font-size=\"14.00\">value = [154, 25]</text>\n</g>\n<!-- 46&#45;&gt;47 -->\n<g id=\"edge47\" class=\"edge\">\n<title>46&#45;&gt;47</title>\n<path fill=\"none\" stroke=\"black\" d=\"M1760.5,-400.88C1760.5,-392.78 1760.5,-383.98 1760.5,-375.47\"/>\n<polygon fill=\"black\" stroke=\"black\" points=\"1764,-375.3 1760.5,-365.3 1757,-375.3 1764,-375.3\"/>\n</g>\n<!-- 62 -->\n<g id=\"node63\" class=\"node\">\n<title>62</title>\n<path fill=\"#e58139\" stroke=\"black\" d=\"M1973.5,-357.5C1973.5,-357.5 1887.5,-357.5 1887.5,-357.5 1881.5,-357.5 1875.5,-351.5 1875.5,-345.5 1875.5,-345.5 1875.5,-316.5 1875.5,-316.5 1875.5,-310.5 1881.5,-304.5 1887.5,-304.5 1887.5,-304.5 1973.5,-304.5 1973.5,-304.5 1979.5,-304.5 1985.5,-310.5 1985.5,-316.5 1985.5,-316.5 1985.5,-345.5 1985.5,-345.5 1985.5,-351.5 1979.5,-357.5 1973.5,-357.5\"/>\n<text text-anchor=\"middle\" x=\"1930.5\" y=\"-342.3\" font-family=\"Helvetica,sans-Serif\" font-size=\"14.00\">gini = 0.0</text>\n<text text-anchor=\"middle\" x=\"1930.5\" y=\"-327.3\" font-family=\"Helvetica,sans-Serif\" font-size=\"14.00\">samples = 144</text>\n<text text-anchor=\"middle\" x=\"1930.5\" y=\"-312.3\" font-family=\"Helvetica,sans-Serif\" font-size=\"14.00\">value = [144, 0]</text>\n</g>\n<!-- 46&#45;&gt;62 -->\n<g id=\"edge62\" class=\"edge\">\n<title>46&#45;&gt;62</title>\n<path fill=\"none\" stroke=\"black\" d=\"M1815.69,-400.88C1836.13,-388.62 1859.2,-374.78 1879.27,-362.74\"/>\n<polygon fill=\"black\" stroke=\"black\" points=\"1881.19,-365.67 1887.97,-357.52 1877.59,-359.66 1881.19,-365.67\"/>\n</g>\n<!-- 48 -->\n<g id=\"node49\" class=\"node\">\n<title>48</title>\n<path fill=\"#edaa79\" stroke=\"black\" d=\"M1848,-261C1848,-261 1673,-261 1673,-261 1667,-261 1661,-255 1661,-249 1661,-249 1661,-205 1661,-205 1661,-199 1667,-193 1673,-193 1673,-193 1848,-193 1848,-193 1854,-193 1860,-199 1860,-205 1860,-205 1860,-249 1860,-249 1860,-255 1854,-261 1848,-261\"/>\n<text text-anchor=\"middle\" x=\"1760.5\" y=\"-245.8\" font-family=\"Helvetica,sans-Serif\" font-size=\"14.00\">Number of Screens &lt;= 1425.0</text>\n<text text-anchor=\"middle\" x=\"1760.5\" y=\"-230.8\" font-family=\"Helvetica,sans-Serif\" font-size=\"14.00\">gini = 0.368</text>\n<text text-anchor=\"middle\" x=\"1760.5\" y=\"-215.8\" font-family=\"Helvetica,sans-Serif\" font-size=\"14.00\">samples = 74</text>\n<text text-anchor=\"middle\" x=\"1760.5\" y=\"-200.8\" font-family=\"Helvetica,sans-Serif\" font-size=\"14.00\">value = [56, 18]</text>\n</g>\n<!-- 47&#45;&gt;48 -->\n<g id=\"edge48\" class=\"edge\">\n<title>47&#45;&gt;48</title>\n<path fill=\"none\" stroke=\"black\" d=\"M1760.5,-296.88C1760.5,-288.78 1760.5,-279.98 1760.5,-271.47\"/>\n<polygon fill=\"black\" stroke=\"black\" points=\"1764,-271.3 1760.5,-261.3 1757,-271.3 1764,-271.3\"/>\n</g>\n<!-- 55 -->\n<g id=\"node56\" class=\"node\">\n<title>55</title>\n<path fill=\"#e78a47\" stroke=\"black\" d=\"M2111,-261C2111,-261 2022,-261 2022,-261 2016,-261 2010,-255 2010,-249 2010,-249 2010,-205 2010,-205 2010,-199 2016,-193 2022,-193 2022,-193 2111,-193 2111,-193 2117,-193 2123,-199 2123,-205 2123,-205 2123,-249 2123,-249 2123,-255 2117,-261 2111,-261\"/>\n<text text-anchor=\"middle\" x=\"2066.5\" y=\"-245.8\" font-family=\"Helvetica,sans-Serif\" font-size=\"14.00\">Genre &lt;= 130.0</text>\n<text text-anchor=\"middle\" x=\"2066.5\" y=\"-230.8\" font-family=\"Helvetica,sans-Serif\" font-size=\"14.00\">gini = 0.124</text>\n<text text-anchor=\"middle\" x=\"2066.5\" y=\"-215.8\" font-family=\"Helvetica,sans-Serif\" font-size=\"14.00\">samples = 105</text>\n<text text-anchor=\"middle\" x=\"2066.5\" y=\"-200.8\" font-family=\"Helvetica,sans-Serif\" font-size=\"14.00\">value = [98, 7]</text>\n</g>\n<!-- 47&#45;&gt;55 -->\n<g id=\"edge55\" class=\"edge\">\n<title>47&#45;&gt;55</title>\n<path fill=\"none\" stroke=\"black\" d=\"M1857.74,-297.59C1904.08,-282.14 1958.32,-264.06 1999.89,-250.2\"/>\n<polygon fill=\"black\" stroke=\"black\" points=\"2001.26,-253.44 2009.64,-246.95 1999.05,-246.8 2001.26,-253.44\"/>\n</g>\n<!-- 49 -->\n<g id=\"node50\" class=\"node\">\n<title>49</title>\n<path fill=\"#e99456\" stroke=\"black\" d=\"M1741,-157C1741,-157 1574,-157 1574,-157 1568,-157 1562,-151 1562,-145 1562,-145 1562,-101 1562,-101 1562,-95 1568,-89 1574,-89 1574,-89 1741,-89 1741,-89 1747,-89 1753,-95 1753,-101 1753,-101 1753,-145 1753,-145 1753,-151 1747,-157 1741,-157\"/>\n<text text-anchor=\"middle\" x=\"1657.5\" y=\"-141.8\" font-family=\"Helvetica,sans-Serif\" font-size=\"14.00\">Number of Screens &lt;= 762.5</text>\n<text text-anchor=\"middle\" x=\"1657.5\" y=\"-126.8\" font-family=\"Helvetica,sans-Serif\" font-size=\"14.00\">gini = 0.225</text>\n<text text-anchor=\"middle\" x=\"1657.5\" y=\"-111.8\" font-family=\"Helvetica,sans-Serif\" font-size=\"14.00\">samples = 62</text>\n<text text-anchor=\"middle\" x=\"1657.5\" y=\"-96.8\" font-family=\"Helvetica,sans-Serif\" font-size=\"14.00\">value = [54, 8]</text>\n</g>\n<!-- 48&#45;&gt;49 -->\n<g id=\"edge49\" class=\"edge\">\n<title>48&#45;&gt;49</title>\n<path fill=\"none\" stroke=\"black\" d=\"M1727.06,-192.88C1717.88,-183.8 1707.83,-173.85 1698.3,-164.4\"/>\n<polygon fill=\"black\" stroke=\"black\" points=\"1700.69,-161.85 1691.13,-157.3 1695.77,-166.82 1700.69,-161.85\"/>\n</g>\n<!-- 52 -->\n<g id=\"node53\" class=\"node\">\n<title>52</title>\n<path fill=\"#61b1ea\" stroke=\"black\" d=\"M1933.5,-157C1933.5,-157 1783.5,-157 1783.5,-157 1777.5,-157 1771.5,-151 1771.5,-145 1771.5,-145 1771.5,-101 1771.5,-101 1771.5,-95 1777.5,-89 1783.5,-89 1783.5,-89 1933.5,-89 1933.5,-89 1939.5,-89 1945.5,-95 1945.5,-101 1945.5,-101 1945.5,-145 1945.5,-145 1945.5,-151 1939.5,-157 1933.5,-157\"/>\n<text text-anchor=\"middle\" x=\"1858.5\" y=\"-141.8\" font-family=\"Helvetica,sans-Serif\" font-size=\"14.00\">Whether Franchise &lt;= 0.5</text>\n<text text-anchor=\"middle\" x=\"1858.5\" y=\"-126.8\" font-family=\"Helvetica,sans-Serif\" font-size=\"14.00\">gini = 0.278</text>\n<text text-anchor=\"middle\" x=\"1858.5\" y=\"-111.8\" font-family=\"Helvetica,sans-Serif\" font-size=\"14.00\">samples = 12</text>\n<text text-anchor=\"middle\" x=\"1858.5\" y=\"-96.8\" font-family=\"Helvetica,sans-Serif\" font-size=\"14.00\">value = [2, 10]</text>\n</g>\n<!-- 48&#45;&gt;52 -->\n<g id=\"edge52\" class=\"edge\">\n<title>48&#45;&gt;52</title>\n<path fill=\"none\" stroke=\"black\" d=\"M1792.32,-192.88C1800.96,-183.89 1810.42,-174.04 1819.42,-164.68\"/>\n<polygon fill=\"black\" stroke=\"black\" points=\"1822.1,-166.94 1826.51,-157.3 1817.05,-162.09 1822.1,-166.94\"/>\n</g>\n<!-- 50 -->\n<g id=\"node51\" class=\"node\">\n<title>50</title>\n<path fill=\"#e58139\" stroke=\"black\" d=\"M1620.5,-53C1620.5,-53 1542.5,-53 1542.5,-53 1536.5,-53 1530.5,-47 1530.5,-41 1530.5,-41 1530.5,-12 1530.5,-12 1530.5,-6 1536.5,0 1542.5,0 1542.5,0 1620.5,0 1620.5,0 1626.5,0 1632.5,-6 1632.5,-12 1632.5,-12 1632.5,-41 1632.5,-41 1632.5,-47 1626.5,-53 1620.5,-53\"/>\n<text text-anchor=\"middle\" x=\"1581.5\" y=\"-37.8\" font-family=\"Helvetica,sans-Serif\" font-size=\"14.00\">gini = 0.0</text>\n<text text-anchor=\"middle\" x=\"1581.5\" y=\"-22.8\" font-family=\"Helvetica,sans-Serif\" font-size=\"14.00\">samples = 34</text>\n<text text-anchor=\"middle\" x=\"1581.5\" y=\"-7.8\" font-family=\"Helvetica,sans-Serif\" font-size=\"14.00\">value = [34, 0]</text>\n</g>\n<!-- 49&#45;&gt;50 -->\n<g id=\"edge50\" class=\"edge\">\n<title>49&#45;&gt;50</title>\n<path fill=\"none\" stroke=\"black\" d=\"M1630.92,-88.95C1623.71,-79.98 1615.89,-70.27 1608.65,-61.26\"/>\n<polygon fill=\"black\" stroke=\"black\" points=\"1611.19,-58.84 1602.2,-53.24 1605.74,-63.22 1611.19,-58.84\"/>\n</g>\n<!-- 51 -->\n<g id=\"node52\" class=\"node\">\n<title>51</title>\n<path fill=\"#efb388\" stroke=\"black\" d=\"M1740.5,-53C1740.5,-53 1662.5,-53 1662.5,-53 1656.5,-53 1650.5,-47 1650.5,-41 1650.5,-41 1650.5,-12 1650.5,-12 1650.5,-6 1656.5,0 1662.5,0 1662.5,0 1740.5,0 1740.5,0 1746.5,0 1752.5,-6 1752.5,-12 1752.5,-12 1752.5,-41 1752.5,-41 1752.5,-47 1746.5,-53 1740.5,-53\"/>\n<text text-anchor=\"middle\" x=\"1701.5\" y=\"-37.8\" font-family=\"Helvetica,sans-Serif\" font-size=\"14.00\">gini = 0.408</text>\n<text text-anchor=\"middle\" x=\"1701.5\" y=\"-22.8\" font-family=\"Helvetica,sans-Serif\" font-size=\"14.00\">samples = 28</text>\n<text text-anchor=\"middle\" x=\"1701.5\" y=\"-7.8\" font-family=\"Helvetica,sans-Serif\" font-size=\"14.00\">value = [20, 8]</text>\n</g>\n<!-- 49&#45;&gt;51 -->\n<g id=\"edge51\" class=\"edge\">\n<title>49&#45;&gt;51</title>\n<path fill=\"none\" stroke=\"black\" d=\"M1672.89,-88.95C1676.89,-80.35 1681.22,-71.06 1685.26,-62.37\"/>\n<polygon fill=\"black\" stroke=\"black\" points=\"1688.47,-63.78 1689.52,-53.24 1682.12,-60.82 1688.47,-63.78\"/>\n</g>\n<!-- 53 -->\n<g id=\"node54\" class=\"node\">\n<title>53</title>\n<path fill=\"#399de5\" stroke=\"black\" d=\"M1854,-53C1854,-53 1783,-53 1783,-53 1777,-53 1771,-47 1771,-41 1771,-41 1771,-12 1771,-12 1771,-6 1777,0 1783,0 1783,0 1854,0 1854,0 1860,0 1866,-6 1866,-12 1866,-12 1866,-41 1866,-41 1866,-47 1860,-53 1854,-53\"/>\n<text text-anchor=\"middle\" x=\"1818.5\" y=\"-37.8\" font-family=\"Helvetica,sans-Serif\" font-size=\"14.00\">gini = 0.0</text>\n<text text-anchor=\"middle\" x=\"1818.5\" y=\"-22.8\" font-family=\"Helvetica,sans-Serif\" font-size=\"14.00\">samples = 9</text>\n<text text-anchor=\"middle\" x=\"1818.5\" y=\"-7.8\" font-family=\"Helvetica,sans-Serif\" font-size=\"14.00\">value = [0, 9]</text>\n</g>\n<!-- 52&#45;&gt;53 -->\n<g id=\"edge53\" class=\"edge\">\n<title>52&#45;&gt;53</title>\n<path fill=\"none\" stroke=\"black\" d=\"M1844.51,-88.95C1840.91,-80.44 1837.02,-71.26 1833.38,-62.65\"/>\n<polygon fill=\"black\" stroke=\"black\" points=\"1836.52,-61.08 1829.39,-53.24 1830.07,-63.81 1836.52,-61.08\"/>\n</g>\n<!-- 54 -->\n<g id=\"node55\" class=\"node\">\n<title>54</title>\n<path fill=\"#f2c09c\" stroke=\"black\" d=\"M1967,-53C1967,-53 1896,-53 1896,-53 1890,-53 1884,-47 1884,-41 1884,-41 1884,-12 1884,-12 1884,-6 1890,0 1896,0 1896,0 1967,0 1967,0 1973,0 1979,-6 1979,-12 1979,-12 1979,-41 1979,-41 1979,-47 1973,-53 1967,-53\"/>\n<text text-anchor=\"middle\" x=\"1931.5\" y=\"-37.8\" font-family=\"Helvetica,sans-Serif\" font-size=\"14.00\">gini = 0.444</text>\n<text text-anchor=\"middle\" x=\"1931.5\" y=\"-22.8\" font-family=\"Helvetica,sans-Serif\" font-size=\"14.00\">samples = 3</text>\n<text text-anchor=\"middle\" x=\"1931.5\" y=\"-7.8\" font-family=\"Helvetica,sans-Serif\" font-size=\"14.00\">value = [2, 1]</text>\n</g>\n<!-- 52&#45;&gt;54 -->\n<g id=\"edge54\" class=\"edge\">\n<title>52&#45;&gt;54</title>\n<path fill=\"none\" stroke=\"black\" d=\"M1884.03,-88.95C1890.96,-79.98 1898.46,-70.27 1905.42,-61.26\"/>\n<polygon fill=\"black\" stroke=\"black\" points=\"1908.28,-63.29 1911.62,-53.24 1902.74,-59.01 1908.28,-63.29\"/>\n</g>\n<!-- 56 -->\n<g id=\"node57\" class=\"node\">\n<title>56</title>\n<path fill=\"#eca06a\" stroke=\"black\" d=\"M2151.5,-157C2151.5,-157 1981.5,-157 1981.5,-157 1975.5,-157 1969.5,-151 1969.5,-145 1969.5,-145 1969.5,-101 1969.5,-101 1969.5,-95 1975.5,-89 1981.5,-89 1981.5,-89 2151.5,-89 2151.5,-89 2157.5,-89 2163.5,-95 2163.5,-101 2163.5,-101 2163.5,-145 2163.5,-145 2163.5,-151 2157.5,-157 2151.5,-157\"/>\n<text text-anchor=\"middle\" x=\"2066.5\" y=\"-141.8\" font-family=\"Helvetica,sans-Serif\" font-size=\"14.00\">Budget(INR) &lt;= 924700032.0</text>\n<text text-anchor=\"middle\" x=\"2066.5\" y=\"-126.8\" font-family=\"Helvetica,sans-Serif\" font-size=\"14.00\">gini = 0.32</text>\n<text text-anchor=\"middle\" x=\"2066.5\" y=\"-111.8\" font-family=\"Helvetica,sans-Serif\" font-size=\"14.00\">samples = 25</text>\n<text text-anchor=\"middle\" x=\"2066.5\" y=\"-96.8\" font-family=\"Helvetica,sans-Serif\" font-size=\"14.00\">value = [20, 5]</text>\n</g>\n<!-- 55&#45;&gt;56 -->\n<g id=\"edge56\" class=\"edge\">\n<title>55&#45;&gt;56</title>\n<path fill=\"none\" stroke=\"black\" d=\"M2066.5,-192.88C2066.5,-184.78 2066.5,-175.98 2066.5,-167.47\"/>\n<polygon fill=\"black\" stroke=\"black\" points=\"2070,-167.3 2066.5,-157.3 2063,-167.3 2070,-167.3\"/>\n</g>\n<!-- 59 -->\n<g id=\"node60\" class=\"node\">\n<title>59</title>\n<path fill=\"#e6843e\" stroke=\"black\" d=\"M2366.5,-157C2366.5,-157 2196.5,-157 2196.5,-157 2190.5,-157 2184.5,-151 2184.5,-145 2184.5,-145 2184.5,-101 2184.5,-101 2184.5,-95 2190.5,-89 2196.5,-89 2196.5,-89 2366.5,-89 2366.5,-89 2372.5,-89 2378.5,-95 2378.5,-101 2378.5,-101 2378.5,-145 2378.5,-145 2378.5,-151 2372.5,-157 2366.5,-157\"/>\n<text text-anchor=\"middle\" x=\"2281.5\" y=\"-141.8\" font-family=\"Helvetica,sans-Serif\" font-size=\"14.00\">Budget(INR) &lt;= 554172512.0</text>\n<text text-anchor=\"middle\" x=\"2281.5\" y=\"-126.8\" font-family=\"Helvetica,sans-Serif\" font-size=\"14.00\">gini = 0.049</text>\n<text text-anchor=\"middle\" x=\"2281.5\" y=\"-111.8\" font-family=\"Helvetica,sans-Serif\" font-size=\"14.00\">samples = 80</text>\n<text text-anchor=\"middle\" x=\"2281.5\" y=\"-96.8\" font-family=\"Helvetica,sans-Serif\" font-size=\"14.00\">value = [78, 2]</text>\n</g>\n<!-- 55&#45;&gt;59 -->\n<g id=\"edge59\" class=\"edge\">\n<title>55&#45;&gt;59</title>\n<path fill=\"none\" stroke=\"black\" d=\"M2123.27,-199.07C2147.53,-187.56 2176.26,-173.93 2202.55,-161.46\"/>\n<polygon fill=\"black\" stroke=\"black\" points=\"2204.19,-164.55 2211.73,-157.1 2201.19,-158.23 2204.19,-164.55\"/>\n</g>\n<!-- 57 -->\n<g id=\"node58\" class=\"node\">\n<title>57</title>\n<path fill=\"#ffffff\" stroke=\"black\" d=\"M2080,-53C2080,-53 2009,-53 2009,-53 2003,-53 1997,-47 1997,-41 1997,-41 1997,-12 1997,-12 1997,-6 2003,0 2009,0 2009,0 2080,0 2080,0 2086,0 2092,-6 2092,-12 2092,-12 2092,-41 2092,-41 2092,-47 2086,-53 2080,-53\"/>\n<text text-anchor=\"middle\" x=\"2044.5\" y=\"-37.8\" font-family=\"Helvetica,sans-Serif\" font-size=\"14.00\">gini = 0.5</text>\n<text text-anchor=\"middle\" x=\"2044.5\" y=\"-22.8\" font-family=\"Helvetica,sans-Serif\" font-size=\"14.00\">samples = 8</text>\n<text text-anchor=\"middle\" x=\"2044.5\" y=\"-7.8\" font-family=\"Helvetica,sans-Serif\" font-size=\"14.00\">value = [4, 4]</text>\n</g>\n<!-- 56&#45;&gt;57 -->\n<g id=\"edge57\" class=\"edge\">\n<title>56&#45;&gt;57</title>\n<path fill=\"none\" stroke=\"black\" d=\"M2058.81,-88.95C2056.87,-80.62 2054.78,-71.65 2052.81,-63.2\"/>\n<polygon fill=\"black\" stroke=\"black\" points=\"2056.17,-62.18 2050.49,-53.24 2049.35,-63.77 2056.17,-62.18\"/>\n</g>\n<!-- 58 -->\n<g id=\"node59\" class=\"node\">\n<title>58</title>\n<path fill=\"#e78945\" stroke=\"black\" d=\"M2200.5,-53C2200.5,-53 2122.5,-53 2122.5,-53 2116.5,-53 2110.5,-47 2110.5,-41 2110.5,-41 2110.5,-12 2110.5,-12 2110.5,-6 2116.5,0 2122.5,0 2122.5,0 2200.5,0 2200.5,0 2206.5,0 2212.5,-6 2212.5,-12 2212.5,-12 2212.5,-41 2212.5,-41 2212.5,-47 2206.5,-53 2200.5,-53\"/>\n<text text-anchor=\"middle\" x=\"2161.5\" y=\"-37.8\" font-family=\"Helvetica,sans-Serif\" font-size=\"14.00\">gini = 0.111</text>\n<text text-anchor=\"middle\" x=\"2161.5\" y=\"-22.8\" font-family=\"Helvetica,sans-Serif\" font-size=\"14.00\">samples = 17</text>\n<text text-anchor=\"middle\" x=\"2161.5\" y=\"-7.8\" font-family=\"Helvetica,sans-Serif\" font-size=\"14.00\">value = [16, 1]</text>\n</g>\n<!-- 56&#45;&gt;58 -->\n<g id=\"edge58\" class=\"edge\">\n<title>56&#45;&gt;58</title>\n<path fill=\"none\" stroke=\"black\" d=\"M2099.73,-88.95C2109.01,-79.71 2119.11,-69.67 2128.39,-60.44\"/>\n<polygon fill=\"black\" stroke=\"black\" points=\"2131.01,-62.77 2135.63,-53.24 2126.07,-57.81 2131.01,-62.77\"/>\n</g>\n<!-- 60 -->\n<g id=\"node61\" class=\"node\">\n<title>60</title>\n<path fill=\"#e78c4a\" stroke=\"black\" d=\"M2320.5,-53C2320.5,-53 2242.5,-53 2242.5,-53 2236.5,-53 2230.5,-47 2230.5,-41 2230.5,-41 2230.5,-12 2230.5,-12 2230.5,-6 2236.5,0 2242.5,0 2242.5,0 2320.5,0 2320.5,0 2326.5,0 2332.5,-6 2332.5,-12 2332.5,-12 2332.5,-41 2332.5,-41 2332.5,-47 2326.5,-53 2320.5,-53\"/>\n<text text-anchor=\"middle\" x=\"2281.5\" y=\"-37.8\" font-family=\"Helvetica,sans-Serif\" font-size=\"14.00\">gini = 0.147</text>\n<text text-anchor=\"middle\" x=\"2281.5\" y=\"-22.8\" font-family=\"Helvetica,sans-Serif\" font-size=\"14.00\">samples = 25</text>\n<text text-anchor=\"middle\" x=\"2281.5\" y=\"-7.8\" font-family=\"Helvetica,sans-Serif\" font-size=\"14.00\">value = [23, 2]</text>\n</g>\n<!-- 59&#45;&gt;60 -->\n<g id=\"edge60\" class=\"edge\">\n<title>59&#45;&gt;60</title>\n<path fill=\"none\" stroke=\"black\" d=\"M2281.5,-88.95C2281.5,-80.72 2281.5,-71.85 2281.5,-63.48\"/>\n<polygon fill=\"black\" stroke=\"black\" points=\"2285,-63.24 2281.5,-53.24 2278,-63.24 2285,-63.24\"/>\n</g>\n<!-- 61 -->\n<g id=\"node62\" class=\"node\">\n<title>61</title>\n<path fill=\"#e58139\" stroke=\"black\" d=\"M2440.5,-53C2440.5,-53 2362.5,-53 2362.5,-53 2356.5,-53 2350.5,-47 2350.5,-41 2350.5,-41 2350.5,-12 2350.5,-12 2350.5,-6 2356.5,0 2362.5,0 2362.5,0 2440.5,0 2440.5,0 2446.5,0 2452.5,-6 2452.5,-12 2452.5,-12 2452.5,-41 2452.5,-41 2452.5,-47 2446.5,-53 2440.5,-53\"/>\n<text text-anchor=\"middle\" x=\"2401.5\" y=\"-37.8\" font-family=\"Helvetica,sans-Serif\" font-size=\"14.00\">gini = 0.0</text>\n<text text-anchor=\"middle\" x=\"2401.5\" y=\"-22.8\" font-family=\"Helvetica,sans-Serif\" font-size=\"14.00\">samples = 55</text>\n<text text-anchor=\"middle\" x=\"2401.5\" y=\"-7.8\" font-family=\"Helvetica,sans-Serif\" font-size=\"14.00\">value = [55, 0]</text>\n</g>\n<!-- 59&#45;&gt;61 -->\n<g id=\"edge61\" class=\"edge\">\n<title>59&#45;&gt;61</title>\n<path fill=\"none\" stroke=\"black\" d=\"M2323.47,-88.95C2335.55,-79.43 2348.71,-69.07 2360.72,-59.62\"/>\n<polygon fill=\"black\" stroke=\"black\" points=\"2363.13,-62.17 2368.82,-53.24 2358.8,-56.67 2363.13,-62.17\"/>\n</g>\n</g>\n</svg>\n",
            "text/plain": [
              "<graphviz.sources.Source at 0x78a888aac810>"
            ]
          },
          "metadata": {},
          "execution_count": 455
        }
      ]
    },
    {
      "cell_type": "markdown",
      "source": [
        "## 7. **Decision Tree Model (Entropy Criterion)**"
      ],
      "metadata": {
        "id": "OfvAFm3UTo5U"
      }
    },
    {
      "cell_type": "markdown",
      "source": [
        "#### -Train the model"
      ],
      "metadata": {
        "id": "8PaumLDKUDRF"
      }
    },
    {
      "cell_type": "markdown",
      "source": [
        "- Trains Decision Tree using entropy (Shanon).\n",
        "\n",
        "- Measures execution time and memory usage."
      ],
      "metadata": {
        "id": "f7v33wzoTq_m"
      }
    },
    {
      "cell_type": "code",
      "source": [
        "param_grid = {'max_depth': range(1, 20)}\n",
        "grid_search_entropy = GridSearchCV(DecisionTreeClassifier(criterion=\"entropy\", random_state=42), param_grid, cv=5, scoring='accuracy')\n",
        "grid_search_entropy.fit(X_train, y_train)\n",
        "best_max_depth_entropy = grid_search_entropy.best_params_['max_depth']\n",
        "print(f\"Optimal Max Depth for Decision Tree (entropy): {best_max_depth_entropy}\")"
      ],
      "metadata": {
        "colab": {
          "base_uri": "https://localhost:8080/"
        },
        "id": "k6Qpx4iAT19g",
        "outputId": "d20c570b-c8f6-4f2b-ec71-bf4f3bd93cb2"
      },
      "execution_count": 456,
      "outputs": [
        {
          "output_type": "stream",
          "name": "stdout",
          "text": [
            "Optimal Max Depth for Decision Tree (entropy): 9\n"
          ]
        }
      ]
    },
    {
      "cell_type": "code",
      "source": [
        "time_start = time.time()\n",
        "tracemalloc.start()\n",
        "tree_clf_entropy = DecisionTreeClassifier(criterion=\"entropy\", max_depth=best_max_depth_entropy, random_state=42)\n",
        "tree_clf_entropy.fit(X_train, y_train)\n",
        "entropy_memory, _ = tracemalloc.get_traced_memory()\n",
        "entropy_time = time.time() - time_start\n",
        "tracemalloc.stop()"
      ],
      "metadata": {
        "id": "RF-fQhQ4Ta1m"
      },
      "execution_count": 457,
      "outputs": []
    },
    {
      "cell_type": "markdown",
      "source": [
        "#### -Predict"
      ],
      "metadata": {
        "id": "LRxOTe8HTxR7"
      }
    },
    {
      "cell_type": "code",
      "source": [
        "y_pred_entropy = tree_clf_entropy.predict(X_test)"
      ],
      "metadata": {
        "id": "hYoFLlGqgLdF"
      },
      "execution_count": 458,
      "outputs": []
    },
    {
      "cell_type": "markdown",
      "source": [
        "#### - Evaluate Accuracy on Test Dataset"
      ],
      "metadata": {
        "id": "Nq1zkmgDUKmu"
      }
    },
    {
      "cell_type": "code",
      "source": [
        "dt_entropy_accuracy = tree_clf_entropy.score(X_test, y_test)"
      ],
      "metadata": {
        "id": "t6wvm9HWeMLi"
      },
      "execution_count": 459,
      "outputs": []
    },
    {
      "cell_type": "code",
      "source": [
        "dt_gini_accuracy = tree_clf_gini.score(X_test, y_test)\n",
        "print(f\"Decision Tree (Entropy) Accuracy: {dt_entropy_accuracy:.4f}\")\n",
        "print(f\"Decision Tree (Entropy) Time Taken: {entropy_time:.4f} seconds\")\n",
        "print(f\"Decision Tree (Entropy) Memory Used: {entropy_memory / 1e6:.2f} MB\")"
      ],
      "metadata": {
        "colab": {
          "base_uri": "https://localhost:8080/"
        },
        "id": "d9VGL_l2eGxB",
        "outputId": "75f6973a-e0ff-4b16-f640-a8a14c8bd1f4"
      },
      "execution_count": 460,
      "outputs": [
        {
          "output_type": "stream",
          "name": "stdout",
          "text": [
            "Decision Tree (Entropy) Accuracy: 0.9559\n",
            "Decision Tree (Entropy) Time Taken: 0.0233 seconds\n",
            "Decision Tree (Entropy) Memory Used: 0.00 MB\n"
          ]
        }
      ]
    },
    {
      "cell_type": "markdown",
      "source": [
        "#### - Visualize the Decision Tree"
      ],
      "metadata": {
        "id": "x32MB9joUPOn"
      }
    },
    {
      "cell_type": "code",
      "source": [
        "from sklearn.tree import export_graphviz\n",
        "from graphviz import Source\n",
        "export_graphviz(\n",
        "    tree_clf_entropy,\n",
        "    out_file=str(IMAGES_PATH / \"decision_tree.dot\"),\n",
        "    feature_names=X_encoded.columns,\n",
        "    rounded=True,\n",
        "    filled=True\n",
        ")\n",
        "Source.from_file(IMAGES_PATH / \"decision_tree.dot\")"
      ],
      "metadata": {
        "colab": {
          "base_uri": "https://localhost:8080/",
          "height": 1000
        },
        "id": "2Y53XI_Cdz_t",
        "outputId": "f677f850-f6c3-4395-ab65-2025a3f87e7f"
      },
      "execution_count": 461,
      "outputs": [
        {
          "output_type": "execute_result",
          "data": {
            "image/svg+xml": "<?xml version=\"1.0\" encoding=\"UTF-8\" standalone=\"no\"?>\n<!DOCTYPE svg PUBLIC \"-//W3C//DTD SVG 1.1//EN\"\n \"http://www.w3.org/Graphics/SVG/1.1/DTD/svg11.dtd\">\n<!-- Generated by graphviz version 2.43.0 (0)\n -->\n<!-- Title: Tree Pages: 1 -->\n<svg width=\"2094pt\" height=\"997pt\"\n viewBox=\"0.00 0.00 2094.00 997.00\" xmlns=\"http://www.w3.org/2000/svg\" xmlns:xlink=\"http://www.w3.org/1999/xlink\">\n<g id=\"graph0\" class=\"graph\" transform=\"scale(1 1) rotate(0) translate(4 993)\">\n<title>Tree</title>\n<polygon fill=\"white\" stroke=\"transparent\" points=\"-4,4 -4,-993 2090,-993 2090,4 -4,4\"/>\n<!-- 0 -->\n<g id=\"node1\" class=\"node\">\n<title>0</title>\n<path fill=\"#87c4ef\" stroke=\"black\" d=\"M1683.5,-989C1683.5,-989 1582.5,-989 1582.5,-989 1576.5,-989 1570.5,-983 1570.5,-977 1570.5,-977 1570.5,-933 1570.5,-933 1570.5,-927 1576.5,-921 1582.5,-921 1582.5,-921 1683.5,-921 1683.5,-921 1689.5,-921 1695.5,-927 1695.5,-933 1695.5,-933 1695.5,-977 1695.5,-977 1695.5,-983 1689.5,-989 1683.5,-989\"/>\n<text text-anchor=\"middle\" x=\"1633\" y=\"-973.8\" font-family=\"Helvetica,sans-Serif\" font-size=\"14.00\">Director &lt;= 602.5</text>\n<text text-anchor=\"middle\" x=\"1633\" y=\"-958.8\" font-family=\"Helvetica,sans-Serif\" font-size=\"14.00\">entropy = 0.86</text>\n<text text-anchor=\"middle\" x=\"1633\" y=\"-943.8\" font-family=\"Helvetica,sans-Serif\" font-size=\"14.00\">samples = 1358</text>\n<text text-anchor=\"middle\" x=\"1633\" y=\"-928.8\" font-family=\"Helvetica,sans-Serif\" font-size=\"14.00\">value = [385, 973]</text>\n</g>\n<!-- 1 -->\n<g id=\"node2\" class=\"node\">\n<title>1</title>\n<path fill=\"#f1bc95\" stroke=\"black\" d=\"M1633,-885C1633,-885 1463,-885 1463,-885 1457,-885 1451,-879 1451,-873 1451,-873 1451,-829 1451,-829 1451,-823 1457,-817 1463,-817 1463,-817 1633,-817 1633,-817 1639,-817 1645,-823 1645,-829 1645,-829 1645,-873 1645,-873 1645,-879 1639,-885 1633,-885\"/>\n<text text-anchor=\"middle\" x=\"1548\" y=\"-869.8\" font-family=\"Helvetica,sans-Serif\" font-size=\"14.00\">Budget(INR) &lt;= 206837496.0</text>\n<text text-anchor=\"middle\" x=\"1548\" y=\"-854.8\" font-family=\"Helvetica,sans-Serif\" font-size=\"14.00\">entropy = 0.902</text>\n<text text-anchor=\"middle\" x=\"1548\" y=\"-839.8\" font-family=\"Helvetica,sans-Serif\" font-size=\"14.00\">samples = 564</text>\n<text text-anchor=\"middle\" x=\"1548\" y=\"-824.8\" font-family=\"Helvetica,sans-Serif\" font-size=\"14.00\">value = [385, 179]</text>\n</g>\n<!-- 0&#45;&gt;1 -->\n<g id=\"edge1\" class=\"edge\">\n<title>0&#45;&gt;1</title>\n<path fill=\"none\" stroke=\"black\" d=\"M1605.4,-920.88C1598.05,-912.07 1590.03,-902.43 1582.36,-893.24\"/>\n<polygon fill=\"black\" stroke=\"black\" points=\"1584.84,-890.74 1575.75,-885.3 1579.46,-895.22 1584.84,-890.74\"/>\n<text text-anchor=\"middle\" x=\"1573.49\" y=\"-906.5\" font-family=\"Helvetica,sans-Serif\" font-size=\"14.00\">True</text>\n</g>\n<!-- 60 -->\n<g id=\"node61\" class=\"node\">\n<title>60</title>\n<path fill=\"#399de5\" stroke=\"black\" d=\"M1761,-877.5C1761,-877.5 1675,-877.5 1675,-877.5 1669,-877.5 1663,-871.5 1663,-865.5 1663,-865.5 1663,-836.5 1663,-836.5 1663,-830.5 1669,-824.5 1675,-824.5 1675,-824.5 1761,-824.5 1761,-824.5 1767,-824.5 1773,-830.5 1773,-836.5 1773,-836.5 1773,-865.5 1773,-865.5 1773,-871.5 1767,-877.5 1761,-877.5\"/>\n<text text-anchor=\"middle\" x=\"1718\" y=\"-862.3\" font-family=\"Helvetica,sans-Serif\" font-size=\"14.00\">entropy = 0.0</text>\n<text text-anchor=\"middle\" x=\"1718\" y=\"-847.3\" font-family=\"Helvetica,sans-Serif\" font-size=\"14.00\">samples = 794</text>\n<text text-anchor=\"middle\" x=\"1718\" y=\"-832.3\" font-family=\"Helvetica,sans-Serif\" font-size=\"14.00\">value = [0, 794]</text>\n</g>\n<!-- 0&#45;&gt;60 -->\n<g id=\"edge60\" class=\"edge\">\n<title>0&#45;&gt;60</title>\n<path fill=\"none\" stroke=\"black\" d=\"M1660.6,-920.88C1670.04,-909.56 1680.6,-896.88 1690.07,-885.52\"/>\n<polygon fill=\"black\" stroke=\"black\" points=\"1693.02,-887.44 1696.73,-877.52 1687.64,-882.96 1693.02,-887.44\"/>\n<text text-anchor=\"middle\" x=\"1699\" y=\"-898.72\" font-family=\"Helvetica,sans-Serif\" font-size=\"14.00\">False</text>\n</g>\n<!-- 2 -->\n<g id=\"node3\" class=\"node\">\n<title>2</title>\n<path fill=\"#bcdef6\" stroke=\"black\" d=\"M1515.5,-781C1515.5,-781 1414.5,-781 1414.5,-781 1408.5,-781 1402.5,-775 1402.5,-769 1402.5,-769 1402.5,-725 1402.5,-725 1402.5,-719 1408.5,-713 1414.5,-713 1414.5,-713 1515.5,-713 1515.5,-713 1521.5,-713 1527.5,-719 1527.5,-725 1527.5,-725 1527.5,-769 1527.5,-769 1527.5,-775 1521.5,-781 1515.5,-781\"/>\n<text text-anchor=\"middle\" x=\"1465\" y=\"-765.8\" font-family=\"Helvetica,sans-Serif\" font-size=\"14.00\">Director &lt;= 169.5</text>\n<text text-anchor=\"middle\" x=\"1465\" y=\"-750.8\" font-family=\"Helvetica,sans-Serif\" font-size=\"14.00\">entropy = 0.97</text>\n<text text-anchor=\"middle\" x=\"1465\" y=\"-735.8\" font-family=\"Helvetica,sans-Serif\" font-size=\"14.00\">samples = 256</text>\n<text text-anchor=\"middle\" x=\"1465\" y=\"-720.8\" font-family=\"Helvetica,sans-Serif\" font-size=\"14.00\">value = [102, 154]</text>\n</g>\n<!-- 1&#45;&gt;2 -->\n<g id=\"edge2\" class=\"edge\">\n<title>1&#45;&gt;2</title>\n<path fill=\"none\" stroke=\"black\" d=\"M1521.05,-816.88C1513.88,-808.07 1506.04,-798.43 1498.55,-789.24\"/>\n<polygon fill=\"black\" stroke=\"black\" points=\"1501.12,-786.85 1492.1,-781.3 1495.69,-791.26 1501.12,-786.85\"/>\n</g>\n<!-- 33 -->\n<g id=\"node34\" class=\"node\">\n<title>33</title>\n<path fill=\"#e78c4a\" stroke=\"black\" d=\"M1701,-781C1701,-781 1603,-781 1603,-781 1597,-781 1591,-775 1591,-769 1591,-769 1591,-725 1591,-725 1591,-719 1597,-713 1603,-713 1603,-713 1701,-713 1701,-713 1707,-713 1713,-719 1713,-725 1713,-725 1713,-769 1713,-769 1713,-775 1707,-781 1701,-781\"/>\n<text text-anchor=\"middle\" x=\"1652\" y=\"-765.8\" font-family=\"Helvetica,sans-Serif\" font-size=\"14.00\">Director &lt;= 169.5</text>\n<text text-anchor=\"middle\" x=\"1652\" y=\"-750.8\" font-family=\"Helvetica,sans-Serif\" font-size=\"14.00\">entropy = 0.406</text>\n<text text-anchor=\"middle\" x=\"1652\" y=\"-735.8\" font-family=\"Helvetica,sans-Serif\" font-size=\"14.00\">samples = 308</text>\n<text text-anchor=\"middle\" x=\"1652\" y=\"-720.8\" font-family=\"Helvetica,sans-Serif\" font-size=\"14.00\">value = [283, 25]</text>\n</g>\n<!-- 1&#45;&gt;33 -->\n<g id=\"edge33\" class=\"edge\">\n<title>1&#45;&gt;33</title>\n<path fill=\"none\" stroke=\"black\" d=\"M1581.77,-816.88C1591.03,-807.8 1601.18,-797.85 1610.81,-788.4\"/>\n<polygon fill=\"black\" stroke=\"black\" points=\"1613.36,-790.8 1618.05,-781.3 1608.46,-785.8 1613.36,-790.8\"/>\n</g>\n<!-- 3 -->\n<g id=\"node4\" class=\"node\">\n<title>3</title>\n<path fill=\"#8ec7f0\" stroke=\"black\" d=\"M1291.5,-677C1291.5,-677 1182.5,-677 1182.5,-677 1176.5,-677 1170.5,-671 1170.5,-665 1170.5,-665 1170.5,-621 1170.5,-621 1170.5,-615 1176.5,-609 1182.5,-609 1182.5,-609 1291.5,-609 1291.5,-609 1297.5,-609 1303.5,-615 1303.5,-621 1303.5,-621 1303.5,-665 1303.5,-665 1303.5,-671 1297.5,-677 1291.5,-677\"/>\n<text text-anchor=\"middle\" x=\"1237\" y=\"-661.8\" font-family=\"Helvetica,sans-Serif\" font-size=\"14.00\">Lead Star &lt;= 454.5</text>\n<text text-anchor=\"middle\" x=\"1237\" y=\"-646.8\" font-family=\"Helvetica,sans-Serif\" font-size=\"14.00\">entropy = 0.881</text>\n<text text-anchor=\"middle\" x=\"1237\" y=\"-631.8\" font-family=\"Helvetica,sans-Serif\" font-size=\"14.00\">samples = 220</text>\n<text text-anchor=\"middle\" x=\"1237\" y=\"-616.8\" font-family=\"Helvetica,sans-Serif\" font-size=\"14.00\">value = [66, 154]</text>\n</g>\n<!-- 2&#45;&gt;3 -->\n<g id=\"edge3\" class=\"edge\">\n<title>2&#45;&gt;3</title>\n<path fill=\"none\" stroke=\"black\" d=\"M1402.4,-717.99C1374.8,-705.65 1342.12,-691.03 1313.13,-678.06\"/>\n<polygon fill=\"black\" stroke=\"black\" points=\"1314.41,-674.8 1303.85,-673.91 1311.55,-681.19 1314.41,-674.8\"/>\n</g>\n<!-- 32 -->\n<g id=\"node33\" class=\"node\">\n<title>32</title>\n<path fill=\"#e58139\" stroke=\"black\" d=\"M1504,-669.5C1504,-669.5 1426,-669.5 1426,-669.5 1420,-669.5 1414,-663.5 1414,-657.5 1414,-657.5 1414,-628.5 1414,-628.5 1414,-622.5 1420,-616.5 1426,-616.5 1426,-616.5 1504,-616.5 1504,-616.5 1510,-616.5 1516,-622.5 1516,-628.5 1516,-628.5 1516,-657.5 1516,-657.5 1516,-663.5 1510,-669.5 1504,-669.5\"/>\n<text text-anchor=\"middle\" x=\"1465\" y=\"-654.3\" font-family=\"Helvetica,sans-Serif\" font-size=\"14.00\">entropy = 0.0</text>\n<text text-anchor=\"middle\" x=\"1465\" y=\"-639.3\" font-family=\"Helvetica,sans-Serif\" font-size=\"14.00\">samples = 36</text>\n<text text-anchor=\"middle\" x=\"1465\" y=\"-624.3\" font-family=\"Helvetica,sans-Serif\" font-size=\"14.00\">value = [36, 0]</text>\n</g>\n<!-- 2&#45;&gt;32 -->\n<g id=\"edge32\" class=\"edge\">\n<title>2&#45;&gt;32</title>\n<path fill=\"none\" stroke=\"black\" d=\"M1465,-712.88C1465,-702.33 1465,-690.6 1465,-679.85\"/>\n<polygon fill=\"black\" stroke=\"black\" points=\"1468.5,-679.52 1465,-669.52 1461.5,-679.52 1468.5,-679.52\"/>\n</g>\n<!-- 4 -->\n<g id=\"node5\" class=\"node\">\n<title>4</title>\n<path fill=\"#c4e2f7\" stroke=\"black\" d=\"M1145.5,-573C1145.5,-573 1008.5,-573 1008.5,-573 1002.5,-573 996.5,-567 996.5,-561 996.5,-561 996.5,-517 996.5,-517 996.5,-511 1002.5,-505 1008.5,-505 1008.5,-505 1145.5,-505 1145.5,-505 1151.5,-505 1157.5,-511 1157.5,-517 1157.5,-517 1157.5,-561 1157.5,-561 1157.5,-567 1151.5,-573 1145.5,-573\"/>\n<text text-anchor=\"middle\" x=\"1077\" y=\"-557.8\" font-family=\"Helvetica,sans-Serif\" font-size=\"14.00\">Music Director &lt;= 385.5</text>\n<text text-anchor=\"middle\" x=\"1077\" y=\"-542.8\" font-family=\"Helvetica,sans-Serif\" font-size=\"14.00\">entropy = 0.978</text>\n<text text-anchor=\"middle\" x=\"1077\" y=\"-527.8\" font-family=\"Helvetica,sans-Serif\" font-size=\"14.00\">samples = 160</text>\n<text text-anchor=\"middle\" x=\"1077\" y=\"-512.8\" font-family=\"Helvetica,sans-Serif\" font-size=\"14.00\">value = [66, 94]</text>\n</g>\n<!-- 3&#45;&gt;4 -->\n<g id=\"edge4\" class=\"edge\">\n<title>3&#45;&gt;4</title>\n<path fill=\"none\" stroke=\"black\" d=\"M1185.05,-608.88C1169.89,-599.21 1153.18,-588.56 1137.53,-578.59\"/>\n<polygon fill=\"black\" stroke=\"black\" points=\"1139.27,-575.55 1128.96,-573.12 1135.51,-581.45 1139.27,-575.55\"/>\n</g>\n<!-- 31 -->\n<g id=\"node32\" class=\"node\">\n<title>31</title>\n<path fill=\"#399de5\" stroke=\"black\" d=\"M1276,-565.5C1276,-565.5 1198,-565.5 1198,-565.5 1192,-565.5 1186,-559.5 1186,-553.5 1186,-553.5 1186,-524.5 1186,-524.5 1186,-518.5 1192,-512.5 1198,-512.5 1198,-512.5 1276,-512.5 1276,-512.5 1282,-512.5 1288,-518.5 1288,-524.5 1288,-524.5 1288,-553.5 1288,-553.5 1288,-559.5 1282,-565.5 1276,-565.5\"/>\n<text text-anchor=\"middle\" x=\"1237\" y=\"-550.3\" font-family=\"Helvetica,sans-Serif\" font-size=\"14.00\">entropy = 0.0</text>\n<text text-anchor=\"middle\" x=\"1237\" y=\"-535.3\" font-family=\"Helvetica,sans-Serif\" font-size=\"14.00\">samples = 60</text>\n<text text-anchor=\"middle\" x=\"1237\" y=\"-520.3\" font-family=\"Helvetica,sans-Serif\" font-size=\"14.00\">value = [0, 60]</text>\n</g>\n<!-- 3&#45;&gt;31 -->\n<g id=\"edge31\" class=\"edge\">\n<title>3&#45;&gt;31</title>\n<path fill=\"none\" stroke=\"black\" d=\"M1237,-608.88C1237,-598.33 1237,-586.6 1237,-575.85\"/>\n<polygon fill=\"black\" stroke=\"black\" points=\"1240.5,-575.52 1237,-565.52 1233.5,-575.52 1240.5,-575.52\"/>\n</g>\n<!-- 5 -->\n<g id=\"node6\" class=\"node\">\n<title>5</title>\n<path fill=\"#dceefa\" stroke=\"black\" d=\"M993.5,-469C993.5,-469 830.5,-469 830.5,-469 824.5,-469 818.5,-463 818.5,-457 818.5,-457 818.5,-413 818.5,-413 818.5,-407 824.5,-401 830.5,-401 830.5,-401 993.5,-401 993.5,-401 999.5,-401 1005.5,-407 1005.5,-413 1005.5,-413 1005.5,-457 1005.5,-457 1005.5,-463 999.5,-469 993.5,-469\"/>\n<text text-anchor=\"middle\" x=\"912\" y=\"-453.8\" font-family=\"Helvetica,sans-Serif\" font-size=\"14.00\">Budget(INR) &lt;= 94362500.0</text>\n<text text-anchor=\"middle\" x=\"912\" y=\"-438.8\" font-family=\"Helvetica,sans-Serif\" font-size=\"14.00\">entropy = 0.993</text>\n<text text-anchor=\"middle\" x=\"912\" y=\"-423.8\" font-family=\"Helvetica,sans-Serif\" font-size=\"14.00\">samples = 146</text>\n<text text-anchor=\"middle\" x=\"912\" y=\"-408.8\" font-family=\"Helvetica,sans-Serif\" font-size=\"14.00\">value = [66, 80]</text>\n</g>\n<!-- 4&#45;&gt;5 -->\n<g id=\"edge5\" class=\"edge\">\n<title>4&#45;&gt;5</title>\n<path fill=\"none\" stroke=\"black\" d=\"M1023.43,-504.88C1007.79,-495.21 990.56,-484.56 974.42,-474.59\"/>\n<polygon fill=\"black\" stroke=\"black\" points=\"975.93,-471.41 965.58,-469.12 972.25,-477.36 975.93,-471.41\"/>\n</g>\n<!-- 30 -->\n<g id=\"node31\" class=\"node\">\n<title>30</title>\n<path fill=\"#399de5\" stroke=\"black\" d=\"M1116,-461.5C1116,-461.5 1038,-461.5 1038,-461.5 1032,-461.5 1026,-455.5 1026,-449.5 1026,-449.5 1026,-420.5 1026,-420.5 1026,-414.5 1032,-408.5 1038,-408.5 1038,-408.5 1116,-408.5 1116,-408.5 1122,-408.5 1128,-414.5 1128,-420.5 1128,-420.5 1128,-449.5 1128,-449.5 1128,-455.5 1122,-461.5 1116,-461.5\"/>\n<text text-anchor=\"middle\" x=\"1077\" y=\"-446.3\" font-family=\"Helvetica,sans-Serif\" font-size=\"14.00\">entropy = 0.0</text>\n<text text-anchor=\"middle\" x=\"1077\" y=\"-431.3\" font-family=\"Helvetica,sans-Serif\" font-size=\"14.00\">samples = 14</text>\n<text text-anchor=\"middle\" x=\"1077\" y=\"-416.3\" font-family=\"Helvetica,sans-Serif\" font-size=\"14.00\">value = [0, 14]</text>\n</g>\n<!-- 4&#45;&gt;30 -->\n<g id=\"edge30\" class=\"edge\">\n<title>4&#45;&gt;30</title>\n<path fill=\"none\" stroke=\"black\" d=\"M1077,-504.88C1077,-494.33 1077,-482.6 1077,-471.85\"/>\n<polygon fill=\"black\" stroke=\"black\" points=\"1080.5,-471.52 1077,-461.52 1073.5,-471.52 1080.5,-471.52\"/>\n</g>\n<!-- 6 -->\n<g id=\"node7\" class=\"node\">\n<title>6</title>\n<path fill=\"#97cbf1\" stroke=\"black\" d=\"M551.5,-365C551.5,-365 464.5,-365 464.5,-365 458.5,-365 452.5,-359 452.5,-353 452.5,-353 452.5,-309 452.5,-309 452.5,-303 458.5,-297 464.5,-297 464.5,-297 551.5,-297 551.5,-297 557.5,-297 563.5,-303 563.5,-309 563.5,-309 563.5,-353 563.5,-353 563.5,-359 557.5,-365 551.5,-365\"/>\n<text text-anchor=\"middle\" x=\"508\" y=\"-349.8\" font-family=\"Helvetica,sans-Serif\" font-size=\"14.00\">Genre &lt;= 86.5</text>\n<text text-anchor=\"middle\" x=\"508\" y=\"-334.8\" font-family=\"Helvetica,sans-Serif\" font-size=\"14.00\">entropy = 0.905</text>\n<text text-anchor=\"middle\" x=\"508\" y=\"-319.8\" font-family=\"Helvetica,sans-Serif\" font-size=\"14.00\">samples = 81</text>\n<text text-anchor=\"middle\" x=\"508\" y=\"-304.8\" font-family=\"Helvetica,sans-Serif\" font-size=\"14.00\">value = [26, 55]</text>\n</g>\n<!-- 5&#45;&gt;6 -->\n<g id=\"edge6\" class=\"edge\">\n<title>5&#45;&gt;6</title>\n<path fill=\"none\" stroke=\"black\" d=\"M818.3,-410.34C743.25,-391.39 639.88,-365.3 573.49,-348.53\"/>\n<polygon fill=\"black\" stroke=\"black\" points=\"574.12,-345.08 563.57,-346.03 572.4,-351.87 574.12,-345.08\"/>\n</g>\n<!-- 19 -->\n<g id=\"node20\" class=\"node\">\n<title>19</title>\n<path fill=\"#f5d0b5\" stroke=\"black\" d=\"M995.5,-365C995.5,-365 828.5,-365 828.5,-365 822.5,-365 816.5,-359 816.5,-353 816.5,-353 816.5,-309 816.5,-309 816.5,-303 822.5,-297 828.5,-297 828.5,-297 995.5,-297 995.5,-297 1001.5,-297 1007.5,-303 1007.5,-309 1007.5,-309 1007.5,-353 1007.5,-353 1007.5,-359 1001.5,-365 995.5,-365\"/>\n<text text-anchor=\"middle\" x=\"912\" y=\"-349.8\" font-family=\"Helvetica,sans-Serif\" font-size=\"14.00\">Number of Screens &lt;= 587.5</text>\n<text text-anchor=\"middle\" x=\"912\" y=\"-334.8\" font-family=\"Helvetica,sans-Serif\" font-size=\"14.00\">entropy = 0.961</text>\n<text text-anchor=\"middle\" x=\"912\" y=\"-319.8\" font-family=\"Helvetica,sans-Serif\" font-size=\"14.00\">samples = 65</text>\n<text text-anchor=\"middle\" x=\"912\" y=\"-304.8\" font-family=\"Helvetica,sans-Serif\" font-size=\"14.00\">value = [40, 25]</text>\n</g>\n<!-- 5&#45;&gt;19 -->\n<g id=\"edge19\" class=\"edge\">\n<title>5&#45;&gt;19</title>\n<path fill=\"none\" stroke=\"black\" d=\"M912,-400.88C912,-392.78 912,-383.98 912,-375.47\"/>\n<polygon fill=\"black\" stroke=\"black\" points=\"915.5,-375.3 912,-365.3 908.5,-375.3 915.5,-375.3\"/>\n</g>\n<!-- 7 -->\n<g id=\"node8\" class=\"node\">\n<title>7</title>\n<path fill=\"#eeaf81\" stroke=\"black\" d=\"M247.5,-261C247.5,-261 160.5,-261 160.5,-261 154.5,-261 148.5,-255 148.5,-249 148.5,-249 148.5,-205 148.5,-205 148.5,-199 154.5,-193 160.5,-193 160.5,-193 247.5,-193 247.5,-193 253.5,-193 259.5,-199 259.5,-205 259.5,-205 259.5,-249 259.5,-249 259.5,-255 253.5,-261 247.5,-261\"/>\n<text text-anchor=\"middle\" x=\"204\" y=\"-245.8\" font-family=\"Helvetica,sans-Serif\" font-size=\"14.00\">Genre &lt;= 65.5</text>\n<text text-anchor=\"middle\" x=\"204\" y=\"-230.8\" font-family=\"Helvetica,sans-Serif\" font-size=\"14.00\">entropy = 0.837</text>\n<text text-anchor=\"middle\" x=\"204\" y=\"-215.8\" font-family=\"Helvetica,sans-Serif\" font-size=\"14.00\">samples = 15</text>\n<text text-anchor=\"middle\" x=\"204\" y=\"-200.8\" font-family=\"Helvetica,sans-Serif\" font-size=\"14.00\">value = [11, 4]</text>\n</g>\n<!-- 6&#45;&gt;7 -->\n<g id=\"edge7\" class=\"edge\">\n<title>6&#45;&gt;7</title>\n<path fill=\"none\" stroke=\"black\" d=\"M452.24,-311.29C400.58,-293.96 323.71,-268.17 269.22,-249.88\"/>\n<polygon fill=\"black\" stroke=\"black\" points=\"270.26,-246.54 259.66,-246.68 268.03,-253.18 270.26,-246.54\"/>\n</g>\n<!-- 12 -->\n<g id=\"node13\" class=\"node\">\n<title>12</title>\n<path fill=\"#73baed\" stroke=\"black\" d=\"M591.5,-261C591.5,-261 424.5,-261 424.5,-261 418.5,-261 412.5,-255 412.5,-249 412.5,-249 412.5,-205 412.5,-205 412.5,-199 418.5,-193 424.5,-193 424.5,-193 591.5,-193 591.5,-193 597.5,-193 603.5,-199 603.5,-205 603.5,-205 603.5,-249 603.5,-249 603.5,-255 597.5,-261 591.5,-261\"/>\n<text text-anchor=\"middle\" x=\"508\" y=\"-245.8\" font-family=\"Helvetica,sans-Serif\" font-size=\"14.00\">Number of Screens &lt;= 375.0</text>\n<text text-anchor=\"middle\" x=\"508\" y=\"-230.8\" font-family=\"Helvetica,sans-Serif\" font-size=\"14.00\">entropy = 0.773</text>\n<text text-anchor=\"middle\" x=\"508\" y=\"-215.8\" font-family=\"Helvetica,sans-Serif\" font-size=\"14.00\">samples = 66</text>\n<text text-anchor=\"middle\" x=\"508\" y=\"-200.8\" font-family=\"Helvetica,sans-Serif\" font-size=\"14.00\">value = [15, 51]</text>\n</g>\n<!-- 6&#45;&gt;12 -->\n<g id=\"edge12\" class=\"edge\">\n<title>6&#45;&gt;12</title>\n<path fill=\"none\" stroke=\"black\" d=\"M508,-296.88C508,-288.78 508,-279.98 508,-271.47\"/>\n<polygon fill=\"black\" stroke=\"black\" points=\"511.5,-271.3 508,-261.3 504.5,-271.3 511.5,-271.3\"/>\n</g>\n<!-- 8 -->\n<g id=\"node9\" class=\"node\">\n<title>8</title>\n<path fill=\"#399de5\" stroke=\"black\" d=\"M84,-149.5C84,-149.5 12,-149.5 12,-149.5 6,-149.5 0,-143.5 0,-137.5 0,-137.5 0,-108.5 0,-108.5 0,-102.5 6,-96.5 12,-96.5 12,-96.5 84,-96.5 84,-96.5 90,-96.5 96,-102.5 96,-108.5 96,-108.5 96,-137.5 96,-137.5 96,-143.5 90,-149.5 84,-149.5\"/>\n<text text-anchor=\"middle\" x=\"48\" y=\"-134.3\" font-family=\"Helvetica,sans-Serif\" font-size=\"14.00\">entropy = 0.0</text>\n<text text-anchor=\"middle\" x=\"48\" y=\"-119.3\" font-family=\"Helvetica,sans-Serif\" font-size=\"14.00\">samples = 2</text>\n<text text-anchor=\"middle\" x=\"48\" y=\"-104.3\" font-family=\"Helvetica,sans-Serif\" font-size=\"14.00\">value = [0, 2]</text>\n</g>\n<!-- 7&#45;&gt;8 -->\n<g id=\"edge8\" class=\"edge\">\n<title>7&#45;&gt;8</title>\n<path fill=\"none\" stroke=\"black\" d=\"M153.35,-192.88C134.85,-180.79 114,-167.15 95.75,-155.22\"/>\n<polygon fill=\"black\" stroke=\"black\" points=\"97.32,-152.06 87.03,-149.52 93.48,-157.92 97.32,-152.06\"/>\n</g>\n<!-- 9 -->\n<g id=\"node10\" class=\"node\">\n<title>9</title>\n<path fill=\"#ea985d\" stroke=\"black\" d=\"M281.5,-157C281.5,-157 126.5,-157 126.5,-157 120.5,-157 114.5,-151 114.5,-145 114.5,-145 114.5,-101 114.5,-101 114.5,-95 120.5,-89 126.5,-89 126.5,-89 281.5,-89 281.5,-89 287.5,-89 293.5,-95 293.5,-101 293.5,-101 293.5,-145 293.5,-145 293.5,-151 287.5,-157 281.5,-157\"/>\n<text text-anchor=\"middle\" x=\"204\" y=\"-141.8\" font-family=\"Helvetica,sans-Serif\" font-size=\"14.00\">Budget(INR) &lt;= 1425000.0</text>\n<text text-anchor=\"middle\" x=\"204\" y=\"-126.8\" font-family=\"Helvetica,sans-Serif\" font-size=\"14.00\">entropy = 0.619</text>\n<text text-anchor=\"middle\" x=\"204\" y=\"-111.8\" font-family=\"Helvetica,sans-Serif\" font-size=\"14.00\">samples = 13</text>\n<text text-anchor=\"middle\" x=\"204\" y=\"-96.8\" font-family=\"Helvetica,sans-Serif\" font-size=\"14.00\">value = [11, 2]</text>\n</g>\n<!-- 7&#45;&gt;9 -->\n<g id=\"edge9\" class=\"edge\">\n<title>7&#45;&gt;9</title>\n<path fill=\"none\" stroke=\"black\" d=\"M204,-192.88C204,-184.78 204,-175.98 204,-167.47\"/>\n<polygon fill=\"black\" stroke=\"black\" points=\"207.5,-167.3 204,-157.3 200.5,-167.3 207.5,-167.3\"/>\n</g>\n<!-- 10 -->\n<g id=\"node11\" class=\"node\">\n<title>10</title>\n<path fill=\"#ffffff\" stroke=\"black\" d=\"M131,-53C131,-53 59,-53 59,-53 53,-53 47,-47 47,-41 47,-41 47,-12 47,-12 47,-6 53,0 59,0 59,0 131,0 131,0 137,0 143,-6 143,-12 143,-12 143,-41 143,-41 143,-47 137,-53 131,-53\"/>\n<text text-anchor=\"middle\" x=\"95\" y=\"-37.8\" font-family=\"Helvetica,sans-Serif\" font-size=\"14.00\">entropy = 1.0</text>\n<text text-anchor=\"middle\" x=\"95\" y=\"-22.8\" font-family=\"Helvetica,sans-Serif\" font-size=\"14.00\">samples = 4</text>\n<text text-anchor=\"middle\" x=\"95\" y=\"-7.8\" font-family=\"Helvetica,sans-Serif\" font-size=\"14.00\">value = [2, 2]</text>\n</g>\n<!-- 9&#45;&gt;10 -->\n<g id=\"edge10\" class=\"edge\">\n<title>9&#45;&gt;10</title>\n<path fill=\"none\" stroke=\"black\" d=\"M165.88,-88.95C155.01,-79.53 143.18,-69.27 132.36,-59.89\"/>\n<polygon fill=\"black\" stroke=\"black\" points=\"134.53,-57.14 124.69,-53.24 129.95,-62.43 134.53,-57.14\"/>\n</g>\n<!-- 11 -->\n<g id=\"node12\" class=\"node\">\n<title>11</title>\n<path fill=\"#e58139\" stroke=\"black\" d=\"M245,-53C245,-53 173,-53 173,-53 167,-53 161,-47 161,-41 161,-41 161,-12 161,-12 161,-6 167,0 173,0 173,0 245,0 245,0 251,0 257,-6 257,-12 257,-12 257,-41 257,-41 257,-47 251,-53 245,-53\"/>\n<text text-anchor=\"middle\" x=\"209\" y=\"-37.8\" font-family=\"Helvetica,sans-Serif\" font-size=\"14.00\">entropy = 0.0</text>\n<text text-anchor=\"middle\" x=\"209\" y=\"-22.8\" font-family=\"Helvetica,sans-Serif\" font-size=\"14.00\">samples = 9</text>\n<text text-anchor=\"middle\" x=\"209\" y=\"-7.8\" font-family=\"Helvetica,sans-Serif\" font-size=\"14.00\">value = [9, 0]</text>\n</g>\n<!-- 9&#45;&gt;11 -->\n<g id=\"edge11\" class=\"edge\">\n<title>9&#45;&gt;11</title>\n<path fill=\"none\" stroke=\"black\" d=\"M205.75,-88.95C206.18,-80.72 206.65,-71.85 207.1,-63.48\"/>\n<polygon fill=\"black\" stroke=\"black\" points=\"210.6,-63.41 207.64,-53.24 203.61,-63.04 210.6,-63.41\"/>\n</g>\n<!-- 13 -->\n<g id=\"node14\" class=\"node\">\n<title>13</title>\n<path fill=\"#95cbf1\" stroke=\"black\" d=\"M486.5,-157C486.5,-157 323.5,-157 323.5,-157 317.5,-157 311.5,-151 311.5,-145 311.5,-145 311.5,-101 311.5,-101 311.5,-95 317.5,-89 323.5,-89 323.5,-89 486.5,-89 486.5,-89 492.5,-89 498.5,-95 498.5,-101 498.5,-101 498.5,-145 498.5,-145 498.5,-151 492.5,-157 486.5,-157\"/>\n<text text-anchor=\"middle\" x=\"405\" y=\"-141.8\" font-family=\"Helvetica,sans-Serif\" font-size=\"14.00\">Budget(INR) &lt;= 37200000.0</text>\n<text text-anchor=\"middle\" x=\"405\" y=\"-126.8\" font-family=\"Helvetica,sans-Serif\" font-size=\"14.00\">entropy = 0.902</text>\n<text text-anchor=\"middle\" x=\"405\" y=\"-111.8\" font-family=\"Helvetica,sans-Serif\" font-size=\"14.00\">samples = 44</text>\n<text text-anchor=\"middle\" x=\"405\" y=\"-96.8\" font-family=\"Helvetica,sans-Serif\" font-size=\"14.00\">value = [14.0, 30.0]</text>\n</g>\n<!-- 12&#45;&gt;13 -->\n<g id=\"edge13\" class=\"edge\">\n<title>12&#45;&gt;13</title>\n<path fill=\"none\" stroke=\"black\" d=\"M474.56,-192.88C465.38,-183.8 455.33,-173.85 445.8,-164.4\"/>\n<polygon fill=\"black\" stroke=\"black\" points=\"448.19,-161.85 438.63,-157.3 443.27,-166.82 448.19,-161.85\"/>\n</g>\n<!-- 16 -->\n<g id=\"node17\" class=\"node\">\n<title>16</title>\n<path fill=\"#42a2e6\" stroke=\"black\" d=\"M691.5,-157C691.5,-157 528.5,-157 528.5,-157 522.5,-157 516.5,-151 516.5,-145 516.5,-145 516.5,-101 516.5,-101 516.5,-95 522.5,-89 528.5,-89 528.5,-89 691.5,-89 691.5,-89 697.5,-89 703.5,-95 703.5,-101 703.5,-101 703.5,-145 703.5,-145 703.5,-151 697.5,-157 691.5,-157\"/>\n<text text-anchor=\"middle\" x=\"610\" y=\"-141.8\" font-family=\"Helvetica,sans-Serif\" font-size=\"14.00\">Budget(INR) &lt;= 15500000.0</text>\n<text text-anchor=\"middle\" x=\"610\" y=\"-126.8\" font-family=\"Helvetica,sans-Serif\" font-size=\"14.00\">entropy = 0.267</text>\n<text text-anchor=\"middle\" x=\"610\" y=\"-111.8\" font-family=\"Helvetica,sans-Serif\" font-size=\"14.00\">samples = 22</text>\n<text text-anchor=\"middle\" x=\"610\" y=\"-96.8\" font-family=\"Helvetica,sans-Serif\" font-size=\"14.00\">value = [1, 21]</text>\n</g>\n<!-- 12&#45;&gt;16 -->\n<g id=\"edge16\" class=\"edge\">\n<title>12&#45;&gt;16</title>\n<path fill=\"none\" stroke=\"black\" d=\"M541.12,-192.88C550.2,-183.8 560.15,-173.85 569.6,-164.4\"/>\n<polygon fill=\"black\" stroke=\"black\" points=\"572.1,-166.85 576.7,-157.3 567.15,-161.9 572.1,-166.85\"/>\n</g>\n<!-- 14 -->\n<g id=\"node15\" class=\"node\">\n<title>14</title>\n<path fill=\"#54aae9\" stroke=\"black\" d=\"M390.5,-53C390.5,-53 303.5,-53 303.5,-53 297.5,-53 291.5,-47 291.5,-41 291.5,-41 291.5,-12 291.5,-12 291.5,-6 297.5,0 303.5,0 303.5,0 390.5,0 390.5,0 396.5,0 402.5,-6 402.5,-12 402.5,-12 402.5,-41 402.5,-41 402.5,-47 396.5,-53 390.5,-53\"/>\n<text text-anchor=\"middle\" x=\"347\" y=\"-37.8\" font-family=\"Helvetica,sans-Serif\" font-size=\"14.00\">entropy = 0.529</text>\n<text text-anchor=\"middle\" x=\"347\" y=\"-22.8\" font-family=\"Helvetica,sans-Serif\" font-size=\"14.00\">samples = 25</text>\n<text text-anchor=\"middle\" x=\"347\" y=\"-7.8\" font-family=\"Helvetica,sans-Serif\" font-size=\"14.00\">value = [3, 22]</text>\n</g>\n<!-- 13&#45;&gt;14 -->\n<g id=\"edge14\" class=\"edge\">\n<title>13&#45;&gt;14</title>\n<path fill=\"none\" stroke=\"black\" d=\"M384.71,-88.95C379.32,-80.17 373.49,-70.66 368.06,-61.82\"/>\n<polygon fill=\"black\" stroke=\"black\" points=\"371.01,-59.93 362.8,-53.24 365.04,-63.59 371.01,-59.93\"/>\n</g>\n<!-- 15 -->\n<g id=\"node16\" class=\"node\">\n<title>15</title>\n<path fill=\"#f8ddc9\" stroke=\"black\" d=\"M519.5,-53C519.5,-53 432.5,-53 432.5,-53 426.5,-53 420.5,-47 420.5,-41 420.5,-41 420.5,-12 420.5,-12 420.5,-6 426.5,0 432.5,0 432.5,0 519.5,0 519.5,0 525.5,0 531.5,-6 531.5,-12 531.5,-12 531.5,-41 531.5,-41 531.5,-47 525.5,-53 519.5,-53\"/>\n<text text-anchor=\"middle\" x=\"476\" y=\"-37.8\" font-family=\"Helvetica,sans-Serif\" font-size=\"14.00\">entropy = 0.982</text>\n<text text-anchor=\"middle\" x=\"476\" y=\"-22.8\" font-family=\"Helvetica,sans-Serif\" font-size=\"14.00\">samples = 19</text>\n<text text-anchor=\"middle\" x=\"476\" y=\"-7.8\" font-family=\"Helvetica,sans-Serif\" font-size=\"14.00\">value = [11, 8]</text>\n</g>\n<!-- 13&#45;&gt;15 -->\n<g id=\"edge15\" class=\"edge\">\n<title>13&#45;&gt;15</title>\n<path fill=\"none\" stroke=\"black\" d=\"M429.83,-88.95C436.57,-79.98 443.87,-70.27 450.63,-61.26\"/>\n<polygon fill=\"black\" stroke=\"black\" points=\"453.45,-63.33 456.66,-53.24 447.86,-59.13 453.45,-63.33\"/>\n</g>\n<!-- 17 -->\n<g id=\"node18\" class=\"node\">\n<title>17</title>\n<path fill=\"#e58139\" stroke=\"black\" d=\"M642,-53C642,-53 570,-53 570,-53 564,-53 558,-47 558,-41 558,-41 558,-12 558,-12 558,-6 564,0 570,0 570,0 642,0 642,0 648,0 654,-6 654,-12 654,-12 654,-41 654,-41 654,-47 648,-53 642,-53\"/>\n<text text-anchor=\"middle\" x=\"606\" y=\"-37.8\" font-family=\"Helvetica,sans-Serif\" font-size=\"14.00\">entropy = 0.0</text>\n<text text-anchor=\"middle\" x=\"606\" y=\"-22.8\" font-family=\"Helvetica,sans-Serif\" font-size=\"14.00\">samples = 1</text>\n<text text-anchor=\"middle\" x=\"606\" y=\"-7.8\" font-family=\"Helvetica,sans-Serif\" font-size=\"14.00\">value = [1, 0]</text>\n</g>\n<!-- 16&#45;&gt;17 -->\n<g id=\"edge17\" class=\"edge\">\n<title>16&#45;&gt;17</title>\n<path fill=\"none\" stroke=\"black\" d=\"M608.6,-88.95C608.25,-80.72 607.88,-71.85 607.52,-63.48\"/>\n<polygon fill=\"black\" stroke=\"black\" points=\"611.01,-63.08 607.09,-53.24 604.02,-63.38 611.01,-63.08\"/>\n</g>\n<!-- 18 -->\n<g id=\"node19\" class=\"node\">\n<title>18</title>\n<path fill=\"#399de5\" stroke=\"black\" d=\"M762,-53C762,-53 684,-53 684,-53 678,-53 672,-47 672,-41 672,-41 672,-12 672,-12 672,-6 678,0 684,0 684,0 762,0 762,0 768,0 774,-6 774,-12 774,-12 774,-41 774,-41 774,-47 768,-53 762,-53\"/>\n<text text-anchor=\"middle\" x=\"723\" y=\"-37.8\" font-family=\"Helvetica,sans-Serif\" font-size=\"14.00\">entropy = 0.0</text>\n<text text-anchor=\"middle\" x=\"723\" y=\"-22.8\" font-family=\"Helvetica,sans-Serif\" font-size=\"14.00\">samples = 21</text>\n<text text-anchor=\"middle\" x=\"723\" y=\"-7.8\" font-family=\"Helvetica,sans-Serif\" font-size=\"14.00\">value = [0, 21]</text>\n</g>\n<!-- 16&#45;&gt;18 -->\n<g id=\"edge18\" class=\"edge\">\n<title>16&#45;&gt;18</title>\n<path fill=\"none\" stroke=\"black\" d=\"M649.52,-88.95C660.79,-79.53 673.05,-69.27 684.27,-59.89\"/>\n<polygon fill=\"black\" stroke=\"black\" points=\"686.8,-62.34 692.22,-53.24 682.31,-56.97 686.8,-62.34\"/>\n</g>\n<!-- 20 -->\n<g id=\"node21\" class=\"node\">\n<title>20</title>\n<path fill=\"#e99558\" stroke=\"black\" d=\"M994.5,-261C994.5,-261 827.5,-261 827.5,-261 821.5,-261 815.5,-255 815.5,-249 815.5,-249 815.5,-205 815.5,-205 815.5,-199 821.5,-193 827.5,-193 827.5,-193 994.5,-193 994.5,-193 1000.5,-193 1006.5,-199 1006.5,-205 1006.5,-205 1006.5,-249 1006.5,-249 1006.5,-255 1000.5,-261 994.5,-261\"/>\n<text text-anchor=\"middle\" x=\"911\" y=\"-245.8\" font-family=\"Helvetica,sans-Serif\" font-size=\"14.00\">Number of Screens &lt;= 337.5</text>\n<text text-anchor=\"middle\" x=\"911\" y=\"-230.8\" font-family=\"Helvetica,sans-Serif\" font-size=\"14.00\">entropy = 0.571</text>\n<text text-anchor=\"middle\" x=\"911\" y=\"-215.8\" font-family=\"Helvetica,sans-Serif\" font-size=\"14.00\">samples = 37</text>\n<text text-anchor=\"middle\" x=\"911\" y=\"-200.8\" font-family=\"Helvetica,sans-Serif\" font-size=\"14.00\">value = [32, 5]</text>\n</g>\n<!-- 19&#45;&gt;20 -->\n<g id=\"edge20\" class=\"edge\">\n<title>19&#45;&gt;20</title>\n<path fill=\"none\" stroke=\"black\" d=\"M911.68,-296.88C911.6,-288.78 911.51,-279.98 911.43,-271.47\"/>\n<polygon fill=\"black\" stroke=\"black\" points=\"914.92,-271.26 911.33,-261.3 907.92,-271.33 914.92,-271.26\"/>\n</g>\n<!-- 25 -->\n<g id=\"node26\" class=\"node\">\n<title>25</title>\n<path fill=\"#88c4ef\" stroke=\"black\" d=\"M1137.5,-261C1137.5,-261 1036.5,-261 1036.5,-261 1030.5,-261 1024.5,-255 1024.5,-249 1024.5,-249 1024.5,-205 1024.5,-205 1024.5,-199 1030.5,-193 1036.5,-193 1036.5,-193 1137.5,-193 1137.5,-193 1143.5,-193 1149.5,-199 1149.5,-205 1149.5,-205 1149.5,-249 1149.5,-249 1149.5,-255 1143.5,-261 1137.5,-261\"/>\n<text text-anchor=\"middle\" x=\"1087\" y=\"-245.8\" font-family=\"Helvetica,sans-Serif\" font-size=\"14.00\">Lead Star &lt;= 10.5</text>\n<text text-anchor=\"middle\" x=\"1087\" y=\"-230.8\" font-family=\"Helvetica,sans-Serif\" font-size=\"14.00\">entropy = 0.863</text>\n<text text-anchor=\"middle\" x=\"1087\" y=\"-215.8\" font-family=\"Helvetica,sans-Serif\" font-size=\"14.00\">samples = 28</text>\n<text text-anchor=\"middle\" x=\"1087\" y=\"-200.8\" font-family=\"Helvetica,sans-Serif\" font-size=\"14.00\">value = [8, 20]</text>\n</g>\n<!-- 19&#45;&gt;25 -->\n<g id=\"edge25\" class=\"edge\">\n<title>19&#45;&gt;25</title>\n<path fill=\"none\" stroke=\"black\" d=\"M968.82,-296.88C985.56,-287.12 1004.02,-276.37 1021.27,-266.31\"/>\n<polygon fill=\"black\" stroke=\"black\" points=\"1023.29,-269.18 1030.17,-261.12 1019.77,-263.14 1023.29,-269.18\"/>\n</g>\n<!-- 21 -->\n<g id=\"node22\" class=\"node\">\n<title>21</title>\n<path fill=\"#e58139\" stroke=\"black\" d=\"M811,-149.5C811,-149.5 733,-149.5 733,-149.5 727,-149.5 721,-143.5 721,-137.5 721,-137.5 721,-108.5 721,-108.5 721,-102.5 727,-96.5 733,-96.5 733,-96.5 811,-96.5 811,-96.5 817,-96.5 823,-102.5 823,-108.5 823,-108.5 823,-137.5 823,-137.5 823,-143.5 817,-149.5 811,-149.5\"/>\n<text text-anchor=\"middle\" x=\"772\" y=\"-134.3\" font-family=\"Helvetica,sans-Serif\" font-size=\"14.00\">entropy = 0.0</text>\n<text text-anchor=\"middle\" x=\"772\" y=\"-119.3\" font-family=\"Helvetica,sans-Serif\" font-size=\"14.00\">samples = 17</text>\n<text text-anchor=\"middle\" x=\"772\" y=\"-104.3\" font-family=\"Helvetica,sans-Serif\" font-size=\"14.00\">value = [17, 0]</text>\n</g>\n<!-- 20&#45;&gt;21 -->\n<g id=\"edge21\" class=\"edge\">\n<title>20&#45;&gt;21</title>\n<path fill=\"none\" stroke=\"black\" d=\"M865.87,-192.88C849.53,-180.9 831.14,-167.4 814.99,-155.55\"/>\n<polygon fill=\"black\" stroke=\"black\" points=\"816.91,-152.61 806.78,-149.52 812.77,-158.26 816.91,-152.61\"/>\n</g>\n<!-- 22 -->\n<g id=\"node23\" class=\"node\">\n<title>22</title>\n<path fill=\"#eeab7b\" stroke=\"black\" d=\"M995,-157C995,-157 853,-157 853,-157 847,-157 841,-151 841,-145 841,-145 841,-101 841,-101 841,-95 847,-89 853,-89 853,-89 995,-89 995,-89 1001,-89 1007,-95 1007,-101 1007,-101 1007,-145 1007,-145 1007,-151 1001,-157 995,-157\"/>\n<text text-anchor=\"middle\" x=\"924\" y=\"-141.8\" font-family=\"Helvetica,sans-Serif\" font-size=\"14.00\">Whether Remake &lt;= 0.5</text>\n<text text-anchor=\"middle\" x=\"924\" y=\"-126.8\" font-family=\"Helvetica,sans-Serif\" font-size=\"14.00\">entropy = 0.811</text>\n<text text-anchor=\"middle\" x=\"924\" y=\"-111.8\" font-family=\"Helvetica,sans-Serif\" font-size=\"14.00\">samples = 20</text>\n<text text-anchor=\"middle\" x=\"924\" y=\"-96.8\" font-family=\"Helvetica,sans-Serif\" font-size=\"14.00\">value = [15, 5]</text>\n</g>\n<!-- 20&#45;&gt;22 -->\n<g id=\"edge22\" class=\"edge\">\n<title>20&#45;&gt;22</title>\n<path fill=\"none\" stroke=\"black\" d=\"M915.22,-192.88C916.25,-184.78 917.37,-175.98 918.46,-167.47\"/>\n<polygon fill=\"black\" stroke=\"black\" points=\"921.96,-167.66 919.76,-157.3 915.02,-166.78 921.96,-167.66\"/>\n</g>\n<!-- 23 -->\n<g id=\"node24\" class=\"node\">\n<title>23</title>\n<path fill=\"#ea9a61\" stroke=\"black\" d=\"M891,-53C891,-53 811,-53 811,-53 805,-53 799,-47 799,-41 799,-41 799,-12 799,-12 799,-6 805,0 811,0 811,0 891,0 891,0 897,0 903,-6 903,-12 903,-12 903,-41 903,-41 903,-47 897,-53 891,-53\"/>\n<text text-anchor=\"middle\" x=\"851\" y=\"-37.8\" font-family=\"Helvetica,sans-Serif\" font-size=\"14.00\">entropy = 0.65</text>\n<text text-anchor=\"middle\" x=\"851\" y=\"-22.8\" font-family=\"Helvetica,sans-Serif\" font-size=\"14.00\">samples = 18</text>\n<text text-anchor=\"middle\" x=\"851\" y=\"-7.8\" font-family=\"Helvetica,sans-Serif\" font-size=\"14.00\">value = [15, 3]</text>\n</g>\n<!-- 22&#45;&gt;23 -->\n<g id=\"edge23\" class=\"edge\">\n<title>22&#45;&gt;23</title>\n<path fill=\"none\" stroke=\"black\" d=\"M898.47,-88.95C891.54,-79.98 884.04,-70.27 877.08,-61.26\"/>\n<polygon fill=\"black\" stroke=\"black\" points=\"879.76,-59.01 870.88,-53.24 874.22,-63.29 879.76,-59.01\"/>\n</g>\n<!-- 24 -->\n<g id=\"node25\" class=\"node\">\n<title>24</title>\n<path fill=\"#399de5\" stroke=\"black\" d=\"M1005,-53C1005,-53 933,-53 933,-53 927,-53 921,-47 921,-41 921,-41 921,-12 921,-12 921,-6 927,0 933,0 933,0 1005,0 1005,0 1011,0 1017,-6 1017,-12 1017,-12 1017,-41 1017,-41 1017,-47 1011,-53 1005,-53\"/>\n<text text-anchor=\"middle\" x=\"969\" y=\"-37.8\" font-family=\"Helvetica,sans-Serif\" font-size=\"14.00\">entropy = 0.0</text>\n<text text-anchor=\"middle\" x=\"969\" y=\"-22.8\" font-family=\"Helvetica,sans-Serif\" font-size=\"14.00\">samples = 2</text>\n<text text-anchor=\"middle\" x=\"969\" y=\"-7.8\" font-family=\"Helvetica,sans-Serif\" font-size=\"14.00\">value = [0, 2]</text>\n</g>\n<!-- 22&#45;&gt;24 -->\n<g id=\"edge24\" class=\"edge\">\n<title>22&#45;&gt;24</title>\n<path fill=\"none\" stroke=\"black\" d=\"M939.74,-88.95C943.83,-80.35 948.26,-71.06 952.4,-62.37\"/>\n<polygon fill=\"black\" stroke=\"black\" points=\"955.61,-63.77 956.74,-53.24 949.29,-60.76 955.61,-63.77\"/>\n</g>\n<!-- 26 -->\n<g id=\"node27\" class=\"node\">\n<title>26</title>\n<path fill=\"#e58139\" stroke=\"black\" d=\"M1109,-149.5C1109,-149.5 1037,-149.5 1037,-149.5 1031,-149.5 1025,-143.5 1025,-137.5 1025,-137.5 1025,-108.5 1025,-108.5 1025,-102.5 1031,-96.5 1037,-96.5 1037,-96.5 1109,-96.5 1109,-96.5 1115,-96.5 1121,-102.5 1121,-108.5 1121,-108.5 1121,-137.5 1121,-137.5 1121,-143.5 1115,-149.5 1109,-149.5\"/>\n<text text-anchor=\"middle\" x=\"1073\" y=\"-134.3\" font-family=\"Helvetica,sans-Serif\" font-size=\"14.00\">entropy = 0.0</text>\n<text text-anchor=\"middle\" x=\"1073\" y=\"-119.3\" font-family=\"Helvetica,sans-Serif\" font-size=\"14.00\">samples = 3</text>\n<text text-anchor=\"middle\" x=\"1073\" y=\"-104.3\" font-family=\"Helvetica,sans-Serif\" font-size=\"14.00\">value = [3, 0]</text>\n</g>\n<!-- 25&#45;&gt;26 -->\n<g id=\"edge26\" class=\"edge\">\n<title>25&#45;&gt;26</title>\n<path fill=\"none\" stroke=\"black\" d=\"M1082.45,-192.88C1080.99,-182.22 1079.36,-170.35 1077.88,-159.52\"/>\n<polygon fill=\"black\" stroke=\"black\" points=\"1081.33,-158.95 1076.5,-149.52 1074.4,-159.9 1081.33,-158.95\"/>\n</g>\n<!-- 27 -->\n<g id=\"node28\" class=\"node\">\n<title>27</title>\n<path fill=\"#6ab6ec\" stroke=\"black\" d=\"M1252.5,-157C1252.5,-157 1151.5,-157 1151.5,-157 1145.5,-157 1139.5,-151 1139.5,-145 1139.5,-145 1139.5,-101 1139.5,-101 1139.5,-95 1145.5,-89 1151.5,-89 1151.5,-89 1252.5,-89 1252.5,-89 1258.5,-89 1264.5,-95 1264.5,-101 1264.5,-101 1264.5,-145 1264.5,-145 1264.5,-151 1258.5,-157 1252.5,-157\"/>\n<text text-anchor=\"middle\" x=\"1202\" y=\"-141.8\" font-family=\"Helvetica,sans-Serif\" font-size=\"14.00\">Lead Star &lt;= 86.0</text>\n<text text-anchor=\"middle\" x=\"1202\" y=\"-126.8\" font-family=\"Helvetica,sans-Serif\" font-size=\"14.00\">entropy = 0.722</text>\n<text text-anchor=\"middle\" x=\"1202\" y=\"-111.8\" font-family=\"Helvetica,sans-Serif\" font-size=\"14.00\">samples = 25</text>\n<text text-anchor=\"middle\" x=\"1202\" y=\"-96.8\" font-family=\"Helvetica,sans-Serif\" font-size=\"14.00\">value = [5, 20]</text>\n</g>\n<!-- 25&#45;&gt;27 -->\n<g id=\"edge27\" class=\"edge\">\n<title>25&#45;&gt;27</title>\n<path fill=\"none\" stroke=\"black\" d=\"M1124.34,-192.88C1134.68,-183.71 1146.02,-173.65 1156.76,-164.12\"/>\n<polygon fill=\"black\" stroke=\"black\" points=\"1159.3,-166.55 1164.46,-157.3 1154.65,-161.32 1159.3,-166.55\"/>\n</g>\n<!-- 28 -->\n<g id=\"node29\" class=\"node\">\n<title>28</title>\n<path fill=\"#61b1ea\" stroke=\"black\" d=\"M1145,-53C1145,-53 1065,-53 1065,-53 1059,-53 1053,-47 1053,-41 1053,-41 1053,-12 1053,-12 1053,-6 1059,0 1065,0 1065,0 1145,0 1145,0 1151,0 1157,-6 1157,-12 1157,-12 1157,-41 1157,-41 1157,-47 1151,-53 1145,-53\"/>\n<text text-anchor=\"middle\" x=\"1105\" y=\"-37.8\" font-family=\"Helvetica,sans-Serif\" font-size=\"14.00\">entropy = 0.65</text>\n<text text-anchor=\"middle\" x=\"1105\" y=\"-22.8\" font-family=\"Helvetica,sans-Serif\" font-size=\"14.00\">samples = 24</text>\n<text text-anchor=\"middle\" x=\"1105\" y=\"-7.8\" font-family=\"Helvetica,sans-Serif\" font-size=\"14.00\">value = [4, 20]</text>\n</g>\n<!-- 27&#45;&gt;28 -->\n<g id=\"edge28\" class=\"edge\">\n<title>27&#45;&gt;28</title>\n<path fill=\"none\" stroke=\"black\" d=\"M1168.07,-88.95C1158.59,-79.71 1148.29,-69.67 1138.81,-60.44\"/>\n<polygon fill=\"black\" stroke=\"black\" points=\"1141.02,-57.71 1131.42,-53.24 1136.14,-62.72 1141.02,-57.71\"/>\n</g>\n<!-- 29 -->\n<g id=\"node30\" class=\"node\">\n<title>29</title>\n<path fill=\"#e58139\" stroke=\"black\" d=\"M1259,-53C1259,-53 1187,-53 1187,-53 1181,-53 1175,-47 1175,-41 1175,-41 1175,-12 1175,-12 1175,-6 1181,0 1187,0 1187,0 1259,0 1259,0 1265,0 1271,-6 1271,-12 1271,-12 1271,-41 1271,-41 1271,-47 1265,-53 1259,-53\"/>\n<text text-anchor=\"middle\" x=\"1223\" y=\"-37.8\" font-family=\"Helvetica,sans-Serif\" font-size=\"14.00\">entropy = 0.0</text>\n<text text-anchor=\"middle\" x=\"1223\" y=\"-22.8\" font-family=\"Helvetica,sans-Serif\" font-size=\"14.00\">samples = 1</text>\n<text text-anchor=\"middle\" x=\"1223\" y=\"-7.8\" font-family=\"Helvetica,sans-Serif\" font-size=\"14.00\">value = [1, 0]</text>\n</g>\n<!-- 27&#45;&gt;29 -->\n<g id=\"edge29\" class=\"edge\">\n<title>27&#45;&gt;29</title>\n<path fill=\"none\" stroke=\"black\" d=\"M1209.34,-88.95C1211.19,-80.62 1213.19,-71.65 1215.07,-63.2\"/>\n<polygon fill=\"black\" stroke=\"black\" points=\"1218.53,-63.76 1217.28,-53.24 1211.69,-62.24 1218.53,-63.76\"/>\n</g>\n<!-- 34 -->\n<g id=\"node35\" class=\"node\">\n<title>34</title>\n<path fill=\"#e9975b\" stroke=\"black\" d=\"M1737,-677C1737,-677 1567,-677 1567,-677 1561,-677 1555,-671 1555,-665 1555,-665 1555,-621 1555,-621 1555,-615 1561,-609 1567,-609 1567,-609 1737,-609 1737,-609 1743,-609 1749,-615 1749,-621 1749,-621 1749,-665 1749,-665 1749,-671 1743,-677 1737,-677\"/>\n<text text-anchor=\"middle\" x=\"1652\" y=\"-661.8\" font-family=\"Helvetica,sans-Serif\" font-size=\"14.00\">Budget(INR) &lt;= 666816864.0</text>\n<text text-anchor=\"middle\" x=\"1652\" y=\"-646.8\" font-family=\"Helvetica,sans-Serif\" font-size=\"14.00\">entropy = 0.6</text>\n<text text-anchor=\"middle\" x=\"1652\" y=\"-631.8\" font-family=\"Helvetica,sans-Serif\" font-size=\"14.00\">samples = 171</text>\n<text text-anchor=\"middle\" x=\"1652\" y=\"-616.8\" font-family=\"Helvetica,sans-Serif\" font-size=\"14.00\">value = [146, 25]</text>\n</g>\n<!-- 33&#45;&gt;34 -->\n<g id=\"edge34\" class=\"edge\">\n<title>33&#45;&gt;34</title>\n<path fill=\"none\" stroke=\"black\" d=\"M1652,-712.88C1652,-704.78 1652,-695.98 1652,-687.47\"/>\n<polygon fill=\"black\" stroke=\"black\" points=\"1655.5,-687.3 1652,-677.3 1648.5,-687.3 1655.5,-687.3\"/>\n</g>\n<!-- 59 -->\n<g id=\"node60\" class=\"node\">\n<title>59</title>\n<path fill=\"#e58139\" stroke=\"black\" d=\"M1865,-669.5C1865,-669.5 1779,-669.5 1779,-669.5 1773,-669.5 1767,-663.5 1767,-657.5 1767,-657.5 1767,-628.5 1767,-628.5 1767,-622.5 1773,-616.5 1779,-616.5 1779,-616.5 1865,-616.5 1865,-616.5 1871,-616.5 1877,-622.5 1877,-628.5 1877,-628.5 1877,-657.5 1877,-657.5 1877,-663.5 1871,-669.5 1865,-669.5\"/>\n<text text-anchor=\"middle\" x=\"1822\" y=\"-654.3\" font-family=\"Helvetica,sans-Serif\" font-size=\"14.00\">entropy = 0.0</text>\n<text text-anchor=\"middle\" x=\"1822\" y=\"-639.3\" font-family=\"Helvetica,sans-Serif\" font-size=\"14.00\">samples = 137</text>\n<text text-anchor=\"middle\" x=\"1822\" y=\"-624.3\" font-family=\"Helvetica,sans-Serif\" font-size=\"14.00\">value = [137, 0]</text>\n</g>\n<!-- 33&#45;&gt;59 -->\n<g id=\"edge59\" class=\"edge\">\n<title>33&#45;&gt;59</title>\n<path fill=\"none\" stroke=\"black\" d=\"M1707.19,-712.88C1727.63,-700.62 1750.7,-686.78 1770.77,-674.74\"/>\n<polygon fill=\"black\" stroke=\"black\" points=\"1772.69,-677.67 1779.47,-669.52 1769.09,-671.66 1772.69,-677.67\"/>\n</g>\n<!-- 35 -->\n<g id=\"node36\" class=\"node\">\n<title>35</title>\n<path fill=\"#eca471\" stroke=\"black\" d=\"M1735.5,-573C1735.5,-573 1568.5,-573 1568.5,-573 1562.5,-573 1556.5,-567 1556.5,-561 1556.5,-561 1556.5,-517 1556.5,-517 1556.5,-511 1562.5,-505 1568.5,-505 1568.5,-505 1735.5,-505 1735.5,-505 1741.5,-505 1747.5,-511 1747.5,-517 1747.5,-517 1747.5,-561 1747.5,-561 1747.5,-567 1741.5,-573 1735.5,-573\"/>\n<text text-anchor=\"middle\" x=\"1652\" y=\"-557.8\" font-family=\"Helvetica,sans-Serif\" font-size=\"14.00\">Number of Screens &lt;= 812.5</text>\n<text text-anchor=\"middle\" x=\"1652\" y=\"-542.8\" font-family=\"Helvetica,sans-Serif\" font-size=\"14.00\">entropy = 0.758</text>\n<text text-anchor=\"middle\" x=\"1652\" y=\"-527.8\" font-family=\"Helvetica,sans-Serif\" font-size=\"14.00\">samples = 105</text>\n<text text-anchor=\"middle\" x=\"1652\" y=\"-512.8\" font-family=\"Helvetica,sans-Serif\" font-size=\"14.00\">value = [82, 23]</text>\n</g>\n<!-- 34&#45;&gt;35 -->\n<g id=\"edge35\" class=\"edge\">\n<title>34&#45;&gt;35</title>\n<path fill=\"none\" stroke=\"black\" d=\"M1652,-608.88C1652,-600.78 1652,-591.98 1652,-583.47\"/>\n<polygon fill=\"black\" stroke=\"black\" points=\"1655.5,-583.3 1652,-573.3 1648.5,-583.3 1655.5,-583.3\"/>\n</g>\n<!-- 50 -->\n<g id=\"node51\" class=\"node\">\n<title>50</title>\n<path fill=\"#e6853f\" stroke=\"black\" d=\"M1913.5,-573C1913.5,-573 1824.5,-573 1824.5,-573 1818.5,-573 1812.5,-567 1812.5,-561 1812.5,-561 1812.5,-517 1812.5,-517 1812.5,-511 1818.5,-505 1824.5,-505 1824.5,-505 1913.5,-505 1913.5,-505 1919.5,-505 1925.5,-511 1925.5,-517 1925.5,-517 1925.5,-561 1925.5,-561 1925.5,-567 1919.5,-573 1913.5,-573\"/>\n<text text-anchor=\"middle\" x=\"1869\" y=\"-557.8\" font-family=\"Helvetica,sans-Serif\" font-size=\"14.00\">Genre &lt;= 130.0</text>\n<text text-anchor=\"middle\" x=\"1869\" y=\"-542.8\" font-family=\"Helvetica,sans-Serif\" font-size=\"14.00\">entropy = 0.196</text>\n<text text-anchor=\"middle\" x=\"1869\" y=\"-527.8\" font-family=\"Helvetica,sans-Serif\" font-size=\"14.00\">samples = 66</text>\n<text text-anchor=\"middle\" x=\"1869\" y=\"-512.8\" font-family=\"Helvetica,sans-Serif\" font-size=\"14.00\">value = [64, 2]</text>\n</g>\n<!-- 34&#45;&gt;50 -->\n<g id=\"edge50\" class=\"edge\">\n<title>34&#45;&gt;50</title>\n<path fill=\"none\" stroke=\"black\" d=\"M1722.45,-608.88C1748.36,-596.71 1777.57,-582.98 1803.06,-571\"/>\n<polygon fill=\"black\" stroke=\"black\" points=\"1804.71,-574.09 1812.27,-566.67 1801.73,-567.75 1804.71,-574.09\"/>\n</g>\n<!-- 36 -->\n<g id=\"node37\" class=\"node\">\n<title>36</title>\n<path fill=\"#e58139\" stroke=\"black\" d=\"M1536,-461.5C1536,-461.5 1458,-461.5 1458,-461.5 1452,-461.5 1446,-455.5 1446,-449.5 1446,-449.5 1446,-420.5 1446,-420.5 1446,-414.5 1452,-408.5 1458,-408.5 1458,-408.5 1536,-408.5 1536,-408.5 1542,-408.5 1548,-414.5 1548,-420.5 1548,-420.5 1548,-449.5 1548,-449.5 1548,-455.5 1542,-461.5 1536,-461.5\"/>\n<text text-anchor=\"middle\" x=\"1497\" y=\"-446.3\" font-family=\"Helvetica,sans-Serif\" font-size=\"14.00\">entropy = 0.0</text>\n<text text-anchor=\"middle\" x=\"1497\" y=\"-431.3\" font-family=\"Helvetica,sans-Serif\" font-size=\"14.00\">samples = 34</text>\n<text text-anchor=\"middle\" x=\"1497\" y=\"-416.3\" font-family=\"Helvetica,sans-Serif\" font-size=\"14.00\">value = [34, 0]</text>\n</g>\n<!-- 35&#45;&gt;36 -->\n<g id=\"edge36\" class=\"edge\">\n<title>35&#45;&gt;36</title>\n<path fill=\"none\" stroke=\"black\" d=\"M1601.68,-504.88C1583.29,-492.79 1562.57,-479.15 1544.45,-467.22\"/>\n<polygon fill=\"black\" stroke=\"black\" points=\"1546.06,-464.09 1535.78,-461.52 1542.21,-469.94 1546.06,-464.09\"/>\n</g>\n<!-- 37 -->\n<g id=\"node38\" class=\"node\">\n<title>37</title>\n<path fill=\"#f1bd98\" stroke=\"black\" d=\"M1728,-469C1728,-469 1578,-469 1578,-469 1572,-469 1566,-463 1566,-457 1566,-457 1566,-413 1566,-413 1566,-407 1572,-401 1578,-401 1578,-401 1728,-401 1728,-401 1734,-401 1740,-407 1740,-413 1740,-413 1740,-457 1740,-457 1740,-463 1734,-469 1728,-469\"/>\n<text text-anchor=\"middle\" x=\"1653\" y=\"-453.8\" font-family=\"Helvetica,sans-Serif\" font-size=\"14.00\">Whether Franchise &lt;= 0.5</text>\n<text text-anchor=\"middle\" x=\"1653\" y=\"-438.8\" font-family=\"Helvetica,sans-Serif\" font-size=\"14.00\">entropy = 0.909</text>\n<text text-anchor=\"middle\" x=\"1653\" y=\"-423.8\" font-family=\"Helvetica,sans-Serif\" font-size=\"14.00\">samples = 71</text>\n<text text-anchor=\"middle\" x=\"1653\" y=\"-408.8\" font-family=\"Helvetica,sans-Serif\" font-size=\"14.00\">value = [48, 23]</text>\n</g>\n<!-- 35&#45;&gt;37 -->\n<g id=\"edge37\" class=\"edge\">\n<title>35&#45;&gt;37</title>\n<path fill=\"none\" stroke=\"black\" d=\"M1652.32,-504.88C1652.4,-496.78 1652.49,-487.98 1652.57,-479.47\"/>\n<polygon fill=\"black\" stroke=\"black\" points=\"1656.08,-479.33 1652.67,-469.3 1649.08,-479.26 1656.08,-479.33\"/>\n</g>\n<!-- 38 -->\n<g id=\"node39\" class=\"node\">\n<title>38</title>\n<path fill=\"#f6d2b8\" stroke=\"black\" d=\"M1576.5,-365C1576.5,-365 1401.5,-365 1401.5,-365 1395.5,-365 1389.5,-359 1389.5,-353 1389.5,-353 1389.5,-309 1389.5,-309 1389.5,-303 1395.5,-297 1401.5,-297 1401.5,-297 1576.5,-297 1576.5,-297 1582.5,-297 1588.5,-303 1588.5,-309 1588.5,-309 1588.5,-353 1588.5,-353 1588.5,-359 1582.5,-365 1576.5,-365\"/>\n<text text-anchor=\"middle\" x=\"1489\" y=\"-349.8\" font-family=\"Helvetica,sans-Serif\" font-size=\"14.00\">Number of Screens &lt;= 1275.0</text>\n<text text-anchor=\"middle\" x=\"1489\" y=\"-334.8\" font-family=\"Helvetica,sans-Serif\" font-size=\"14.00\">entropy = 0.965</text>\n<text text-anchor=\"middle\" x=\"1489\" y=\"-319.8\" font-family=\"Helvetica,sans-Serif\" font-size=\"14.00\">samples = 59</text>\n<text text-anchor=\"middle\" x=\"1489\" y=\"-304.8\" font-family=\"Helvetica,sans-Serif\" font-size=\"14.00\">value = [36, 23]</text>\n</g>\n<!-- 37&#45;&gt;38 -->\n<g id=\"edge38\" class=\"edge\">\n<title>37&#45;&gt;38</title>\n<path fill=\"none\" stroke=\"black\" d=\"M1599.75,-400.88C1584.21,-391.21 1567.08,-380.56 1551.04,-370.59\"/>\n<polygon fill=\"black\" stroke=\"black\" points=\"1552.6,-367.43 1542.26,-365.12 1548.9,-373.38 1552.6,-367.43\"/>\n</g>\n<!-- 49 -->\n<g id=\"node50\" class=\"node\">\n<title>49</title>\n<path fill=\"#e58139\" stroke=\"black\" d=\"M1697,-357.5C1697,-357.5 1619,-357.5 1619,-357.5 1613,-357.5 1607,-351.5 1607,-345.5 1607,-345.5 1607,-316.5 1607,-316.5 1607,-310.5 1613,-304.5 1619,-304.5 1619,-304.5 1697,-304.5 1697,-304.5 1703,-304.5 1709,-310.5 1709,-316.5 1709,-316.5 1709,-345.5 1709,-345.5 1709,-351.5 1703,-357.5 1697,-357.5\"/>\n<text text-anchor=\"middle\" x=\"1658\" y=\"-342.3\" font-family=\"Helvetica,sans-Serif\" font-size=\"14.00\">entropy = 0.0</text>\n<text text-anchor=\"middle\" x=\"1658\" y=\"-327.3\" font-family=\"Helvetica,sans-Serif\" font-size=\"14.00\">samples = 12</text>\n<text text-anchor=\"middle\" x=\"1658\" y=\"-312.3\" font-family=\"Helvetica,sans-Serif\" font-size=\"14.00\">value = [12, 0]</text>\n</g>\n<!-- 37&#45;&gt;49 -->\n<g id=\"edge49\" class=\"edge\">\n<title>37&#45;&gt;49</title>\n<path fill=\"none\" stroke=\"black\" d=\"M1654.62,-400.88C1655.15,-390.22 1655.73,-378.35 1656.26,-367.52\"/>\n<polygon fill=\"black\" stroke=\"black\" points=\"1659.76,-367.68 1656.75,-357.52 1652.76,-367.34 1659.76,-367.68\"/>\n</g>\n<!-- 39 -->\n<g id=\"node40\" class=\"node\">\n<title>39</title>\n<path fill=\"#eb9e67\" stroke=\"black\" d=\"M1513,-261C1513,-261 1343,-261 1343,-261 1337,-261 1331,-255 1331,-249 1331,-249 1331,-205 1331,-205 1331,-199 1337,-193 1343,-193 1343,-193 1513,-193 1513,-193 1519,-193 1525,-199 1525,-205 1525,-205 1525,-249 1525,-249 1525,-255 1519,-261 1513,-261\"/>\n<text text-anchor=\"middle\" x=\"1428\" y=\"-245.8\" font-family=\"Helvetica,sans-Serif\" font-size=\"14.00\">Budget(INR) &lt;= 391414992.0</text>\n<text text-anchor=\"middle\" x=\"1428\" y=\"-230.8\" font-family=\"Helvetica,sans-Serif\" font-size=\"14.00\">entropy = 0.696</text>\n<text text-anchor=\"middle\" x=\"1428\" y=\"-215.8\" font-family=\"Helvetica,sans-Serif\" font-size=\"14.00\">samples = 32</text>\n<text text-anchor=\"middle\" x=\"1428\" y=\"-200.8\" font-family=\"Helvetica,sans-Serif\" font-size=\"14.00\">value = [26, 6]</text>\n</g>\n<!-- 38&#45;&gt;39 -->\n<g id=\"edge39\" class=\"edge\">\n<title>38&#45;&gt;39</title>\n<path fill=\"none\" stroke=\"black\" d=\"M1469.2,-296.88C1464.08,-288.33 1458.51,-279.01 1453.16,-270.07\"/>\n<polygon fill=\"black\" stroke=\"black\" points=\"1456.05,-268.09 1447.91,-261.3 1450.04,-271.68 1456.05,-268.09\"/>\n</g>\n<!-- 44 -->\n<g id=\"node45\" class=\"node\">\n<title>44</title>\n<path fill=\"#add7f4\" stroke=\"black\" d=\"M1725,-261C1725,-261 1555,-261 1555,-261 1549,-261 1543,-255 1543,-249 1543,-249 1543,-205 1543,-205 1543,-199 1549,-193 1555,-193 1555,-193 1725,-193 1725,-193 1731,-193 1737,-199 1737,-205 1737,-205 1737,-249 1737,-249 1737,-255 1731,-261 1725,-261\"/>\n<text text-anchor=\"middle\" x=\"1640\" y=\"-245.8\" font-family=\"Helvetica,sans-Serif\" font-size=\"14.00\">Budget(INR) &lt;= 381737504.0</text>\n<text text-anchor=\"middle\" x=\"1640\" y=\"-230.8\" font-family=\"Helvetica,sans-Serif\" font-size=\"14.00\">entropy = 0.951</text>\n<text text-anchor=\"middle\" x=\"1640\" y=\"-215.8\" font-family=\"Helvetica,sans-Serif\" font-size=\"14.00\">samples = 27</text>\n<text text-anchor=\"middle\" x=\"1640\" y=\"-200.8\" font-family=\"Helvetica,sans-Serif\" font-size=\"14.00\">value = [10, 17]</text>\n</g>\n<!-- 38&#45;&gt;44 -->\n<g id=\"edge44\" class=\"edge\">\n<title>38&#45;&gt;44</title>\n<path fill=\"none\" stroke=\"black\" d=\"M1538.03,-296.88C1552.21,-287.3 1567.82,-276.76 1582.47,-266.86\"/>\n<polygon fill=\"black\" stroke=\"black\" points=\"1584.63,-269.62 1590.96,-261.12 1580.72,-263.82 1584.63,-269.62\"/>\n</g>\n<!-- 40 -->\n<g id=\"node41\" class=\"node\">\n<title>40</title>\n<path fill=\"#f3c6a5\" stroke=\"black\" d=\"M1425,-157C1425,-157 1295,-157 1295,-157 1289,-157 1283,-151 1283,-145 1283,-145 1283,-101 1283,-101 1283,-95 1289,-89 1295,-89 1295,-89 1425,-89 1425,-89 1431,-89 1437,-95 1437,-101 1437,-101 1437,-145 1437,-145 1437,-151 1431,-157 1425,-157\"/>\n<text text-anchor=\"middle\" x=\"1360\" y=\"-141.8\" font-family=\"Helvetica,sans-Serif\" font-size=\"14.00\">Music Director &lt;= 39.5</text>\n<text text-anchor=\"middle\" x=\"1360\" y=\"-126.8\" font-family=\"Helvetica,sans-Serif\" font-size=\"14.00\">entropy = 0.937</text>\n<text text-anchor=\"middle\" x=\"1360\" y=\"-111.8\" font-family=\"Helvetica,sans-Serif\" font-size=\"14.00\">samples = 17</text>\n<text text-anchor=\"middle\" x=\"1360\" y=\"-96.8\" font-family=\"Helvetica,sans-Serif\" font-size=\"14.00\">value = [11, 6]</text>\n</g>\n<!-- 39&#45;&gt;40 -->\n<g id=\"edge40\" class=\"edge\">\n<title>39&#45;&gt;40</title>\n<path fill=\"none\" stroke=\"black\" d=\"M1405.92,-192.88C1400.16,-184.24 1393.88,-174.82 1387.86,-165.79\"/>\n<polygon fill=\"black\" stroke=\"black\" points=\"1390.66,-163.68 1382.2,-157.3 1384.83,-167.56 1390.66,-163.68\"/>\n</g>\n<!-- 43 -->\n<g id=\"node44\" class=\"node\">\n<title>43</title>\n<path fill=\"#e58139\" stroke=\"black\" d=\"M1545,-149.5C1545,-149.5 1467,-149.5 1467,-149.5 1461,-149.5 1455,-143.5 1455,-137.5 1455,-137.5 1455,-108.5 1455,-108.5 1455,-102.5 1461,-96.5 1467,-96.5 1467,-96.5 1545,-96.5 1545,-96.5 1551,-96.5 1557,-102.5 1557,-108.5 1557,-108.5 1557,-137.5 1557,-137.5 1557,-143.5 1551,-149.5 1545,-149.5\"/>\n<text text-anchor=\"middle\" x=\"1506\" y=\"-134.3\" font-family=\"Helvetica,sans-Serif\" font-size=\"14.00\">entropy = 0.0</text>\n<text text-anchor=\"middle\" x=\"1506\" y=\"-119.3\" font-family=\"Helvetica,sans-Serif\" font-size=\"14.00\">samples = 15</text>\n<text text-anchor=\"middle\" x=\"1506\" y=\"-104.3\" font-family=\"Helvetica,sans-Serif\" font-size=\"14.00\">value = [15, 0]</text>\n</g>\n<!-- 39&#45;&gt;43 -->\n<g id=\"edge43\" class=\"edge\">\n<title>39&#45;&gt;43</title>\n<path fill=\"none\" stroke=\"black\" d=\"M1453.32,-192.88C1461.99,-181.56 1471.68,-168.88 1480.37,-157.52\"/>\n<polygon fill=\"black\" stroke=\"black\" points=\"1483.19,-159.59 1486.48,-149.52 1477.63,-155.34 1483.19,-159.59\"/>\n</g>\n<!-- 41 -->\n<g id=\"node42\" class=\"node\">\n<title>41</title>\n<path fill=\"#b0d8f5\" stroke=\"black\" d=\"M1397.5,-53C1397.5,-53 1310.5,-53 1310.5,-53 1304.5,-53 1298.5,-47 1298.5,-41 1298.5,-41 1298.5,-12 1298.5,-12 1298.5,-6 1304.5,0 1310.5,0 1310.5,0 1397.5,0 1397.5,0 1403.5,0 1409.5,-6 1409.5,-12 1409.5,-12 1409.5,-41 1409.5,-41 1409.5,-47 1403.5,-53 1397.5,-53\"/>\n<text text-anchor=\"middle\" x=\"1354\" y=\"-37.8\" font-family=\"Helvetica,sans-Serif\" font-size=\"14.00\">entropy = 0.954</text>\n<text text-anchor=\"middle\" x=\"1354\" y=\"-22.8\" font-family=\"Helvetica,sans-Serif\" font-size=\"14.00\">samples = 8</text>\n<text text-anchor=\"middle\" x=\"1354\" y=\"-7.8\" font-family=\"Helvetica,sans-Serif\" font-size=\"14.00\">value = [3, 5]</text>\n</g>\n<!-- 40&#45;&gt;41 -->\n<g id=\"edge41\" class=\"edge\">\n<title>40&#45;&gt;41</title>\n<path fill=\"none\" stroke=\"black\" d=\"M1357.9,-88.95C1357.38,-80.72 1356.82,-71.85 1356.28,-63.48\"/>\n<polygon fill=\"black\" stroke=\"black\" points=\"1359.76,-62.99 1355.63,-53.24 1352.77,-63.44 1359.76,-62.99\"/>\n</g>\n<!-- 42 -->\n<g id=\"node43\" class=\"node\">\n<title>42</title>\n<path fill=\"#e89152\" stroke=\"black\" d=\"M1526.5,-53C1526.5,-53 1439.5,-53 1439.5,-53 1433.5,-53 1427.5,-47 1427.5,-41 1427.5,-41 1427.5,-12 1427.5,-12 1427.5,-6 1433.5,0 1439.5,0 1439.5,0 1526.5,0 1526.5,0 1532.5,0 1538.5,-6 1538.5,-12 1538.5,-12 1538.5,-41 1538.5,-41 1538.5,-47 1532.5,-53 1526.5,-53\"/>\n<text text-anchor=\"middle\" x=\"1483\" y=\"-37.8\" font-family=\"Helvetica,sans-Serif\" font-size=\"14.00\">entropy = 0.503</text>\n<text text-anchor=\"middle\" x=\"1483\" y=\"-22.8\" font-family=\"Helvetica,sans-Serif\" font-size=\"14.00\">samples = 9</text>\n<text text-anchor=\"middle\" x=\"1483\" y=\"-7.8\" font-family=\"Helvetica,sans-Serif\" font-size=\"14.00\">value = [8, 1]</text>\n</g>\n<!-- 40&#45;&gt;42 -->\n<g id=\"edge42\" class=\"edge\">\n<title>40&#45;&gt;42</title>\n<path fill=\"none\" stroke=\"black\" d=\"M1403.02,-88.95C1415.52,-79.34 1429.15,-68.87 1441.55,-59.34\"/>\n<polygon fill=\"black\" stroke=\"black\" points=\"1443.7,-62.1 1449.5,-53.24 1439.44,-56.55 1443.7,-62.1\"/>\n</g>\n<!-- 45 -->\n<g id=\"node46\" class=\"node\">\n<title>45</title>\n<path fill=\"#399de5\" stroke=\"black\" d=\"M1659,-149.5C1659,-149.5 1587,-149.5 1587,-149.5 1581,-149.5 1575,-143.5 1575,-137.5 1575,-137.5 1575,-108.5 1575,-108.5 1575,-102.5 1581,-96.5 1587,-96.5 1587,-96.5 1659,-96.5 1659,-96.5 1665,-96.5 1671,-102.5 1671,-108.5 1671,-108.5 1671,-137.5 1671,-137.5 1671,-143.5 1665,-149.5 1659,-149.5\"/>\n<text text-anchor=\"middle\" x=\"1623\" y=\"-134.3\" font-family=\"Helvetica,sans-Serif\" font-size=\"14.00\">entropy = 0.0</text>\n<text text-anchor=\"middle\" x=\"1623\" y=\"-119.3\" font-family=\"Helvetica,sans-Serif\" font-size=\"14.00\">samples = 8</text>\n<text text-anchor=\"middle\" x=\"1623\" y=\"-104.3\" font-family=\"Helvetica,sans-Serif\" font-size=\"14.00\">value = [0, 8]</text>\n</g>\n<!-- 44&#45;&gt;45 -->\n<g id=\"edge45\" class=\"edge\">\n<title>44&#45;&gt;45</title>\n<path fill=\"none\" stroke=\"black\" d=\"M1634.48,-192.88C1632.7,-182.22 1630.73,-170.35 1628.92,-159.52\"/>\n<polygon fill=\"black\" stroke=\"black\" points=\"1632.35,-158.81 1627.25,-149.52 1625.45,-159.96 1632.35,-158.81\"/>\n</g>\n<!-- 46 -->\n<g id=\"node47\" class=\"node\">\n<title>46</title>\n<path fill=\"#fcf2eb\" stroke=\"black\" d=\"M1790.5,-157C1790.5,-157 1701.5,-157 1701.5,-157 1695.5,-157 1689.5,-151 1689.5,-145 1689.5,-145 1689.5,-101 1689.5,-101 1689.5,-95 1695.5,-89 1701.5,-89 1701.5,-89 1790.5,-89 1790.5,-89 1796.5,-89 1802.5,-95 1802.5,-101 1802.5,-101 1802.5,-145 1802.5,-145 1802.5,-151 1796.5,-157 1790.5,-157\"/>\n<text text-anchor=\"middle\" x=\"1746\" y=\"-141.8\" font-family=\"Helvetica,sans-Serif\" font-size=\"14.00\">Genre &lt;= 130.0</text>\n<text text-anchor=\"middle\" x=\"1746\" y=\"-126.8\" font-family=\"Helvetica,sans-Serif\" font-size=\"14.00\">entropy = 0.998</text>\n<text text-anchor=\"middle\" x=\"1746\" y=\"-111.8\" font-family=\"Helvetica,sans-Serif\" font-size=\"14.00\">samples = 19</text>\n<text text-anchor=\"middle\" x=\"1746\" y=\"-96.8\" font-family=\"Helvetica,sans-Serif\" font-size=\"14.00\">value = [10, 9]</text>\n</g>\n<!-- 44&#45;&gt;46 -->\n<g id=\"edge46\" class=\"edge\">\n<title>44&#45;&gt;46</title>\n<path fill=\"none\" stroke=\"black\" d=\"M1674.42,-192.88C1683.86,-183.8 1694.2,-173.85 1704.02,-164.4\"/>\n<polygon fill=\"black\" stroke=\"black\" points=\"1706.62,-166.76 1711.39,-157.3 1701.76,-161.71 1706.62,-166.76\"/>\n</g>\n<!-- 47 -->\n<g id=\"node48\" class=\"node\">\n<title>47</title>\n<path fill=\"#399de5\" stroke=\"black\" d=\"M1721,-53C1721,-53 1649,-53 1649,-53 1643,-53 1637,-47 1637,-41 1637,-41 1637,-12 1637,-12 1637,-6 1643,0 1649,0 1649,0 1721,0 1721,0 1727,0 1733,-6 1733,-12 1733,-12 1733,-41 1733,-41 1733,-47 1727,-53 1721,-53\"/>\n<text text-anchor=\"middle\" x=\"1685\" y=\"-37.8\" font-family=\"Helvetica,sans-Serif\" font-size=\"14.00\">entropy = 0.0</text>\n<text text-anchor=\"middle\" x=\"1685\" y=\"-22.8\" font-family=\"Helvetica,sans-Serif\" font-size=\"14.00\">samples = 3</text>\n<text text-anchor=\"middle\" x=\"1685\" y=\"-7.8\" font-family=\"Helvetica,sans-Serif\" font-size=\"14.00\">value = [0, 3]</text>\n</g>\n<!-- 46&#45;&gt;47 -->\n<g id=\"edge47\" class=\"edge\">\n<title>46&#45;&gt;47</title>\n<path fill=\"none\" stroke=\"black\" d=\"M1724.67,-88.95C1719,-80.17 1712.86,-70.66 1707.15,-61.82\"/>\n<polygon fill=\"black\" stroke=\"black\" points=\"1709.98,-59.74 1701.61,-53.24 1704.1,-63.54 1709.98,-59.74\"/>\n</g>\n<!-- 48 -->\n<g id=\"node49\" class=\"node\">\n<title>48</title>\n<path fill=\"#f5cdb0\" stroke=\"black\" d=\"M1850.5,-53C1850.5,-53 1763.5,-53 1763.5,-53 1757.5,-53 1751.5,-47 1751.5,-41 1751.5,-41 1751.5,-12 1751.5,-12 1751.5,-6 1757.5,0 1763.5,0 1763.5,0 1850.5,0 1850.5,0 1856.5,0 1862.5,-6 1862.5,-12 1862.5,-12 1862.5,-41 1862.5,-41 1862.5,-47 1856.5,-53 1850.5,-53\"/>\n<text text-anchor=\"middle\" x=\"1807\" y=\"-37.8\" font-family=\"Helvetica,sans-Serif\" font-size=\"14.00\">entropy = 0.954</text>\n<text text-anchor=\"middle\" x=\"1807\" y=\"-22.8\" font-family=\"Helvetica,sans-Serif\" font-size=\"14.00\">samples = 16</text>\n<text text-anchor=\"middle\" x=\"1807\" y=\"-7.8\" font-family=\"Helvetica,sans-Serif\" font-size=\"14.00\">value = [10, 6]</text>\n</g>\n<!-- 46&#45;&gt;48 -->\n<g id=\"edge48\" class=\"edge\">\n<title>46&#45;&gt;48</title>\n<path fill=\"none\" stroke=\"black\" d=\"M1767.33,-88.95C1773,-80.17 1779.14,-70.66 1784.85,-61.82\"/>\n<polygon fill=\"black\" stroke=\"black\" points=\"1787.9,-63.54 1790.39,-53.24 1782.02,-59.74 1787.9,-63.54\"/>\n</g>\n<!-- 51 -->\n<g id=\"node52\" class=\"node\">\n<title>51</title>\n<path fill=\"#e89050\" stroke=\"black\" d=\"M1917.5,-469C1917.5,-469 1820.5,-469 1820.5,-469 1814.5,-469 1808.5,-463 1808.5,-457 1808.5,-457 1808.5,-413 1808.5,-413 1808.5,-407 1814.5,-401 1820.5,-401 1820.5,-401 1917.5,-401 1917.5,-401 1923.5,-401 1929.5,-407 1929.5,-413 1929.5,-413 1929.5,-457 1929.5,-457 1929.5,-463 1923.5,-469 1917.5,-469\"/>\n<text text-anchor=\"middle\" x=\"1869\" y=\"-453.8\" font-family=\"Helvetica,sans-Serif\" font-size=\"14.00\">New Actor &lt;= 0.5</text>\n<text text-anchor=\"middle\" x=\"1869\" y=\"-438.8\" font-family=\"Helvetica,sans-Serif\" font-size=\"14.00\">entropy = 0.485</text>\n<text text-anchor=\"middle\" x=\"1869\" y=\"-423.8\" font-family=\"Helvetica,sans-Serif\" font-size=\"14.00\">samples = 19</text>\n<text text-anchor=\"middle\" x=\"1869\" y=\"-408.8\" font-family=\"Helvetica,sans-Serif\" font-size=\"14.00\">value = [17, 2]</text>\n</g>\n<!-- 50&#45;&gt;51 -->\n<g id=\"edge51\" class=\"edge\">\n<title>50&#45;&gt;51</title>\n<path fill=\"none\" stroke=\"black\" d=\"M1869,-504.88C1869,-496.78 1869,-487.98 1869,-479.47\"/>\n<polygon fill=\"black\" stroke=\"black\" points=\"1872.5,-479.3 1869,-469.3 1865.5,-479.3 1872.5,-479.3\"/>\n</g>\n<!-- 58 -->\n<g id=\"node59\" class=\"node\">\n<title>58</title>\n<path fill=\"#e58139\" stroke=\"black\" d=\"M2038,-461.5C2038,-461.5 1960,-461.5 1960,-461.5 1954,-461.5 1948,-455.5 1948,-449.5 1948,-449.5 1948,-420.5 1948,-420.5 1948,-414.5 1954,-408.5 1960,-408.5 1960,-408.5 2038,-408.5 2038,-408.5 2044,-408.5 2050,-414.5 2050,-420.5 2050,-420.5 2050,-449.5 2050,-449.5 2050,-455.5 2044,-461.5 2038,-461.5\"/>\n<text text-anchor=\"middle\" x=\"1999\" y=\"-446.3\" font-family=\"Helvetica,sans-Serif\" font-size=\"14.00\">entropy = 0.0</text>\n<text text-anchor=\"middle\" x=\"1999\" y=\"-431.3\" font-family=\"Helvetica,sans-Serif\" font-size=\"14.00\">samples = 47</text>\n<text text-anchor=\"middle\" x=\"1999\" y=\"-416.3\" font-family=\"Helvetica,sans-Serif\" font-size=\"14.00\">value = [47, 0]</text>\n</g>\n<!-- 50&#45;&gt;58 -->\n<g id=\"edge58\" class=\"edge\">\n<title>50&#45;&gt;58</title>\n<path fill=\"none\" stroke=\"black\" d=\"M1911.21,-504.88C1926.35,-493.01 1943.37,-479.65 1958.37,-467.88\"/>\n<polygon fill=\"black\" stroke=\"black\" points=\"1960.77,-470.45 1966.47,-461.52 1956.45,-464.94 1960.77,-470.45\"/>\n</g>\n<!-- 52 -->\n<g id=\"node53\" class=\"node\">\n<title>52</title>\n<path fill=\"#e78845\" stroke=\"black\" d=\"M1954,-365C1954,-365 1784,-365 1784,-365 1778,-365 1772,-359 1772,-353 1772,-353 1772,-309 1772,-309 1772,-303 1778,-297 1784,-297 1784,-297 1954,-297 1954,-297 1960,-297 1966,-303 1966,-309 1966,-309 1966,-353 1966,-353 1966,-359 1960,-365 1954,-365\"/>\n<text text-anchor=\"middle\" x=\"1869\" y=\"-349.8\" font-family=\"Helvetica,sans-Serif\" font-size=\"14.00\">Budget(INR) &lt;= 924700032.0</text>\n<text text-anchor=\"middle\" x=\"1869\" y=\"-334.8\" font-family=\"Helvetica,sans-Serif\" font-size=\"14.00\">entropy = 0.31</text>\n<text text-anchor=\"middle\" x=\"1869\" y=\"-319.8\" font-family=\"Helvetica,sans-Serif\" font-size=\"14.00\">samples = 18</text>\n<text text-anchor=\"middle\" x=\"1869\" y=\"-304.8\" font-family=\"Helvetica,sans-Serif\" font-size=\"14.00\">value = [17, 1]</text>\n</g>\n<!-- 51&#45;&gt;52 -->\n<g id=\"edge52\" class=\"edge\">\n<title>51&#45;&gt;52</title>\n<path fill=\"none\" stroke=\"black\" d=\"M1869,-400.88C1869,-392.78 1869,-383.98 1869,-375.47\"/>\n<polygon fill=\"black\" stroke=\"black\" points=\"1872.5,-375.3 1869,-365.3 1865.5,-375.3 1872.5,-375.3\"/>\n</g>\n<!-- 57 -->\n<g id=\"node58\" class=\"node\">\n<title>57</title>\n<path fill=\"#399de5\" stroke=\"black\" d=\"M2068,-357.5C2068,-357.5 1996,-357.5 1996,-357.5 1990,-357.5 1984,-351.5 1984,-345.5 1984,-345.5 1984,-316.5 1984,-316.5 1984,-310.5 1990,-304.5 1996,-304.5 1996,-304.5 2068,-304.5 2068,-304.5 2074,-304.5 2080,-310.5 2080,-316.5 2080,-316.5 2080,-345.5 2080,-345.5 2080,-351.5 2074,-357.5 2068,-357.5\"/>\n<text text-anchor=\"middle\" x=\"2032\" y=\"-342.3\" font-family=\"Helvetica,sans-Serif\" font-size=\"14.00\">entropy = 0.0</text>\n<text text-anchor=\"middle\" x=\"2032\" y=\"-327.3\" font-family=\"Helvetica,sans-Serif\" font-size=\"14.00\">samples = 1</text>\n<text text-anchor=\"middle\" x=\"2032\" y=\"-312.3\" font-family=\"Helvetica,sans-Serif\" font-size=\"14.00\">value = [0, 1]</text>\n</g>\n<!-- 51&#45;&gt;57 -->\n<g id=\"edge57\" class=\"edge\">\n<title>51&#45;&gt;57</title>\n<path fill=\"none\" stroke=\"black\" d=\"M1921.92,-400.88C1941.43,-388.68 1963.44,-374.9 1982.62,-362.9\"/>\n<polygon fill=\"black\" stroke=\"black\" points=\"1984.6,-365.79 1991.22,-357.52 1980.88,-359.86 1984.6,-365.79\"/>\n</g>\n<!-- 53 -->\n<g id=\"node54\" class=\"node\">\n<title>53</title>\n<path fill=\"#ffffff\" stroke=\"black\" d=\"M1954,-261C1954,-261 1784,-261 1784,-261 1778,-261 1772,-255 1772,-249 1772,-249 1772,-205 1772,-205 1772,-199 1778,-193 1784,-193 1784,-193 1954,-193 1954,-193 1960,-193 1966,-199 1966,-205 1966,-205 1966,-249 1966,-249 1966,-255 1960,-261 1954,-261\"/>\n<text text-anchor=\"middle\" x=\"1869\" y=\"-245.8\" font-family=\"Helvetica,sans-Serif\" font-size=\"14.00\">Budget(INR) &lt;= 882690016.0</text>\n<text text-anchor=\"middle\" x=\"1869\" y=\"-230.8\" font-family=\"Helvetica,sans-Serif\" font-size=\"14.00\">entropy = 1.0</text>\n<text text-anchor=\"middle\" x=\"1869\" y=\"-215.8\" font-family=\"Helvetica,sans-Serif\" font-size=\"14.00\">samples = 2</text>\n<text text-anchor=\"middle\" x=\"1869\" y=\"-200.8\" font-family=\"Helvetica,sans-Serif\" font-size=\"14.00\">value = [1, 1]</text>\n</g>\n<!-- 52&#45;&gt;53 -->\n<g id=\"edge53\" class=\"edge\">\n<title>52&#45;&gt;53</title>\n<path fill=\"none\" stroke=\"black\" d=\"M1869,-296.88C1869,-288.78 1869,-279.98 1869,-271.47\"/>\n<polygon fill=\"black\" stroke=\"black\" points=\"1872.5,-271.3 1869,-261.3 1865.5,-271.3 1872.5,-271.3\"/>\n</g>\n<!-- 56 -->\n<g id=\"node57\" class=\"node\">\n<title>56</title>\n<path fill=\"#e58139\" stroke=\"black\" d=\"M2074,-253.5C2074,-253.5 1996,-253.5 1996,-253.5 1990,-253.5 1984,-247.5 1984,-241.5 1984,-241.5 1984,-212.5 1984,-212.5 1984,-206.5 1990,-200.5 1996,-200.5 1996,-200.5 2074,-200.5 2074,-200.5 2080,-200.5 2086,-206.5 2086,-212.5 2086,-212.5 2086,-241.5 2086,-241.5 2086,-247.5 2080,-253.5 2074,-253.5\"/>\n<text text-anchor=\"middle\" x=\"2035\" y=\"-238.3\" font-family=\"Helvetica,sans-Serif\" font-size=\"14.00\">entropy = 0.0</text>\n<text text-anchor=\"middle\" x=\"2035\" y=\"-223.3\" font-family=\"Helvetica,sans-Serif\" font-size=\"14.00\">samples = 16</text>\n<text text-anchor=\"middle\" x=\"2035\" y=\"-208.3\" font-family=\"Helvetica,sans-Serif\" font-size=\"14.00\">value = [16, 0]</text>\n</g>\n<!-- 52&#45;&gt;56 -->\n<g id=\"edge56\" class=\"edge\">\n<title>52&#45;&gt;56</title>\n<path fill=\"none\" stroke=\"black\" d=\"M1922.9,-296.88C1942.76,-284.68 1965.18,-270.9 1984.71,-258.9\"/>\n<polygon fill=\"black\" stroke=\"black\" points=\"1986.78,-261.74 1993.47,-253.52 1983.12,-255.77 1986.78,-261.74\"/>\n</g>\n<!-- 54 -->\n<g id=\"node55\" class=\"node\">\n<title>54</title>\n<path fill=\"#e58139\" stroke=\"black\" d=\"M1905,-149.5C1905,-149.5 1833,-149.5 1833,-149.5 1827,-149.5 1821,-143.5 1821,-137.5 1821,-137.5 1821,-108.5 1821,-108.5 1821,-102.5 1827,-96.5 1833,-96.5 1833,-96.5 1905,-96.5 1905,-96.5 1911,-96.5 1917,-102.5 1917,-108.5 1917,-108.5 1917,-137.5 1917,-137.5 1917,-143.5 1911,-149.5 1905,-149.5\"/>\n<text text-anchor=\"middle\" x=\"1869\" y=\"-134.3\" font-family=\"Helvetica,sans-Serif\" font-size=\"14.00\">entropy = 0.0</text>\n<text text-anchor=\"middle\" x=\"1869\" y=\"-119.3\" font-family=\"Helvetica,sans-Serif\" font-size=\"14.00\">samples = 1</text>\n<text text-anchor=\"middle\" x=\"1869\" y=\"-104.3\" font-family=\"Helvetica,sans-Serif\" font-size=\"14.00\">value = [1, 0]</text>\n</g>\n<!-- 53&#45;&gt;54 -->\n<g id=\"edge54\" class=\"edge\">\n<title>53&#45;&gt;54</title>\n<path fill=\"none\" stroke=\"black\" d=\"M1869,-192.88C1869,-182.33 1869,-170.6 1869,-159.85\"/>\n<polygon fill=\"black\" stroke=\"black\" points=\"1872.5,-159.52 1869,-149.52 1865.5,-159.52 1872.5,-159.52\"/>\n</g>\n<!-- 55 -->\n<g id=\"node56\" class=\"node\">\n<title>55</title>\n<path fill=\"#399de5\" stroke=\"black\" d=\"M2019,-149.5C2019,-149.5 1947,-149.5 1947,-149.5 1941,-149.5 1935,-143.5 1935,-137.5 1935,-137.5 1935,-108.5 1935,-108.5 1935,-102.5 1941,-96.5 1947,-96.5 1947,-96.5 2019,-96.5 2019,-96.5 2025,-96.5 2031,-102.5 2031,-108.5 2031,-108.5 2031,-137.5 2031,-137.5 2031,-143.5 2025,-149.5 2019,-149.5\"/>\n<text text-anchor=\"middle\" x=\"1983\" y=\"-134.3\" font-family=\"Helvetica,sans-Serif\" font-size=\"14.00\">entropy = 0.0</text>\n<text text-anchor=\"middle\" x=\"1983\" y=\"-119.3\" font-family=\"Helvetica,sans-Serif\" font-size=\"14.00\">samples = 1</text>\n<text text-anchor=\"middle\" x=\"1983\" y=\"-104.3\" font-family=\"Helvetica,sans-Serif\" font-size=\"14.00\">value = [0, 1]</text>\n</g>\n<!-- 53&#45;&gt;55 -->\n<g id=\"edge55\" class=\"edge\">\n<title>53&#45;&gt;55</title>\n<path fill=\"none\" stroke=\"black\" d=\"M1906.01,-192.88C1919.16,-181.12 1933.94,-167.89 1947.01,-156.2\"/>\n<polygon fill=\"black\" stroke=\"black\" points=\"1949.36,-158.8 1954.48,-149.52 1944.69,-153.58 1949.36,-158.8\"/>\n</g>\n</g>\n</svg>\n",
            "text/plain": [
              "<graphviz.sources.Source at 0x78a88b2dae90>"
            ]
          },
          "metadata": {},
          "execution_count": 461
        }
      ]
    },
    {
      "cell_type": "markdown",
      "source": [
        "## 8. **Naive Bayes Classifier**"
      ],
      "metadata": {
        "id": "88zkW-5gUTwj"
      }
    },
    {
      "cell_type": "markdown",
      "source": [
        "#### -Import Packages"
      ],
      "metadata": {
        "id": "dI_wM4ifUXwN"
      }
    },
    {
      "cell_type": "markdown",
      "source": [
        "- `GaussianNB`: Implements Naive Bayes classification."
      ],
      "metadata": {
        "id": "PhKPXJ3JUa1h"
      }
    },
    {
      "cell_type": "code",
      "source": [
        "from sklearn.naive_bayes import GaussianNB\n",
        "from sklearn.metrics import accuracy_score, classification_report, confusion_matrix"
      ],
      "metadata": {
        "id": "8iOFsSlBQF0l"
      },
      "execution_count": 462,
      "outputs": []
    },
    {
      "cell_type": "markdown",
      "source": [
        "#### - Train the model"
      ],
      "metadata": {
        "id": "U28hfn94Uv_w"
      }
    },
    {
      "cell_type": "markdown",
      "source": [
        "- Trains a Gaussian Naive Bayes classifier.\n",
        "\n",
        "- Measures execution time and memory usage."
      ],
      "metadata": {
        "id": "G9m3Cd21Up9o"
      }
    },
    {
      "cell_type": "code",
      "source": [
        "time_start = time.time()\n",
        "tracemalloc.start()\n",
        "nb_classifier = GaussianNB()\n",
        "nb_classifier.fit(X_train, y_train)\n",
        "nb_memory, _ = tracemalloc.get_traced_memory()\n",
        "nb_time = time.time() - time_start\n",
        "tracemalloc.stop()"
      ],
      "metadata": {
        "id": "FfJfreIbVr-4"
      },
      "execution_count": 463,
      "outputs": []
    },
    {
      "cell_type": "code",
      "source": [
        "nb_classifier"
      ],
      "metadata": {
        "colab": {
          "base_uri": "https://localhost:8080/",
          "height": 80
        },
        "id": "k7qhW_cxQcqv",
        "outputId": "b4d87e90-9096-410e-ccd9-f10ef401d8b7"
      },
      "execution_count": 464,
      "outputs": [
        {
          "output_type": "execute_result",
          "data": {
            "text/plain": [
              "GaussianNB()"
            ],
            "text/html": [
              "<style>#sk-container-id-14 {\n",
              "  /* Definition of color scheme common for light and dark mode */\n",
              "  --sklearn-color-text: #000;\n",
              "  --sklearn-color-text-muted: #666;\n",
              "  --sklearn-color-line: gray;\n",
              "  /* Definition of color scheme for unfitted estimators */\n",
              "  --sklearn-color-unfitted-level-0: #fff5e6;\n",
              "  --sklearn-color-unfitted-level-1: #f6e4d2;\n",
              "  --sklearn-color-unfitted-level-2: #ffe0b3;\n",
              "  --sklearn-color-unfitted-level-3: chocolate;\n",
              "  /* Definition of color scheme for fitted estimators */\n",
              "  --sklearn-color-fitted-level-0: #f0f8ff;\n",
              "  --sklearn-color-fitted-level-1: #d4ebff;\n",
              "  --sklearn-color-fitted-level-2: #b3dbfd;\n",
              "  --sklearn-color-fitted-level-3: cornflowerblue;\n",
              "\n",
              "  /* Specific color for light theme */\n",
              "  --sklearn-color-text-on-default-background: var(--sg-text-color, var(--theme-code-foreground, var(--jp-content-font-color1, black)));\n",
              "  --sklearn-color-background: var(--sg-background-color, var(--theme-background, var(--jp-layout-color0, white)));\n",
              "  --sklearn-color-border-box: var(--sg-text-color, var(--theme-code-foreground, var(--jp-content-font-color1, black)));\n",
              "  --sklearn-color-icon: #696969;\n",
              "\n",
              "  @media (prefers-color-scheme: dark) {\n",
              "    /* Redefinition of color scheme for dark theme */\n",
              "    --sklearn-color-text-on-default-background: var(--sg-text-color, var(--theme-code-foreground, var(--jp-content-font-color1, white)));\n",
              "    --sklearn-color-background: var(--sg-background-color, var(--theme-background, var(--jp-layout-color0, #111)));\n",
              "    --sklearn-color-border-box: var(--sg-text-color, var(--theme-code-foreground, var(--jp-content-font-color1, white)));\n",
              "    --sklearn-color-icon: #878787;\n",
              "  }\n",
              "}\n",
              "\n",
              "#sk-container-id-14 {\n",
              "  color: var(--sklearn-color-text);\n",
              "}\n",
              "\n",
              "#sk-container-id-14 pre {\n",
              "  padding: 0;\n",
              "}\n",
              "\n",
              "#sk-container-id-14 input.sk-hidden--visually {\n",
              "  border: 0;\n",
              "  clip: rect(1px 1px 1px 1px);\n",
              "  clip: rect(1px, 1px, 1px, 1px);\n",
              "  height: 1px;\n",
              "  margin: -1px;\n",
              "  overflow: hidden;\n",
              "  padding: 0;\n",
              "  position: absolute;\n",
              "  width: 1px;\n",
              "}\n",
              "\n",
              "#sk-container-id-14 div.sk-dashed-wrapped {\n",
              "  border: 1px dashed var(--sklearn-color-line);\n",
              "  margin: 0 0.4em 0.5em 0.4em;\n",
              "  box-sizing: border-box;\n",
              "  padding-bottom: 0.4em;\n",
              "  background-color: var(--sklearn-color-background);\n",
              "}\n",
              "\n",
              "#sk-container-id-14 div.sk-container {\n",
              "  /* jupyter's `normalize.less` sets `[hidden] { display: none; }`\n",
              "     but bootstrap.min.css set `[hidden] { display: none !important; }`\n",
              "     so we also need the `!important` here to be able to override the\n",
              "     default hidden behavior on the sphinx rendered scikit-learn.org.\n",
              "     See: https://github.com/scikit-learn/scikit-learn/issues/21755 */\n",
              "  display: inline-block !important;\n",
              "  position: relative;\n",
              "}\n",
              "\n",
              "#sk-container-id-14 div.sk-text-repr-fallback {\n",
              "  display: none;\n",
              "}\n",
              "\n",
              "div.sk-parallel-item,\n",
              "div.sk-serial,\n",
              "div.sk-item {\n",
              "  /* draw centered vertical line to link estimators */\n",
              "  background-image: linear-gradient(var(--sklearn-color-text-on-default-background), var(--sklearn-color-text-on-default-background));\n",
              "  background-size: 2px 100%;\n",
              "  background-repeat: no-repeat;\n",
              "  background-position: center center;\n",
              "}\n",
              "\n",
              "/* Parallel-specific style estimator block */\n",
              "\n",
              "#sk-container-id-14 div.sk-parallel-item::after {\n",
              "  content: \"\";\n",
              "  width: 100%;\n",
              "  border-bottom: 2px solid var(--sklearn-color-text-on-default-background);\n",
              "  flex-grow: 1;\n",
              "}\n",
              "\n",
              "#sk-container-id-14 div.sk-parallel {\n",
              "  display: flex;\n",
              "  align-items: stretch;\n",
              "  justify-content: center;\n",
              "  background-color: var(--sklearn-color-background);\n",
              "  position: relative;\n",
              "}\n",
              "\n",
              "#sk-container-id-14 div.sk-parallel-item {\n",
              "  display: flex;\n",
              "  flex-direction: column;\n",
              "}\n",
              "\n",
              "#sk-container-id-14 div.sk-parallel-item:first-child::after {\n",
              "  align-self: flex-end;\n",
              "  width: 50%;\n",
              "}\n",
              "\n",
              "#sk-container-id-14 div.sk-parallel-item:last-child::after {\n",
              "  align-self: flex-start;\n",
              "  width: 50%;\n",
              "}\n",
              "\n",
              "#sk-container-id-14 div.sk-parallel-item:only-child::after {\n",
              "  width: 0;\n",
              "}\n",
              "\n",
              "/* Serial-specific style estimator block */\n",
              "\n",
              "#sk-container-id-14 div.sk-serial {\n",
              "  display: flex;\n",
              "  flex-direction: column;\n",
              "  align-items: center;\n",
              "  background-color: var(--sklearn-color-background);\n",
              "  padding-right: 1em;\n",
              "  padding-left: 1em;\n",
              "}\n",
              "\n",
              "\n",
              "/* Toggleable style: style used for estimator/Pipeline/ColumnTransformer box that is\n",
              "clickable and can be expanded/collapsed.\n",
              "- Pipeline and ColumnTransformer use this feature and define the default style\n",
              "- Estimators will overwrite some part of the style using the `sk-estimator` class\n",
              "*/\n",
              "\n",
              "/* Pipeline and ColumnTransformer style (default) */\n",
              "\n",
              "#sk-container-id-14 div.sk-toggleable {\n",
              "  /* Default theme specific background. It is overwritten whether we have a\n",
              "  specific estimator or a Pipeline/ColumnTransformer */\n",
              "  background-color: var(--sklearn-color-background);\n",
              "}\n",
              "\n",
              "/* Toggleable label */\n",
              "#sk-container-id-14 label.sk-toggleable__label {\n",
              "  cursor: pointer;\n",
              "  display: flex;\n",
              "  width: 100%;\n",
              "  margin-bottom: 0;\n",
              "  padding: 0.5em;\n",
              "  box-sizing: border-box;\n",
              "  text-align: center;\n",
              "  align-items: start;\n",
              "  justify-content: space-between;\n",
              "  gap: 0.5em;\n",
              "}\n",
              "\n",
              "#sk-container-id-14 label.sk-toggleable__label .caption {\n",
              "  font-size: 0.6rem;\n",
              "  font-weight: lighter;\n",
              "  color: var(--sklearn-color-text-muted);\n",
              "}\n",
              "\n",
              "#sk-container-id-14 label.sk-toggleable__label-arrow:before {\n",
              "  /* Arrow on the left of the label */\n",
              "  content: \"▸\";\n",
              "  float: left;\n",
              "  margin-right: 0.25em;\n",
              "  color: var(--sklearn-color-icon);\n",
              "}\n",
              "\n",
              "#sk-container-id-14 label.sk-toggleable__label-arrow:hover:before {\n",
              "  color: var(--sklearn-color-text);\n",
              "}\n",
              "\n",
              "/* Toggleable content - dropdown */\n",
              "\n",
              "#sk-container-id-14 div.sk-toggleable__content {\n",
              "  max-height: 0;\n",
              "  max-width: 0;\n",
              "  overflow: hidden;\n",
              "  text-align: left;\n",
              "  /* unfitted */\n",
              "  background-color: var(--sklearn-color-unfitted-level-0);\n",
              "}\n",
              "\n",
              "#sk-container-id-14 div.sk-toggleable__content.fitted {\n",
              "  /* fitted */\n",
              "  background-color: var(--sklearn-color-fitted-level-0);\n",
              "}\n",
              "\n",
              "#sk-container-id-14 div.sk-toggleable__content pre {\n",
              "  margin: 0.2em;\n",
              "  border-radius: 0.25em;\n",
              "  color: var(--sklearn-color-text);\n",
              "  /* unfitted */\n",
              "  background-color: var(--sklearn-color-unfitted-level-0);\n",
              "}\n",
              "\n",
              "#sk-container-id-14 div.sk-toggleable__content.fitted pre {\n",
              "  /* unfitted */\n",
              "  background-color: var(--sklearn-color-fitted-level-0);\n",
              "}\n",
              "\n",
              "#sk-container-id-14 input.sk-toggleable__control:checked~div.sk-toggleable__content {\n",
              "  /* Expand drop-down */\n",
              "  max-height: 200px;\n",
              "  max-width: 100%;\n",
              "  overflow: auto;\n",
              "}\n",
              "\n",
              "#sk-container-id-14 input.sk-toggleable__control:checked~label.sk-toggleable__label-arrow:before {\n",
              "  content: \"▾\";\n",
              "}\n",
              "\n",
              "/* Pipeline/ColumnTransformer-specific style */\n",
              "\n",
              "#sk-container-id-14 div.sk-label input.sk-toggleable__control:checked~label.sk-toggleable__label {\n",
              "  color: var(--sklearn-color-text);\n",
              "  background-color: var(--sklearn-color-unfitted-level-2);\n",
              "}\n",
              "\n",
              "#sk-container-id-14 div.sk-label.fitted input.sk-toggleable__control:checked~label.sk-toggleable__label {\n",
              "  background-color: var(--sklearn-color-fitted-level-2);\n",
              "}\n",
              "\n",
              "/* Estimator-specific style */\n",
              "\n",
              "/* Colorize estimator box */\n",
              "#sk-container-id-14 div.sk-estimator input.sk-toggleable__control:checked~label.sk-toggleable__label {\n",
              "  /* unfitted */\n",
              "  background-color: var(--sklearn-color-unfitted-level-2);\n",
              "}\n",
              "\n",
              "#sk-container-id-14 div.sk-estimator.fitted input.sk-toggleable__control:checked~label.sk-toggleable__label {\n",
              "  /* fitted */\n",
              "  background-color: var(--sklearn-color-fitted-level-2);\n",
              "}\n",
              "\n",
              "#sk-container-id-14 div.sk-label label.sk-toggleable__label,\n",
              "#sk-container-id-14 div.sk-label label {\n",
              "  /* The background is the default theme color */\n",
              "  color: var(--sklearn-color-text-on-default-background);\n",
              "}\n",
              "\n",
              "/* On hover, darken the color of the background */\n",
              "#sk-container-id-14 div.sk-label:hover label.sk-toggleable__label {\n",
              "  color: var(--sklearn-color-text);\n",
              "  background-color: var(--sklearn-color-unfitted-level-2);\n",
              "}\n",
              "\n",
              "/* Label box, darken color on hover, fitted */\n",
              "#sk-container-id-14 div.sk-label.fitted:hover label.sk-toggleable__label.fitted {\n",
              "  color: var(--sklearn-color-text);\n",
              "  background-color: var(--sklearn-color-fitted-level-2);\n",
              "}\n",
              "\n",
              "/* Estimator label */\n",
              "\n",
              "#sk-container-id-14 div.sk-label label {\n",
              "  font-family: monospace;\n",
              "  font-weight: bold;\n",
              "  display: inline-block;\n",
              "  line-height: 1.2em;\n",
              "}\n",
              "\n",
              "#sk-container-id-14 div.sk-label-container {\n",
              "  text-align: center;\n",
              "}\n",
              "\n",
              "/* Estimator-specific */\n",
              "#sk-container-id-14 div.sk-estimator {\n",
              "  font-family: monospace;\n",
              "  border: 1px dotted var(--sklearn-color-border-box);\n",
              "  border-radius: 0.25em;\n",
              "  box-sizing: border-box;\n",
              "  margin-bottom: 0.5em;\n",
              "  /* unfitted */\n",
              "  background-color: var(--sklearn-color-unfitted-level-0);\n",
              "}\n",
              "\n",
              "#sk-container-id-14 div.sk-estimator.fitted {\n",
              "  /* fitted */\n",
              "  background-color: var(--sklearn-color-fitted-level-0);\n",
              "}\n",
              "\n",
              "/* on hover */\n",
              "#sk-container-id-14 div.sk-estimator:hover {\n",
              "  /* unfitted */\n",
              "  background-color: var(--sklearn-color-unfitted-level-2);\n",
              "}\n",
              "\n",
              "#sk-container-id-14 div.sk-estimator.fitted:hover {\n",
              "  /* fitted */\n",
              "  background-color: var(--sklearn-color-fitted-level-2);\n",
              "}\n",
              "\n",
              "/* Specification for estimator info (e.g. \"i\" and \"?\") */\n",
              "\n",
              "/* Common style for \"i\" and \"?\" */\n",
              "\n",
              ".sk-estimator-doc-link,\n",
              "a:link.sk-estimator-doc-link,\n",
              "a:visited.sk-estimator-doc-link {\n",
              "  float: right;\n",
              "  font-size: smaller;\n",
              "  line-height: 1em;\n",
              "  font-family: monospace;\n",
              "  background-color: var(--sklearn-color-background);\n",
              "  border-radius: 1em;\n",
              "  height: 1em;\n",
              "  width: 1em;\n",
              "  text-decoration: none !important;\n",
              "  margin-left: 0.5em;\n",
              "  text-align: center;\n",
              "  /* unfitted */\n",
              "  border: var(--sklearn-color-unfitted-level-1) 1pt solid;\n",
              "  color: var(--sklearn-color-unfitted-level-1);\n",
              "}\n",
              "\n",
              ".sk-estimator-doc-link.fitted,\n",
              "a:link.sk-estimator-doc-link.fitted,\n",
              "a:visited.sk-estimator-doc-link.fitted {\n",
              "  /* fitted */\n",
              "  border: var(--sklearn-color-fitted-level-1) 1pt solid;\n",
              "  color: var(--sklearn-color-fitted-level-1);\n",
              "}\n",
              "\n",
              "/* On hover */\n",
              "div.sk-estimator:hover .sk-estimator-doc-link:hover,\n",
              ".sk-estimator-doc-link:hover,\n",
              "div.sk-label-container:hover .sk-estimator-doc-link:hover,\n",
              ".sk-estimator-doc-link:hover {\n",
              "  /* unfitted */\n",
              "  background-color: var(--sklearn-color-unfitted-level-3);\n",
              "  color: var(--sklearn-color-background);\n",
              "  text-decoration: none;\n",
              "}\n",
              "\n",
              "div.sk-estimator.fitted:hover .sk-estimator-doc-link.fitted:hover,\n",
              ".sk-estimator-doc-link.fitted:hover,\n",
              "div.sk-label-container:hover .sk-estimator-doc-link.fitted:hover,\n",
              ".sk-estimator-doc-link.fitted:hover {\n",
              "  /* fitted */\n",
              "  background-color: var(--sklearn-color-fitted-level-3);\n",
              "  color: var(--sklearn-color-background);\n",
              "  text-decoration: none;\n",
              "}\n",
              "\n",
              "/* Span, style for the box shown on hovering the info icon */\n",
              ".sk-estimator-doc-link span {\n",
              "  display: none;\n",
              "  z-index: 9999;\n",
              "  position: relative;\n",
              "  font-weight: normal;\n",
              "  right: .2ex;\n",
              "  padding: .5ex;\n",
              "  margin: .5ex;\n",
              "  width: min-content;\n",
              "  min-width: 20ex;\n",
              "  max-width: 50ex;\n",
              "  color: var(--sklearn-color-text);\n",
              "  box-shadow: 2pt 2pt 4pt #999;\n",
              "  /* unfitted */\n",
              "  background: var(--sklearn-color-unfitted-level-0);\n",
              "  border: .5pt solid var(--sklearn-color-unfitted-level-3);\n",
              "}\n",
              "\n",
              ".sk-estimator-doc-link.fitted span {\n",
              "  /* fitted */\n",
              "  background: var(--sklearn-color-fitted-level-0);\n",
              "  border: var(--sklearn-color-fitted-level-3);\n",
              "}\n",
              "\n",
              ".sk-estimator-doc-link:hover span {\n",
              "  display: block;\n",
              "}\n",
              "\n",
              "/* \"?\"-specific style due to the `<a>` HTML tag */\n",
              "\n",
              "#sk-container-id-14 a.estimator_doc_link {\n",
              "  float: right;\n",
              "  font-size: 1rem;\n",
              "  line-height: 1em;\n",
              "  font-family: monospace;\n",
              "  background-color: var(--sklearn-color-background);\n",
              "  border-radius: 1rem;\n",
              "  height: 1rem;\n",
              "  width: 1rem;\n",
              "  text-decoration: none;\n",
              "  /* unfitted */\n",
              "  color: var(--sklearn-color-unfitted-level-1);\n",
              "  border: var(--sklearn-color-unfitted-level-1) 1pt solid;\n",
              "}\n",
              "\n",
              "#sk-container-id-14 a.estimator_doc_link.fitted {\n",
              "  /* fitted */\n",
              "  border: var(--sklearn-color-fitted-level-1) 1pt solid;\n",
              "  color: var(--sklearn-color-fitted-level-1);\n",
              "}\n",
              "\n",
              "/* On hover */\n",
              "#sk-container-id-14 a.estimator_doc_link:hover {\n",
              "  /* unfitted */\n",
              "  background-color: var(--sklearn-color-unfitted-level-3);\n",
              "  color: var(--sklearn-color-background);\n",
              "  text-decoration: none;\n",
              "}\n",
              "\n",
              "#sk-container-id-14 a.estimator_doc_link.fitted:hover {\n",
              "  /* fitted */\n",
              "  background-color: var(--sklearn-color-fitted-level-3);\n",
              "}\n",
              "</style><div id=\"sk-container-id-14\" class=\"sk-top-container\"><div class=\"sk-text-repr-fallback\"><pre>GaussianNB()</pre><b>In a Jupyter environment, please rerun this cell to show the HTML representation or trust the notebook. <br />On GitHub, the HTML representation is unable to render, please try loading this page with nbviewer.org.</b></div><div class=\"sk-container\" hidden><div class=\"sk-item\"><div class=\"sk-estimator fitted sk-toggleable\"><input class=\"sk-toggleable__control sk-hidden--visually\" id=\"sk-estimator-id-14\" type=\"checkbox\" checked><label for=\"sk-estimator-id-14\" class=\"sk-toggleable__label fitted sk-toggleable__label-arrow\"><div><div>GaussianNB</div></div><div><a class=\"sk-estimator-doc-link fitted\" rel=\"noreferrer\" target=\"_blank\" href=\"https://scikit-learn.org/1.6/modules/generated/sklearn.naive_bayes.GaussianNB.html\">?<span>Documentation for GaussianNB</span></a><span class=\"sk-estimator-doc-link fitted\">i<span>Fitted</span></span></div></label><div class=\"sk-toggleable__content fitted\"><pre>GaussianNB()</pre></div> </div></div></div></div>"
            ]
          },
          "metadata": {},
          "execution_count": 464
        }
      ]
    },
    {
      "cell_type": "markdown",
      "source": [
        "- Predictions"
      ],
      "metadata": {
        "id": "kdpD8NubUyVh"
      }
    },
    {
      "cell_type": "markdown",
      "source": [
        "- `nb_classifier.predict(X_test)`\n",
        "  - Uses the trained Naïve Bayes classifier (nb_classifier) to predict class labels for X_test.\n",
        "  - Returns an array of predicted class values (0 or 1 for binary classification)."
      ],
      "metadata": {
        "id": "TnTtcMgWU5HQ"
      }
    },
    {
      "cell_type": "code",
      "source": [
        "y_pred_nb = nb_classifier.predict(X_test)"
      ],
      "metadata": {
        "id": "C_1WhrnsfU2j"
      },
      "execution_count": 465,
      "outputs": []
    },
    {
      "cell_type": "markdown",
      "source": [
        "- Evaluate the model\n"
      ],
      "metadata": {
        "id": "B3h0aE7ZU1RQ"
      }
    },
    {
      "cell_type": "code",
      "source": [
        "nb_accuracy = accuracy_score(y_test, y_pred_nb)\n",
        "print(f\"Naive Bayes Accuracy: {nb_accuracy:.4f}\")\n",
        "print(f\"Naive Bayes Time Taken: {nb_time:.4f} seconds\")\n",
        "print(f\"Naive Bayes Memory Used: {nb_memory / 1e6:.2f} MB\")\n"
      ],
      "metadata": {
        "colab": {
          "base_uri": "https://localhost:8080/"
        },
        "id": "SmpIEjyAZiTo",
        "outputId": "6c4c7de7-80e3-4aa3-8e36-1fb2bf03f561"
      },
      "execution_count": 466,
      "outputs": [
        {
          "output_type": "stream",
          "name": "stdout",
          "text": [
            "Naive Bayes Accuracy: 0.9029\n",
            "Naive Bayes Time Taken: 0.0176 seconds\n",
            "Naive Bayes Memory Used: 0.00 MB\n"
          ]
        }
      ]
    },
    {
      "cell_type": "markdown",
      "source": [
        "## 9.  **Comparision of Decision trees using Ginni Index, Entropy and Naive Baye's Classifier**"
      ],
      "metadata": {
        "id": "yTdQ2dDhU9wU"
      }
    },
    {
      "cell_type": "markdown",
      "source": [
        "### 9.1 Confusion Matrix"
      ],
      "metadata": {
        "id": "LzqF9jjIVC0q"
      }
    },
    {
      "cell_type": "markdown",
      "source": [
        "- `classification_report`, `confusion_matrix`: Evaluates model performance."
      ],
      "metadata": {
        "id": "MgeTnPq-VGev"
      }
    },
    {
      "cell_type": "code",
      "source": [
        "import seaborn as sns\n",
        "from sklearn.metrics import roc_curve, auc, precision_recall_curve\n"
      ],
      "metadata": {
        "id": "MwksLrZQU74N"
      },
      "execution_count": 467,
      "outputs": []
    },
    {
      "cell_type": "markdown",
      "source": [
        "#### Confusion Matrix for Ginni's Coefficient"
      ],
      "metadata": {
        "id": "Sk9-hw5CVJYv"
      }
    },
    {
      "cell_type": "code",
      "source": [
        "print(classification_report(y_test, y_pred_gini))"
      ],
      "metadata": {
        "colab": {
          "base_uri": "https://localhost:8080/"
        },
        "id": "poPUQUV8VBSf",
        "outputId": "12803e06-348f-4d17-a310-7be0b7e9446f"
      },
      "execution_count": 468,
      "outputs": [
        {
          "output_type": "stream",
          "name": "stdout",
          "text": [
            "              precision    recall  f1-score   support\n",
            "\n",
            "           0       0.84      0.97      0.90        87\n",
            "           1       0.99      0.94      0.96       253\n",
            "\n",
            "    accuracy                           0.94       340\n",
            "   macro avg       0.91      0.95      0.93       340\n",
            "weighted avg       0.95      0.94      0.95       340\n",
            "\n"
          ]
        }
      ]
    },
    {
      "cell_type": "code",
      "source": [
        "# Plot Confusion Matrix\n",
        "plt.figure(figsize=(6,4))\n",
        "sns.heatmap(confusion_matrix(y_test, y_pred_gini), annot=True, fmt='d', cmap='Greys', xticklabels=['No', 'Yes'], yticklabels=['No', 'Yes'])\n",
        "plt.xlabel(\"Predicted\")\n",
        "plt.ylabel(\"Actual\")\n",
        "plt.title(\"Confusion Matrix\")\n",
        "save_fig(\"confusion_matrix\")\n",
        "plt.show()"
      ],
      "metadata": {
        "colab": {
          "base_uri": "https://localhost:8080/",
          "height": 395
        },
        "id": "V99QaBUyZlfi",
        "outputId": "f3660c35-4faa-4df7-9e05-b9622b419d39"
      },
      "execution_count": 469,
      "outputs": [
        {
          "output_type": "display_data",
          "data": {
            "text/plain": [
              "<Figure size 600x400 with 2 Axes>"
            ],
            "image/png": "[encoded data removed]"
          },
          "metadata": {}
        }
      ]
    },
    {
      "cell_type": "markdown",
      "source": [
        "#### Confusion Matrix for Entropy"
      ],
      "metadata": {
        "id": "Zhi7Ox7xVPME"
      }
    },
    {
      "cell_type": "code",
      "source": [
        "print(classification_report(y_test, y_pred_entropy))"
      ],
      "metadata": {
        "colab": {
          "base_uri": "https://localhost:8080/"
        },
        "id": "LdDPX1l2VA5r",
        "outputId": "690f9f0f-8929-477f-b6db-a836823a6cc5"
      },
      "execution_count": 470,
      "outputs": [
        {
          "output_type": "stream",
          "name": "stdout",
          "text": [
            "              precision    recall  f1-score   support\n",
            "\n",
            "           0       0.88      0.97      0.92        87\n",
            "           1       0.99      0.95      0.97       253\n",
            "\n",
            "    accuracy                           0.96       340\n",
            "   macro avg       0.93      0.96      0.94       340\n",
            "weighted avg       0.96      0.96      0.96       340\n",
            "\n"
          ]
        }
      ]
    },
    {
      "cell_type": "code",
      "source": [
        "# Plot Confusion Matrix\n",
        "plt.figure(figsize=(6,4))\n",
        "sns.heatmap(confusion_matrix(y_test, y_pred_entropy), annot=True, fmt='d', cmap='Reds', xticklabels=['No', 'Yes'], yticklabels=['No', 'Yes'])\n",
        "plt.xlabel(\"Predicted\")\n",
        "plt.ylabel(\"Actual\")\n",
        "plt.title(\"Confusion Matrix\")\n",
        "save_fig(\"confusion_matrix\")\n",
        "plt.show()"
      ],
      "metadata": {
        "colab": {
          "base_uri": "https://localhost:8080/",
          "height": 395
        },
        "id": "zPP8jQvwZlDB",
        "outputId": "58d51752-57ce-4d21-db4d-ef87e8855f7c"
      },
      "execution_count": 471,
      "outputs": [
        {
          "output_type": "display_data",
          "data": {
            "text/plain": [
              "<Figure size 600x400 with 2 Axes>"
            ],
            "image/png": "[encoded data removed]"
          },
          "metadata": {}
        }
      ]
    },
    {
      "cell_type": "markdown",
      "source": [
        "#### Confusion Matrix for Naive Bayes Classifier"
      ],
      "metadata": {
        "id": "fcXtM6JBVTnD"
      }
    },
    {
      "cell_type": "code",
      "source": [
        "print(classification_report(y_test, y_pred_nb))"
      ],
      "metadata": {
        "colab": {
          "base_uri": "https://localhost:8080/"
        },
        "id": "0jLcVegmVAfG",
        "outputId": "b9b52e15-ed34-47ca-9c10-f1d3e3f8576d"
      },
      "execution_count": 472,
      "outputs": [
        {
          "output_type": "stream",
          "name": "stdout",
          "text": [
            "              precision    recall  f1-score   support\n",
            "\n",
            "           0       0.86      0.75      0.80        87\n",
            "           1       0.92      0.96      0.94       253\n",
            "\n",
            "    accuracy                           0.90       340\n",
            "   macro avg       0.89      0.85      0.87       340\n",
            "weighted avg       0.90      0.90      0.90       340\n",
            "\n"
          ]
        }
      ]
    },
    {
      "cell_type": "code",
      "source": [
        "plt.figure(figsize=(6,4))\n",
        "sns.heatmap(confusion_matrix(y_test, y_pred_nb), annot=True, fmt='d', cmap='Blues', xticklabels=['No', 'Yes'], yticklabels=['No', 'Yes'])\n",
        "plt.xlabel(\"Predicted\")\n",
        "plt.ylabel(\"Actual\")\n",
        "plt.title(\"Confusion Matrix\")\n",
        "save_fig(\"confusion_matrix\")\n",
        "plt.show()"
      ],
      "metadata": {
        "colab": {
          "base_uri": "https://localhost:8080/",
          "height": 395
        },
        "id": "AYlJ1DwFQqTe",
        "outputId": "8625038c-0920-48fa-fb39-0d90207c52e4"
      },
      "execution_count": 473,
      "outputs": [
        {
          "output_type": "display_data",
          "data": {
            "text/plain": [
              "<Figure size 600x400 with 2 Axes>"
            ],
            "image/png": "[encoded data removed]"
          },
          "metadata": {}
        }
      ]
    },
    {
      "cell_type": "markdown",
      "source": [
        "### 9.2 Compare model accuracies and performance"
      ],
      "metadata": {
        "id": "sWRrgSJNVXiv"
      }
    },
    {
      "cell_type": "code",
      "source": [
        "print(\"\\nModel Comparison:\")\n",
        "print(f\"Decision Tree (Gini) Accuracy: {dt_gini_accuracy:.4f}, Time: {gini_time:.4f}s, Memory: {gini_memory / 1e6:.2f}MB\")\n",
        "print(f\"Decision Tree (Entropy) Accuracy: {dt_entropy_accuracy:.4f}, Time: {entropy_time:.4f}s, Memory: {entropy_memory / 1e6:.2f}MB\")\n",
        "print(f\"Naive Bayes Accuracy: {nb_accuracy:.4f}, Time: {nb_time:.4f}s, Memory: {nb_memory / 1e6:.2f}MB\")"
      ],
      "metadata": {
        "colab": {
          "base_uri": "https://localhost:8080/"
        },
        "id": "E4nAIP30RjfJ",
        "outputId": "27cd2de0-d203-4e09-a663-cbc6c95290a4"
      },
      "execution_count": 474,
      "outputs": [
        {
          "output_type": "stream",
          "name": "stdout",
          "text": [
            "\n",
            "Model Comparison:\n",
            "Decision Tree (Gini) Accuracy: 0.9441, Time: 0.0200s, Memory: 0.00MB\n",
            "Decision Tree (Entropy) Accuracy: 0.9559, Time: 0.0233s, Memory: 0.00MB\n",
            "Naive Bayes Accuracy: 0.9029, Time: 0.0176s, Memory: 0.00MB\n"
          ]
        }
      ]
    },
    {
      "cell_type": "markdown",
      "source": [
        "### 9.3 Probabilities for ROC and Precision-Recall curves"
      ],
      "metadata": {
        "id": "FMde8iKlVcj2"
      }
    },
    {
      "cell_type": "code",
      "source": [
        "y_prob_nb = nb_classifier.predict_proba(X_test)[:, 1]\n",
        "y_prob_gini = tree_clf_gini.predict_proba(X_test)[:, 1]\n",
        "y_prob_entropy = tree_clf_entropy.predict_proba(X_test)[:, 1]"
      ],
      "metadata": {
        "id": "OXGWgPf4YC32"
      },
      "execution_count": 475,
      "outputs": []
    },
    {
      "cell_type": "markdown",
      "source": [
        "### 9.4 ROC Curve\n",
        "\n",
        "- `roc_curve`: Generates performance evaluation curves."
      ],
      "metadata": {
        "id": "aYuL4ZKfVgvd"
      }
    },
    {
      "cell_type": "code",
      "source": [
        "plt.figure(figsize=(8,6))\n",
        "fpr_gini, tpr_gini, _ = roc_curve(y_test, y_pred_gini)\n",
        "fpr_entropy, tpr_entropy, _ = roc_curve(y_test, y_pred_entropy)\n",
        "fpr_nb, tpr_nb, _ = roc_curve(y_test, y_pred_nb)\n",
        "plt.plot(fpr_gini, tpr_gini, label=\"Decision Tree (Gini)\")\n",
        "plt.plot(fpr_entropy, tpr_entropy, label=\"Decision Tree (Entropy)\")\n",
        "plt.plot(fpr_nb, tpr_nb, label=\"Naive Bayes\")\n",
        "plt.xlabel(\"False Positive Rate\")\n",
        "plt.ylabel(\"True Positive Rate\")\n",
        "plt.title(\"ROC Curve\")\n",
        "plt.legend()\n",
        "save_fig(\"roc_curve\")\n",
        "plt.show()"
      ],
      "metadata": {
        "colab": {
          "base_uri": "https://localhost:8080/",
          "height": 594
        },
        "id": "9RHrtcfCX3T7",
        "outputId": "af68f526-489b-4afa-d4a7-8f161782d76a"
      },
      "execution_count": 476,
      "outputs": [
        {
          "output_type": "display_data",
          "data": {
            "text/plain": [
              "<Figure size 800x600 with 1 Axes>"
            ],
            "image/png": "[encoded data removed]"
          },
          "metadata": {}
        }
      ]
    },
    {
      "cell_type": "markdown",
      "source": [
        "The ROC curve compares the performance of Decision Tree (Gini & Entropy) and Naïve Bayes classifiers in terms of True Positive Rate vs. False Positive Rate.\n",
        "\n",
        "- Decision Tree models (blue & orange) achieve higher performance with steep curves, indicating better discrimination between classes.\n",
        "- Naïve Bayes (green) performs worse, with a more gradual curve, likely due to feature distribution assumptions being violated."
      ],
      "metadata": {
        "id": "f_e-TB0hV0nv"
      }
    },
    {
      "cell_type": "markdown",
      "source": [
        "### 9.5 Precision-Recall Curve\n",
        "\n",
        "- `precision_recall_curve`: Generates performance evaluation curves."
      ],
      "metadata": {
        "id": "1GHgV7ePVmkB"
      }
    },
    {
      "cell_type": "code",
      "source": [
        "plt.figure(figsize=(8,6))\n",
        "prec_gini, recall_gini, _ = precision_recall_curve(y_test, y_prob_gini)\n",
        "prec_entropy, recall_entropy, _ = precision_recall_curve(y_test, y_prob_entropy)\n",
        "prec_nb, recall_nb, _ = precision_recall_curve(y_test, y_prob_nb)\n",
        "plt.plot(recall_gini, prec_gini, label=\"Decision Tree (Gini)\")\n",
        "plt.plot(recall_entropy, prec_entropy, label=\"Decision Tree (Entropy)\")\n",
        "plt.plot(recall_nb, prec_nb, label=\"Naive Bayes\")\n",
        "plt.xlabel(\"Recall\")\n",
        "plt.ylabel(\"Precision\")\n",
        "plt.title(\"Precision-Recall Curve\")\n",
        "plt.legend()\n",
        "save_fig(\"precision_recall_curve\")\n",
        "plt.show()"
      ],
      "metadata": {
        "colab": {
          "base_uri": "https://localhost:8080/",
          "height": 594
        },
        "id": "U85Kiw_GXAkQ",
        "outputId": "b53e6a34-1c42-49f3-b80f-127d1db74a62"
      },
      "execution_count": 477,
      "outputs": [
        {
          "output_type": "display_data",
          "data": {
            "text/plain": [
              "<Figure size 800x600 with 1 Axes>"
            ],
            "image/png": "[encoded data removed]"
          },
          "metadata": {}
        }
      ]
    },
    {
      "cell_type": "markdown",
      "source": [
        "The Precision-Recall Curve compares the trade-off between precision and recall for Decision Tree (Gini & Entropy) and Naïve Bayes classifiers.\n",
        "\n",
        "- Decision Tree models (blue & orange) maintain high precision across all recall values, indicating strong classification performance.\n",
        "- Naïve Bayes (green) shows more variability and a sharp drop in precision at higher recall, suggesting it struggles with imbalanced data or incorrect probability estimations."
      ],
      "metadata": {
        "id": "XJq3PbSSWCpG"
      }
    },
    {
      "cell_type": "markdown",
      "source": [
        "## 10. **Conclusion**\n",
        "\n",
        "In this analysis, we compared Decision Tree (Gini), Decision Tree (Entropy), and Naive Bayes classifiers on a bank marketing dataset. The key observations are:\n",
        "\n",
        "\n",
        "- Decision Trees (Gini & Entropy) outperform Naïve Bayes in terms of accuracy, with Gini (94.41%) slightly better than Entropy (94.12%), while Naïve Bayes lags behind at 90.29%.\n",
        "- Decision Trees achieve better precision-recall performance, maintaining high precision across different recall values, whereas Naïve Bayes struggles with recall and shows more fluctuations in precision.\n",
        "- Naïve Bayes is slightly faster (0.0097s) and uses minimal memory (0.01MB), making it efficient for large datasets, but the performance trade-off is noticeable.\n",
        "- Decision Tree (Gini) is the best choice, offering the highest accuracy, balanced precision-recall, and reasonable computational efficiency. However, Naïve Bayes may still be useful for fast, probabilistic classification on well-preprocessed data.\n"
      ],
      "metadata": {
        "id": "zUFvTblWVsm1"
      }
    }
  ]
}